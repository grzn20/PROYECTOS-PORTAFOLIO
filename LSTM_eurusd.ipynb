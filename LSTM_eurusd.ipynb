{
  "nbformat": 4,
  "nbformat_minor": 0,
  "metadata": {
    "colab": {
      "provenance": [],
      "mount_file_id": "1vp2e0lNxLeo8S59vRqcnbOH_ssGSR6-K",
      "authorship_tag": "ABX9TyOGZ4s+wFXTWPHZqytRFze9",
      "include_colab_link": true
    },
    "kernelspec": {
      "name": "python3",
      "display_name": "Python 3"
    },
    "language_info": {
      "name": "python"
    }
  },
  "cells": [
    {
      "cell_type": "markdown",
      "metadata": {
        "id": "view-in-github",
        "colab_type": "text"
      },
      "source": [
        "<a href=\"https://colab.research.google.com/github/grzn20/PROYECTOS-PORTAFOLIO/blob/main/LSTM_eurusd.ipynb\" target=\"_parent\"><img src=\"https://colab.research.google.com/assets/colab-badge.svg\" alt=\"Open In Colab\"/></a>"
      ]
    },
    {
      "cell_type": "code",
      "execution_count": null,
      "metadata": {
        "id": "XehJeIOwTWen"
      },
      "outputs": [],
      "source": [
        "# Este codigo una red neuronal artificial llamada memoria a largo plazo o LSTM que usaremos para predecir el precio de cierre del par de divisas EURUSD\n",
        "# y nosotros usaremos el precio a partir del año 2000."
      ]
    },
    {
      "cell_type": "markdown",
      "source": [
        "#Librerias"
      ],
      "metadata": {
        "id": "RO6WTAZRVaFO"
      }
    },
    {
      "cell_type": "code",
      "source": [
        "#importamos librerias\n",
        "import math\n",
        "import pandas as pd\n",
        "import numpy as np\n",
        "from sklearn.preprocessing import  MinMaxScaler\n",
        "from keras.models import Sequential\n",
        "from keras.layers import Dense, LSTM\n",
        "import matplotlib.pyplot as plt\n"
      ],
      "metadata": {
        "id": "U7V0ctloVc4h"
      },
      "execution_count": 163,
      "outputs": []
    },
    {
      "cell_type": "markdown",
      "source": [
        "#Limpieza y Procesamiento de los datos"
      ],
      "metadata": {
        "id": "IikpUlSBbdaN"
      }
    },
    {
      "cell_type": "code",
      "source": [
        "#todos nuestro datos fueron extraidos de https://es.investing.com/currencies/eur-usd-historical-data\n",
        "#cargamos la data\n",
        "df = pd.read_csv('/content/drive/MyDrive/datasets/Datos históricos EUR_USD.csv')\n",
        "df"
      ],
      "metadata": {
        "colab": {
          "base_uri": "https://localhost:8080/",
          "height": 424
        },
        "id": "jYTUIdV0YZsT",
        "outputId": "abf23abb-78ce-40d0-d882-c6b6254ae9a4"
      },
      "execution_count": 301,
      "outputs": [
        {
          "output_type": "execute_result",
          "data": {
            "text/plain": [
              "           Fecha  Último Apertura  Máximo  Mínimo     Vol.  % var.\n",
              "0     01.03.2019  1,1377   1,1372  1,1410  1,1353  156,73K   0,05%\n",
              "1     28.02.2019  1,1371   1,1371  1,1421  1,1357  160,78K   0,02%\n",
              "2     27.02.2019  1,1369   1,1396  1,1404  1,1360  151,86K  -0,16%\n",
              "3     26.02.2019  1,1387   1,1366  1,1404  1,1343  142,08K   0,25%\n",
              "4     25.02.2019  1,1359   1,1338  1,1369  1,1323  130,22K   0,14%\n",
              "...          ...     ...      ...     ...     ...      ...     ...\n",
              "4995  07.01.2000  1,0292   1,0327  1,0333  1,0252      NaN  -0,31%\n",
              "4996  06.01.2000  1,0324   1,0325  1,0419  1,0275      NaN   0,08%\n",
              "4997  05.01.2000  1,0316   1,0295  1,0404  1,0282      NaN   0,04%\n",
              "4998  04.01.2000  1,0312   1,0244  1,0347  1,0213      NaN   0,46%\n",
              "4999  03.01.2000  1,0265   1,0052  1,0282  1,0050      NaN   1,89%\n",
              "\n",
              "[5000 rows x 7 columns]"
            ],
            "text/html": [
              "\n",
              "  <div id=\"df-91f3ec21-07bd-487a-b7ce-94b33470efc9\">\n",
              "    <div class=\"colab-df-container\">\n",
              "      <div>\n",
              "<style scoped>\n",
              "    .dataframe tbody tr th:only-of-type {\n",
              "        vertical-align: middle;\n",
              "    }\n",
              "\n",
              "    .dataframe tbody tr th {\n",
              "        vertical-align: top;\n",
              "    }\n",
              "\n",
              "    .dataframe thead th {\n",
              "        text-align: right;\n",
              "    }\n",
              "</style>\n",
              "<table border=\"1\" class=\"dataframe\">\n",
              "  <thead>\n",
              "    <tr style=\"text-align: right;\">\n",
              "      <th></th>\n",
              "      <th>Fecha</th>\n",
              "      <th>Último</th>\n",
              "      <th>Apertura</th>\n",
              "      <th>Máximo</th>\n",
              "      <th>Mínimo</th>\n",
              "      <th>Vol.</th>\n",
              "      <th>% var.</th>\n",
              "    </tr>\n",
              "  </thead>\n",
              "  <tbody>\n",
              "    <tr>\n",
              "      <th>0</th>\n",
              "      <td>01.03.2019</td>\n",
              "      <td>1,1377</td>\n",
              "      <td>1,1372</td>\n",
              "      <td>1,1410</td>\n",
              "      <td>1,1353</td>\n",
              "      <td>156,73K</td>\n",
              "      <td>0,05%</td>\n",
              "    </tr>\n",
              "    <tr>\n",
              "      <th>1</th>\n",
              "      <td>28.02.2019</td>\n",
              "      <td>1,1371</td>\n",
              "      <td>1,1371</td>\n",
              "      <td>1,1421</td>\n",
              "      <td>1,1357</td>\n",
              "      <td>160,78K</td>\n",
              "      <td>0,02%</td>\n",
              "    </tr>\n",
              "    <tr>\n",
              "      <th>2</th>\n",
              "      <td>27.02.2019</td>\n",
              "      <td>1,1369</td>\n",
              "      <td>1,1396</td>\n",
              "      <td>1,1404</td>\n",
              "      <td>1,1360</td>\n",
              "      <td>151,86K</td>\n",
              "      <td>-0,16%</td>\n",
              "    </tr>\n",
              "    <tr>\n",
              "      <th>3</th>\n",
              "      <td>26.02.2019</td>\n",
              "      <td>1,1387</td>\n",
              "      <td>1,1366</td>\n",
              "      <td>1,1404</td>\n",
              "      <td>1,1343</td>\n",
              "      <td>142,08K</td>\n",
              "      <td>0,25%</td>\n",
              "    </tr>\n",
              "    <tr>\n",
              "      <th>4</th>\n",
              "      <td>25.02.2019</td>\n",
              "      <td>1,1359</td>\n",
              "      <td>1,1338</td>\n",
              "      <td>1,1369</td>\n",
              "      <td>1,1323</td>\n",
              "      <td>130,22K</td>\n",
              "      <td>0,14%</td>\n",
              "    </tr>\n",
              "    <tr>\n",
              "      <th>...</th>\n",
              "      <td>...</td>\n",
              "      <td>...</td>\n",
              "      <td>...</td>\n",
              "      <td>...</td>\n",
              "      <td>...</td>\n",
              "      <td>...</td>\n",
              "      <td>...</td>\n",
              "    </tr>\n",
              "    <tr>\n",
              "      <th>4995</th>\n",
              "      <td>07.01.2000</td>\n",
              "      <td>1,0292</td>\n",
              "      <td>1,0327</td>\n",
              "      <td>1,0333</td>\n",
              "      <td>1,0252</td>\n",
              "      <td>NaN</td>\n",
              "      <td>-0,31%</td>\n",
              "    </tr>\n",
              "    <tr>\n",
              "      <th>4996</th>\n",
              "      <td>06.01.2000</td>\n",
              "      <td>1,0324</td>\n",
              "      <td>1,0325</td>\n",
              "      <td>1,0419</td>\n",
              "      <td>1,0275</td>\n",
              "      <td>NaN</td>\n",
              "      <td>0,08%</td>\n",
              "    </tr>\n",
              "    <tr>\n",
              "      <th>4997</th>\n",
              "      <td>05.01.2000</td>\n",
              "      <td>1,0316</td>\n",
              "      <td>1,0295</td>\n",
              "      <td>1,0404</td>\n",
              "      <td>1,0282</td>\n",
              "      <td>NaN</td>\n",
              "      <td>0,04%</td>\n",
              "    </tr>\n",
              "    <tr>\n",
              "      <th>4998</th>\n",
              "      <td>04.01.2000</td>\n",
              "      <td>1,0312</td>\n",
              "      <td>1,0244</td>\n",
              "      <td>1,0347</td>\n",
              "      <td>1,0213</td>\n",
              "      <td>NaN</td>\n",
              "      <td>0,46%</td>\n",
              "    </tr>\n",
              "    <tr>\n",
              "      <th>4999</th>\n",
              "      <td>03.01.2000</td>\n",
              "      <td>1,0265</td>\n",
              "      <td>1,0052</td>\n",
              "      <td>1,0282</td>\n",
              "      <td>1,0050</td>\n",
              "      <td>NaN</td>\n",
              "      <td>1,89%</td>\n",
              "    </tr>\n",
              "  </tbody>\n",
              "</table>\n",
              "<p>5000 rows × 7 columns</p>\n",
              "</div>\n",
              "      <button class=\"colab-df-convert\" onclick=\"convertToInteractive('df-91f3ec21-07bd-487a-b7ce-94b33470efc9')\"\n",
              "              title=\"Convert this dataframe to an interactive table.\"\n",
              "              style=\"display:none;\">\n",
              "        \n",
              "  <svg xmlns=\"http://www.w3.org/2000/svg\" height=\"24px\"viewBox=\"0 0 24 24\"\n",
              "       width=\"24px\">\n",
              "    <path d=\"M0 0h24v24H0V0z\" fill=\"none\"/>\n",
              "    <path d=\"M18.56 5.44l.94 2.06.94-2.06 2.06-.94-2.06-.94-.94-2.06-.94 2.06-2.06.94zm-11 1L8.5 8.5l.94-2.06 2.06-.94-2.06-.94L8.5 2.5l-.94 2.06-2.06.94zm10 10l.94 2.06.94-2.06 2.06-.94-2.06-.94-.94-2.06-.94 2.06-2.06.94z\"/><path d=\"M17.41 7.96l-1.37-1.37c-.4-.4-.92-.59-1.43-.59-.52 0-1.04.2-1.43.59L10.3 9.45l-7.72 7.72c-.78.78-.78 2.05 0 2.83L4 21.41c.39.39.9.59 1.41.59.51 0 1.02-.2 1.41-.59l7.78-7.78 2.81-2.81c.8-.78.8-2.07 0-2.86zM5.41 20L4 18.59l7.72-7.72 1.47 1.35L5.41 20z\"/>\n",
              "  </svg>\n",
              "      </button>\n",
              "      \n",
              "  <style>\n",
              "    .colab-df-container {\n",
              "      display:flex;\n",
              "      flex-wrap:wrap;\n",
              "      gap: 12px;\n",
              "    }\n",
              "\n",
              "    .colab-df-convert {\n",
              "      background-color: #E8F0FE;\n",
              "      border: none;\n",
              "      border-radius: 50%;\n",
              "      cursor: pointer;\n",
              "      display: none;\n",
              "      fill: #1967D2;\n",
              "      height: 32px;\n",
              "      padding: 0 0 0 0;\n",
              "      width: 32px;\n",
              "    }\n",
              "\n",
              "    .colab-df-convert:hover {\n",
              "      background-color: #E2EBFA;\n",
              "      box-shadow: 0px 1px 2px rgba(60, 64, 67, 0.3), 0px 1px 3px 1px rgba(60, 64, 67, 0.15);\n",
              "      fill: #174EA6;\n",
              "    }\n",
              "\n",
              "    [theme=dark] .colab-df-convert {\n",
              "      background-color: #3B4455;\n",
              "      fill: #D2E3FC;\n",
              "    }\n",
              "\n",
              "    [theme=dark] .colab-df-convert:hover {\n",
              "      background-color: #434B5C;\n",
              "      box-shadow: 0px 1px 3px 1px rgba(0, 0, 0, 0.15);\n",
              "      filter: drop-shadow(0px 1px 2px rgba(0, 0, 0, 0.3));\n",
              "      fill: #FFFFFF;\n",
              "    }\n",
              "  </style>\n",
              "\n",
              "      <script>\n",
              "        const buttonEl =\n",
              "          document.querySelector('#df-91f3ec21-07bd-487a-b7ce-94b33470efc9 button.colab-df-convert');\n",
              "        buttonEl.style.display =\n",
              "          google.colab.kernel.accessAllowed ? 'block' : 'none';\n",
              "\n",
              "        async function convertToInteractive(key) {\n",
              "          const element = document.querySelector('#df-91f3ec21-07bd-487a-b7ce-94b33470efc9');\n",
              "          const dataTable =\n",
              "            await google.colab.kernel.invokeFunction('convertToInteractive',\n",
              "                                                     [key], {});\n",
              "          if (!dataTable) return;\n",
              "\n",
              "          const docLinkHtml = 'Like what you see? Visit the ' +\n",
              "            '<a target=\"_blank\" href=https://colab.research.google.com/notebooks/data_table.ipynb>data table notebook</a>'\n",
              "            + ' to learn more about interactive tables.';\n",
              "          element.innerHTML = '';\n",
              "          dataTable['output_type'] = 'display_data';\n",
              "          await google.colab.output.renderOutput(dataTable, element);\n",
              "          const docLink = document.createElement('div');\n",
              "          docLink.innerHTML = docLinkHtml;\n",
              "          element.appendChild(docLink);\n",
              "        }\n",
              "      </script>\n",
              "    </div>\n",
              "  </div>\n",
              "  "
            ]
          },
          "metadata": {},
          "execution_count": 301
        }
      ]
    },
    {
      "cell_type": "code",
      "source": [
        "#verificamos los tipos de datos\n",
        "df.info()"
      ],
      "metadata": {
        "colab": {
          "base_uri": "https://localhost:8080/"
        },
        "id": "Ksk2ohdjapio",
        "outputId": "f3fea2db-5c2c-4deb-a322-8e4f33f0ce73"
      },
      "execution_count": 302,
      "outputs": [
        {
          "output_type": "stream",
          "name": "stdout",
          "text": [
            "<class 'pandas.core.frame.DataFrame'>\n",
            "RangeIndex: 5000 entries, 0 to 4999\n",
            "Data columns (total 7 columns):\n",
            " #   Column    Non-Null Count  Dtype \n",
            "---  ------    --------------  ----- \n",
            " 0   Fecha     5000 non-null   object\n",
            " 1   Último    5000 non-null   object\n",
            " 2   Apertura  5000 non-null   object\n",
            " 3   Máximo    5000 non-null   object\n",
            " 4   Mínimo    5000 non-null   object\n",
            " 5   Vol.      42 non-null     object\n",
            " 6   % var.    5000 non-null   object\n",
            "dtypes: object(7)\n",
            "memory usage: 273.6+ KB\n"
          ]
        }
      ]
    },
    {
      "cell_type": "markdown",
      "source": [
        "Tenemos en todas las columnas como Dtype: object y necesitamos que los datos esten como numericos para su procesamiento. Tambien necesitamos que fecha esta como Datatime."
      ],
      "metadata": {
        "id": "qfn8VEAabEW3"
      }
    },
    {
      "cell_type": "code",
      "source": [
        "#Convertimos la columna 'Fecha' de string a Datetime indicando que el primer valor es el día\n",
        "df['Fecha'] = pd.to_datetime(df['Fecha'],errors='raise', dayfirst=True, yearfirst=False, utc=None, format=None, exact=True, unit=None, infer_datetime_format=False, origin='unix', cache=True)\n",
        "df.info()\n",
        "df['Fecha']"
      ],
      "metadata": {
        "colab": {
          "base_uri": "https://localhost:8080/"
        },
        "id": "B8WV39qFbseu",
        "outputId": "0838f57d-f22f-49b7-88bc-8095b603a13b"
      },
      "execution_count": 303,
      "outputs": [
        {
          "output_type": "stream",
          "name": "stdout",
          "text": [
            "<class 'pandas.core.frame.DataFrame'>\n",
            "RangeIndex: 5000 entries, 0 to 4999\n",
            "Data columns (total 7 columns):\n",
            " #   Column    Non-Null Count  Dtype         \n",
            "---  ------    --------------  -----         \n",
            " 0   Fecha     5000 non-null   datetime64[ns]\n",
            " 1   Último    5000 non-null   object        \n",
            " 2   Apertura  5000 non-null   object        \n",
            " 3   Máximo    5000 non-null   object        \n",
            " 4   Mínimo    5000 non-null   object        \n",
            " 5   Vol.      42 non-null     object        \n",
            " 6   % var.    5000 non-null   object        \n",
            "dtypes: datetime64[ns](1), object(6)\n",
            "memory usage: 273.6+ KB\n"
          ]
        },
        {
          "output_type": "execute_result",
          "data": {
            "text/plain": [
              "0      2019-03-01\n",
              "1      2019-02-28\n",
              "2      2019-02-27\n",
              "3      2019-02-26\n",
              "4      2019-02-25\n",
              "          ...    \n",
              "4995   2000-01-07\n",
              "4996   2000-01-06\n",
              "4997   2000-01-05\n",
              "4998   2000-01-04\n",
              "4999   2000-01-03\n",
              "Name: Fecha, Length: 5000, dtype: datetime64[ns]"
            ]
          },
          "metadata": {},
          "execution_count": 303
        }
      ]
    },
    {
      "cell_type": "code",
      "source": [
        "#Transformamos las columnas 'Ultimo', 'Apertura', 'Maximo', 'Minimo' a Float\n",
        "for i in range(5000):\n",
        "    numero = df['Último'][i]\n",
        "    df['Último'][i] = numero.replace(',','.')\n",
        "df['Último'] = pd.to_numeric(df['Último'])\n",
        "\n",
        "for i in range(5000):\n",
        "    numero = df['Apertura'][i]\n",
        "    df['Apertura'][i] = numero.replace(',','.')\n",
        "df['Apertura'] = pd.to_numeric(df['Apertura'])\n",
        "\n",
        "for i in range(5000):\n",
        "    numero = df['Máximo'][i]\n",
        "    df['Máximo'][i] = numero.replace(',','.')\n",
        "df['Máximo'] = pd.to_numeric(df['Máximo'])\n",
        "\n",
        "for i in range(5000):\n",
        "    numero = df['Mínimo'][i]\n",
        "    df['Mínimo'][i] = numero.replace(',','.')\n",
        "df['Mínimo'] = pd.to_numeric(df['Mínimo'])\n",
        "\n",
        "df.info()"
      ],
      "metadata": {
        "colab": {
          "base_uri": "https://localhost:8080/"
        },
        "id": "A0sN0CeqqhTz",
        "outputId": "a3341b42-114e-4415-e2aa-e07794012ac5"
      },
      "execution_count": 304,
      "outputs": [
        {
          "output_type": "stream",
          "name": "stderr",
          "text": [
            "/usr/local/lib/python3.7/dist-packages/ipykernel_launcher.py:4: SettingWithCopyWarning: \n",
            "A value is trying to be set on a copy of a slice from a DataFrame\n",
            "\n",
            "See the caveats in the documentation: https://pandas.pydata.org/pandas-docs/stable/user_guide/indexing.html#returning-a-view-versus-a-copy\n",
            "  after removing the cwd from sys.path.\n",
            "/usr/local/lib/python3.7/dist-packages/ipykernel_launcher.py:9: SettingWithCopyWarning: \n",
            "A value is trying to be set on a copy of a slice from a DataFrame\n",
            "\n",
            "See the caveats in the documentation: https://pandas.pydata.org/pandas-docs/stable/user_guide/indexing.html#returning-a-view-versus-a-copy\n",
            "  if __name__ == '__main__':\n",
            "/usr/local/lib/python3.7/dist-packages/ipykernel_launcher.py:14: SettingWithCopyWarning: \n",
            "A value is trying to be set on a copy of a slice from a DataFrame\n",
            "\n",
            "See the caveats in the documentation: https://pandas.pydata.org/pandas-docs/stable/user_guide/indexing.html#returning-a-view-versus-a-copy\n",
            "  \n",
            "/usr/local/lib/python3.7/dist-packages/ipykernel_launcher.py:19: SettingWithCopyWarning: \n",
            "A value is trying to be set on a copy of a slice from a DataFrame\n",
            "\n",
            "See the caveats in the documentation: https://pandas.pydata.org/pandas-docs/stable/user_guide/indexing.html#returning-a-view-versus-a-copy\n"
          ]
        },
        {
          "output_type": "stream",
          "name": "stdout",
          "text": [
            "<class 'pandas.core.frame.DataFrame'>\n",
            "RangeIndex: 5000 entries, 0 to 4999\n",
            "Data columns (total 7 columns):\n",
            " #   Column    Non-Null Count  Dtype         \n",
            "---  ------    --------------  -----         \n",
            " 0   Fecha     5000 non-null   datetime64[ns]\n",
            " 1   Último    5000 non-null   float64       \n",
            " 2   Apertura  5000 non-null   float64       \n",
            " 3   Máximo    5000 non-null   float64       \n",
            " 4   Mínimo    5000 non-null   float64       \n",
            " 5   Vol.      42 non-null     object        \n",
            " 6   % var.    5000 non-null   object        \n",
            "dtypes: datetime64[ns](1), float64(4), object(2)\n",
            "memory usage: 273.6+ KB\n"
          ]
        }
      ]
    },
    {
      "cell_type": "code",
      "source": [
        "#Eliminamos las columnas que no usariamos como Vol por la cantidad de datos faltantes y % var. por que no sera de uso para nuestro modelo neuronal\n",
        "df = df.drop(columns=['Vol.'])\n",
        "df = df.drop(columns=['% var.'])\n",
        "df"
      ],
      "metadata": {
        "colab": {
          "base_uri": "https://localhost:8080/",
          "height": 424
        },
        "id": "lHAMfvBX1r6_",
        "outputId": "4dfbe9fe-d50b-465e-c797-2b6882e8ae8b"
      },
      "execution_count": 305,
      "outputs": [
        {
          "output_type": "execute_result",
          "data": {
            "text/plain": [
              "          Fecha  Último  Apertura  Máximo  Mínimo\n",
              "0    2019-03-01  1.1377    1.1372  1.1410  1.1353\n",
              "1    2019-02-28  1.1371    1.1371  1.1421  1.1357\n",
              "2    2019-02-27  1.1369    1.1396  1.1404  1.1360\n",
              "3    2019-02-26  1.1387    1.1366  1.1404  1.1343\n",
              "4    2019-02-25  1.1359    1.1338  1.1369  1.1323\n",
              "...         ...     ...       ...     ...     ...\n",
              "4995 2000-01-07  1.0292    1.0327  1.0333  1.0252\n",
              "4996 2000-01-06  1.0324    1.0325  1.0419  1.0275\n",
              "4997 2000-01-05  1.0316    1.0295  1.0404  1.0282\n",
              "4998 2000-01-04  1.0312    1.0244  1.0347  1.0213\n",
              "4999 2000-01-03  1.0265    1.0052  1.0282  1.0050\n",
              "\n",
              "[5000 rows x 5 columns]"
            ],
            "text/html": [
              "\n",
              "  <div id=\"df-24c5962f-dc6d-42b5-9126-f533b42fe9ef\">\n",
              "    <div class=\"colab-df-container\">\n",
              "      <div>\n",
              "<style scoped>\n",
              "    .dataframe tbody tr th:only-of-type {\n",
              "        vertical-align: middle;\n",
              "    }\n",
              "\n",
              "    .dataframe tbody tr th {\n",
              "        vertical-align: top;\n",
              "    }\n",
              "\n",
              "    .dataframe thead th {\n",
              "        text-align: right;\n",
              "    }\n",
              "</style>\n",
              "<table border=\"1\" class=\"dataframe\">\n",
              "  <thead>\n",
              "    <tr style=\"text-align: right;\">\n",
              "      <th></th>\n",
              "      <th>Fecha</th>\n",
              "      <th>Último</th>\n",
              "      <th>Apertura</th>\n",
              "      <th>Máximo</th>\n",
              "      <th>Mínimo</th>\n",
              "    </tr>\n",
              "  </thead>\n",
              "  <tbody>\n",
              "    <tr>\n",
              "      <th>0</th>\n",
              "      <td>2019-03-01</td>\n",
              "      <td>1.1377</td>\n",
              "      <td>1.1372</td>\n",
              "      <td>1.1410</td>\n",
              "      <td>1.1353</td>\n",
              "    </tr>\n",
              "    <tr>\n",
              "      <th>1</th>\n",
              "      <td>2019-02-28</td>\n",
              "      <td>1.1371</td>\n",
              "      <td>1.1371</td>\n",
              "      <td>1.1421</td>\n",
              "      <td>1.1357</td>\n",
              "    </tr>\n",
              "    <tr>\n",
              "      <th>2</th>\n",
              "      <td>2019-02-27</td>\n",
              "      <td>1.1369</td>\n",
              "      <td>1.1396</td>\n",
              "      <td>1.1404</td>\n",
              "      <td>1.1360</td>\n",
              "    </tr>\n",
              "    <tr>\n",
              "      <th>3</th>\n",
              "      <td>2019-02-26</td>\n",
              "      <td>1.1387</td>\n",
              "      <td>1.1366</td>\n",
              "      <td>1.1404</td>\n",
              "      <td>1.1343</td>\n",
              "    </tr>\n",
              "    <tr>\n",
              "      <th>4</th>\n",
              "      <td>2019-02-25</td>\n",
              "      <td>1.1359</td>\n",
              "      <td>1.1338</td>\n",
              "      <td>1.1369</td>\n",
              "      <td>1.1323</td>\n",
              "    </tr>\n",
              "    <tr>\n",
              "      <th>...</th>\n",
              "      <td>...</td>\n",
              "      <td>...</td>\n",
              "      <td>...</td>\n",
              "      <td>...</td>\n",
              "      <td>...</td>\n",
              "    </tr>\n",
              "    <tr>\n",
              "      <th>4995</th>\n",
              "      <td>2000-01-07</td>\n",
              "      <td>1.0292</td>\n",
              "      <td>1.0327</td>\n",
              "      <td>1.0333</td>\n",
              "      <td>1.0252</td>\n",
              "    </tr>\n",
              "    <tr>\n",
              "      <th>4996</th>\n",
              "      <td>2000-01-06</td>\n",
              "      <td>1.0324</td>\n",
              "      <td>1.0325</td>\n",
              "      <td>1.0419</td>\n",
              "      <td>1.0275</td>\n",
              "    </tr>\n",
              "    <tr>\n",
              "      <th>4997</th>\n",
              "      <td>2000-01-05</td>\n",
              "      <td>1.0316</td>\n",
              "      <td>1.0295</td>\n",
              "      <td>1.0404</td>\n",
              "      <td>1.0282</td>\n",
              "    </tr>\n",
              "    <tr>\n",
              "      <th>4998</th>\n",
              "      <td>2000-01-04</td>\n",
              "      <td>1.0312</td>\n",
              "      <td>1.0244</td>\n",
              "      <td>1.0347</td>\n",
              "      <td>1.0213</td>\n",
              "    </tr>\n",
              "    <tr>\n",
              "      <th>4999</th>\n",
              "      <td>2000-01-03</td>\n",
              "      <td>1.0265</td>\n",
              "      <td>1.0052</td>\n",
              "      <td>1.0282</td>\n",
              "      <td>1.0050</td>\n",
              "    </tr>\n",
              "  </tbody>\n",
              "</table>\n",
              "<p>5000 rows × 5 columns</p>\n",
              "</div>\n",
              "      <button class=\"colab-df-convert\" onclick=\"convertToInteractive('df-24c5962f-dc6d-42b5-9126-f533b42fe9ef')\"\n",
              "              title=\"Convert this dataframe to an interactive table.\"\n",
              "              style=\"display:none;\">\n",
              "        \n",
              "  <svg xmlns=\"http://www.w3.org/2000/svg\" height=\"24px\"viewBox=\"0 0 24 24\"\n",
              "       width=\"24px\">\n",
              "    <path d=\"M0 0h24v24H0V0z\" fill=\"none\"/>\n",
              "    <path d=\"M18.56 5.44l.94 2.06.94-2.06 2.06-.94-2.06-.94-.94-2.06-.94 2.06-2.06.94zm-11 1L8.5 8.5l.94-2.06 2.06-.94-2.06-.94L8.5 2.5l-.94 2.06-2.06.94zm10 10l.94 2.06.94-2.06 2.06-.94-2.06-.94-.94-2.06-.94 2.06-2.06.94z\"/><path d=\"M17.41 7.96l-1.37-1.37c-.4-.4-.92-.59-1.43-.59-.52 0-1.04.2-1.43.59L10.3 9.45l-7.72 7.72c-.78.78-.78 2.05 0 2.83L4 21.41c.39.39.9.59 1.41.59.51 0 1.02-.2 1.41-.59l7.78-7.78 2.81-2.81c.8-.78.8-2.07 0-2.86zM5.41 20L4 18.59l7.72-7.72 1.47 1.35L5.41 20z\"/>\n",
              "  </svg>\n",
              "      </button>\n",
              "      \n",
              "  <style>\n",
              "    .colab-df-container {\n",
              "      display:flex;\n",
              "      flex-wrap:wrap;\n",
              "      gap: 12px;\n",
              "    }\n",
              "\n",
              "    .colab-df-convert {\n",
              "      background-color: #E8F0FE;\n",
              "      border: none;\n",
              "      border-radius: 50%;\n",
              "      cursor: pointer;\n",
              "      display: none;\n",
              "      fill: #1967D2;\n",
              "      height: 32px;\n",
              "      padding: 0 0 0 0;\n",
              "      width: 32px;\n",
              "    }\n",
              "\n",
              "    .colab-df-convert:hover {\n",
              "      background-color: #E2EBFA;\n",
              "      box-shadow: 0px 1px 2px rgba(60, 64, 67, 0.3), 0px 1px 3px 1px rgba(60, 64, 67, 0.15);\n",
              "      fill: #174EA6;\n",
              "    }\n",
              "\n",
              "    [theme=dark] .colab-df-convert {\n",
              "      background-color: #3B4455;\n",
              "      fill: #D2E3FC;\n",
              "    }\n",
              "\n",
              "    [theme=dark] .colab-df-convert:hover {\n",
              "      background-color: #434B5C;\n",
              "      box-shadow: 0px 1px 3px 1px rgba(0, 0, 0, 0.15);\n",
              "      filter: drop-shadow(0px 1px 2px rgba(0, 0, 0, 0.3));\n",
              "      fill: #FFFFFF;\n",
              "    }\n",
              "  </style>\n",
              "\n",
              "      <script>\n",
              "        const buttonEl =\n",
              "          document.querySelector('#df-24c5962f-dc6d-42b5-9126-f533b42fe9ef button.colab-df-convert');\n",
              "        buttonEl.style.display =\n",
              "          google.colab.kernel.accessAllowed ? 'block' : 'none';\n",
              "\n",
              "        async function convertToInteractive(key) {\n",
              "          const element = document.querySelector('#df-24c5962f-dc6d-42b5-9126-f533b42fe9ef');\n",
              "          const dataTable =\n",
              "            await google.colab.kernel.invokeFunction('convertToInteractive',\n",
              "                                                     [key], {});\n",
              "          if (!dataTable) return;\n",
              "\n",
              "          const docLinkHtml = 'Like what you see? Visit the ' +\n",
              "            '<a target=\"_blank\" href=https://colab.research.google.com/notebooks/data_table.ipynb>data table notebook</a>'\n",
              "            + ' to learn more about interactive tables.';\n",
              "          element.innerHTML = '';\n",
              "          dataTable['output_type'] = 'display_data';\n",
              "          await google.colab.output.renderOutput(dataTable, element);\n",
              "          const docLink = document.createElement('div');\n",
              "          docLink.innerHTML = docLinkHtml;\n",
              "          element.appendChild(docLink);\n",
              "        }\n",
              "      </script>\n",
              "    </div>\n",
              "  </div>\n",
              "  "
            ]
          },
          "metadata": {},
          "execution_count": 305
        }
      ]
    },
    {
      "cell_type": "code",
      "source": [
        "df = df.sort_values('Fecha',ascending=True)\n",
        "df.head()"
      ],
      "metadata": {
        "colab": {
          "base_uri": "https://localhost:8080/",
          "height": 206
        },
        "id": "1-pHakVvxS5x",
        "outputId": "4ed00738-93e3-4ec2-a111-41b337f47493"
      },
      "execution_count": 306,
      "outputs": [
        {
          "output_type": "execute_result",
          "data": {
            "text/plain": [
              "          Fecha  Último  Apertura  Máximo  Mínimo\n",
              "4999 2000-01-03  1.0265    1.0052  1.0282  1.0050\n",
              "4998 2000-01-04  1.0312    1.0244  1.0347  1.0213\n",
              "4997 2000-01-05  1.0316    1.0295  1.0404  1.0282\n",
              "4996 2000-01-06  1.0324    1.0325  1.0419  1.0275\n",
              "4995 2000-01-07  1.0292    1.0327  1.0333  1.0252"
            ],
            "text/html": [
              "\n",
              "  <div id=\"df-82a3b378-2528-4c35-b192-ca82277d8dc5\">\n",
              "    <div class=\"colab-df-container\">\n",
              "      <div>\n",
              "<style scoped>\n",
              "    .dataframe tbody tr th:only-of-type {\n",
              "        vertical-align: middle;\n",
              "    }\n",
              "\n",
              "    .dataframe tbody tr th {\n",
              "        vertical-align: top;\n",
              "    }\n",
              "\n",
              "    .dataframe thead th {\n",
              "        text-align: right;\n",
              "    }\n",
              "</style>\n",
              "<table border=\"1\" class=\"dataframe\">\n",
              "  <thead>\n",
              "    <tr style=\"text-align: right;\">\n",
              "      <th></th>\n",
              "      <th>Fecha</th>\n",
              "      <th>Último</th>\n",
              "      <th>Apertura</th>\n",
              "      <th>Máximo</th>\n",
              "      <th>Mínimo</th>\n",
              "    </tr>\n",
              "  </thead>\n",
              "  <tbody>\n",
              "    <tr>\n",
              "      <th>4999</th>\n",
              "      <td>2000-01-03</td>\n",
              "      <td>1.0265</td>\n",
              "      <td>1.0052</td>\n",
              "      <td>1.0282</td>\n",
              "      <td>1.0050</td>\n",
              "    </tr>\n",
              "    <tr>\n",
              "      <th>4998</th>\n",
              "      <td>2000-01-04</td>\n",
              "      <td>1.0312</td>\n",
              "      <td>1.0244</td>\n",
              "      <td>1.0347</td>\n",
              "      <td>1.0213</td>\n",
              "    </tr>\n",
              "    <tr>\n",
              "      <th>4997</th>\n",
              "      <td>2000-01-05</td>\n",
              "      <td>1.0316</td>\n",
              "      <td>1.0295</td>\n",
              "      <td>1.0404</td>\n",
              "      <td>1.0282</td>\n",
              "    </tr>\n",
              "    <tr>\n",
              "      <th>4996</th>\n",
              "      <td>2000-01-06</td>\n",
              "      <td>1.0324</td>\n",
              "      <td>1.0325</td>\n",
              "      <td>1.0419</td>\n",
              "      <td>1.0275</td>\n",
              "    </tr>\n",
              "    <tr>\n",
              "      <th>4995</th>\n",
              "      <td>2000-01-07</td>\n",
              "      <td>1.0292</td>\n",
              "      <td>1.0327</td>\n",
              "      <td>1.0333</td>\n",
              "      <td>1.0252</td>\n",
              "    </tr>\n",
              "  </tbody>\n",
              "</table>\n",
              "</div>\n",
              "      <button class=\"colab-df-convert\" onclick=\"convertToInteractive('df-82a3b378-2528-4c35-b192-ca82277d8dc5')\"\n",
              "              title=\"Convert this dataframe to an interactive table.\"\n",
              "              style=\"display:none;\">\n",
              "        \n",
              "  <svg xmlns=\"http://www.w3.org/2000/svg\" height=\"24px\"viewBox=\"0 0 24 24\"\n",
              "       width=\"24px\">\n",
              "    <path d=\"M0 0h24v24H0V0z\" fill=\"none\"/>\n",
              "    <path d=\"M18.56 5.44l.94 2.06.94-2.06 2.06-.94-2.06-.94-.94-2.06-.94 2.06-2.06.94zm-11 1L8.5 8.5l.94-2.06 2.06-.94-2.06-.94L8.5 2.5l-.94 2.06-2.06.94zm10 10l.94 2.06.94-2.06 2.06-.94-2.06-.94-.94-2.06-.94 2.06-2.06.94z\"/><path d=\"M17.41 7.96l-1.37-1.37c-.4-.4-.92-.59-1.43-.59-.52 0-1.04.2-1.43.59L10.3 9.45l-7.72 7.72c-.78.78-.78 2.05 0 2.83L4 21.41c.39.39.9.59 1.41.59.51 0 1.02-.2 1.41-.59l7.78-7.78 2.81-2.81c.8-.78.8-2.07 0-2.86zM5.41 20L4 18.59l7.72-7.72 1.47 1.35L5.41 20z\"/>\n",
              "  </svg>\n",
              "      </button>\n",
              "      \n",
              "  <style>\n",
              "    .colab-df-container {\n",
              "      display:flex;\n",
              "      flex-wrap:wrap;\n",
              "      gap: 12px;\n",
              "    }\n",
              "\n",
              "    .colab-df-convert {\n",
              "      background-color: #E8F0FE;\n",
              "      border: none;\n",
              "      border-radius: 50%;\n",
              "      cursor: pointer;\n",
              "      display: none;\n",
              "      fill: #1967D2;\n",
              "      height: 32px;\n",
              "      padding: 0 0 0 0;\n",
              "      width: 32px;\n",
              "    }\n",
              "\n",
              "    .colab-df-convert:hover {\n",
              "      background-color: #E2EBFA;\n",
              "      box-shadow: 0px 1px 2px rgba(60, 64, 67, 0.3), 0px 1px 3px 1px rgba(60, 64, 67, 0.15);\n",
              "      fill: #174EA6;\n",
              "    }\n",
              "\n",
              "    [theme=dark] .colab-df-convert {\n",
              "      background-color: #3B4455;\n",
              "      fill: #D2E3FC;\n",
              "    }\n",
              "\n",
              "    [theme=dark] .colab-df-convert:hover {\n",
              "      background-color: #434B5C;\n",
              "      box-shadow: 0px 1px 3px 1px rgba(0, 0, 0, 0.15);\n",
              "      filter: drop-shadow(0px 1px 2px rgba(0, 0, 0, 0.3));\n",
              "      fill: #FFFFFF;\n",
              "    }\n",
              "  </style>\n",
              "\n",
              "      <script>\n",
              "        const buttonEl =\n",
              "          document.querySelector('#df-82a3b378-2528-4c35-b192-ca82277d8dc5 button.colab-df-convert');\n",
              "        buttonEl.style.display =\n",
              "          google.colab.kernel.accessAllowed ? 'block' : 'none';\n",
              "\n",
              "        async function convertToInteractive(key) {\n",
              "          const element = document.querySelector('#df-82a3b378-2528-4c35-b192-ca82277d8dc5');\n",
              "          const dataTable =\n",
              "            await google.colab.kernel.invokeFunction('convertToInteractive',\n",
              "                                                     [key], {});\n",
              "          if (!dataTable) return;\n",
              "\n",
              "          const docLinkHtml = 'Like what you see? Visit the ' +\n",
              "            '<a target=\"_blank\" href=https://colab.research.google.com/notebooks/data_table.ipynb>data table notebook</a>'\n",
              "            + ' to learn more about interactive tables.';\n",
              "          element.innerHTML = '';\n",
              "          dataTable['output_type'] = 'display_data';\n",
              "          await google.colab.output.renderOutput(dataTable, element);\n",
              "          const docLink = document.createElement('div');\n",
              "          docLink.innerHTML = docLinkHtml;\n",
              "          element.appendChild(docLink);\n",
              "        }\n",
              "      </script>\n",
              "    </div>\n",
              "  </div>\n",
              "  "
            ]
          },
          "metadata": {},
          "execution_count": 306
        }
      ]
    },
    {
      "cell_type": "code",
      "source": [
        "df = df.set_index(df['Fecha'], drop=True, append=False, inplace=False, verify_integrity=False)\n",
        "df = df.drop(columns=['Fecha'])\n",
        "df"
      ],
      "metadata": {
        "id": "gYbEUTNv3lB9",
        "colab": {
          "base_uri": "https://localhost:8080/",
          "height": 455
        },
        "outputId": "88aebd57-a0f0-4105-8777-31ea9b0d7ae1"
      },
      "execution_count": 307,
      "outputs": [
        {
          "output_type": "execute_result",
          "data": {
            "text/plain": [
              "            Último  Apertura  Máximo  Mínimo\n",
              "Fecha                                       \n",
              "2000-01-03  1.0265    1.0052  1.0282  1.0050\n",
              "2000-01-04  1.0312    1.0244  1.0347  1.0213\n",
              "2000-01-05  1.0316    1.0295  1.0404  1.0282\n",
              "2000-01-06  1.0324    1.0325  1.0419  1.0275\n",
              "2000-01-07  1.0292    1.0327  1.0333  1.0252\n",
              "...            ...       ...     ...     ...\n",
              "2019-02-25  1.1359    1.1338  1.1369  1.1323\n",
              "2019-02-26  1.1387    1.1366  1.1404  1.1343\n",
              "2019-02-27  1.1369    1.1396  1.1404  1.1360\n",
              "2019-02-28  1.1371    1.1371  1.1421  1.1357\n",
              "2019-03-01  1.1377    1.1372  1.1410  1.1353\n",
              "\n",
              "[5000 rows x 4 columns]"
            ],
            "text/html": [
              "\n",
              "  <div id=\"df-836e9414-ef9a-410a-b408-dbff0b174fe7\">\n",
              "    <div class=\"colab-df-container\">\n",
              "      <div>\n",
              "<style scoped>\n",
              "    .dataframe tbody tr th:only-of-type {\n",
              "        vertical-align: middle;\n",
              "    }\n",
              "\n",
              "    .dataframe tbody tr th {\n",
              "        vertical-align: top;\n",
              "    }\n",
              "\n",
              "    .dataframe thead th {\n",
              "        text-align: right;\n",
              "    }\n",
              "</style>\n",
              "<table border=\"1\" class=\"dataframe\">\n",
              "  <thead>\n",
              "    <tr style=\"text-align: right;\">\n",
              "      <th></th>\n",
              "      <th>Último</th>\n",
              "      <th>Apertura</th>\n",
              "      <th>Máximo</th>\n",
              "      <th>Mínimo</th>\n",
              "    </tr>\n",
              "    <tr>\n",
              "      <th>Fecha</th>\n",
              "      <th></th>\n",
              "      <th></th>\n",
              "      <th></th>\n",
              "      <th></th>\n",
              "    </tr>\n",
              "  </thead>\n",
              "  <tbody>\n",
              "    <tr>\n",
              "      <th>2000-01-03</th>\n",
              "      <td>1.0265</td>\n",
              "      <td>1.0052</td>\n",
              "      <td>1.0282</td>\n",
              "      <td>1.0050</td>\n",
              "    </tr>\n",
              "    <tr>\n",
              "      <th>2000-01-04</th>\n",
              "      <td>1.0312</td>\n",
              "      <td>1.0244</td>\n",
              "      <td>1.0347</td>\n",
              "      <td>1.0213</td>\n",
              "    </tr>\n",
              "    <tr>\n",
              "      <th>2000-01-05</th>\n",
              "      <td>1.0316</td>\n",
              "      <td>1.0295</td>\n",
              "      <td>1.0404</td>\n",
              "      <td>1.0282</td>\n",
              "    </tr>\n",
              "    <tr>\n",
              "      <th>2000-01-06</th>\n",
              "      <td>1.0324</td>\n",
              "      <td>1.0325</td>\n",
              "      <td>1.0419</td>\n",
              "      <td>1.0275</td>\n",
              "    </tr>\n",
              "    <tr>\n",
              "      <th>2000-01-07</th>\n",
              "      <td>1.0292</td>\n",
              "      <td>1.0327</td>\n",
              "      <td>1.0333</td>\n",
              "      <td>1.0252</td>\n",
              "    </tr>\n",
              "    <tr>\n",
              "      <th>...</th>\n",
              "      <td>...</td>\n",
              "      <td>...</td>\n",
              "      <td>...</td>\n",
              "      <td>...</td>\n",
              "    </tr>\n",
              "    <tr>\n",
              "      <th>2019-02-25</th>\n",
              "      <td>1.1359</td>\n",
              "      <td>1.1338</td>\n",
              "      <td>1.1369</td>\n",
              "      <td>1.1323</td>\n",
              "    </tr>\n",
              "    <tr>\n",
              "      <th>2019-02-26</th>\n",
              "      <td>1.1387</td>\n",
              "      <td>1.1366</td>\n",
              "      <td>1.1404</td>\n",
              "      <td>1.1343</td>\n",
              "    </tr>\n",
              "    <tr>\n",
              "      <th>2019-02-27</th>\n",
              "      <td>1.1369</td>\n",
              "      <td>1.1396</td>\n",
              "      <td>1.1404</td>\n",
              "      <td>1.1360</td>\n",
              "    </tr>\n",
              "    <tr>\n",
              "      <th>2019-02-28</th>\n",
              "      <td>1.1371</td>\n",
              "      <td>1.1371</td>\n",
              "      <td>1.1421</td>\n",
              "      <td>1.1357</td>\n",
              "    </tr>\n",
              "    <tr>\n",
              "      <th>2019-03-01</th>\n",
              "      <td>1.1377</td>\n",
              "      <td>1.1372</td>\n",
              "      <td>1.1410</td>\n",
              "      <td>1.1353</td>\n",
              "    </tr>\n",
              "  </tbody>\n",
              "</table>\n",
              "<p>5000 rows × 4 columns</p>\n",
              "</div>\n",
              "      <button class=\"colab-df-convert\" onclick=\"convertToInteractive('df-836e9414-ef9a-410a-b408-dbff0b174fe7')\"\n",
              "              title=\"Convert this dataframe to an interactive table.\"\n",
              "              style=\"display:none;\">\n",
              "        \n",
              "  <svg xmlns=\"http://www.w3.org/2000/svg\" height=\"24px\"viewBox=\"0 0 24 24\"\n",
              "       width=\"24px\">\n",
              "    <path d=\"M0 0h24v24H0V0z\" fill=\"none\"/>\n",
              "    <path d=\"M18.56 5.44l.94 2.06.94-2.06 2.06-.94-2.06-.94-.94-2.06-.94 2.06-2.06.94zm-11 1L8.5 8.5l.94-2.06 2.06-.94-2.06-.94L8.5 2.5l-.94 2.06-2.06.94zm10 10l.94 2.06.94-2.06 2.06-.94-2.06-.94-.94-2.06-.94 2.06-2.06.94z\"/><path d=\"M17.41 7.96l-1.37-1.37c-.4-.4-.92-.59-1.43-.59-.52 0-1.04.2-1.43.59L10.3 9.45l-7.72 7.72c-.78.78-.78 2.05 0 2.83L4 21.41c.39.39.9.59 1.41.59.51 0 1.02-.2 1.41-.59l7.78-7.78 2.81-2.81c.8-.78.8-2.07 0-2.86zM5.41 20L4 18.59l7.72-7.72 1.47 1.35L5.41 20z\"/>\n",
              "  </svg>\n",
              "      </button>\n",
              "      \n",
              "  <style>\n",
              "    .colab-df-container {\n",
              "      display:flex;\n",
              "      flex-wrap:wrap;\n",
              "      gap: 12px;\n",
              "    }\n",
              "\n",
              "    .colab-df-convert {\n",
              "      background-color: #E8F0FE;\n",
              "      border: none;\n",
              "      border-radius: 50%;\n",
              "      cursor: pointer;\n",
              "      display: none;\n",
              "      fill: #1967D2;\n",
              "      height: 32px;\n",
              "      padding: 0 0 0 0;\n",
              "      width: 32px;\n",
              "    }\n",
              "\n",
              "    .colab-df-convert:hover {\n",
              "      background-color: #E2EBFA;\n",
              "      box-shadow: 0px 1px 2px rgba(60, 64, 67, 0.3), 0px 1px 3px 1px rgba(60, 64, 67, 0.15);\n",
              "      fill: #174EA6;\n",
              "    }\n",
              "\n",
              "    [theme=dark] .colab-df-convert {\n",
              "      background-color: #3B4455;\n",
              "      fill: #D2E3FC;\n",
              "    }\n",
              "\n",
              "    [theme=dark] .colab-df-convert:hover {\n",
              "      background-color: #434B5C;\n",
              "      box-shadow: 0px 1px 3px 1px rgba(0, 0, 0, 0.15);\n",
              "      filter: drop-shadow(0px 1px 2px rgba(0, 0, 0, 0.3));\n",
              "      fill: #FFFFFF;\n",
              "    }\n",
              "  </style>\n",
              "\n",
              "      <script>\n",
              "        const buttonEl =\n",
              "          document.querySelector('#df-836e9414-ef9a-410a-b408-dbff0b174fe7 button.colab-df-convert');\n",
              "        buttonEl.style.display =\n",
              "          google.colab.kernel.accessAllowed ? 'block' : 'none';\n",
              "\n",
              "        async function convertToInteractive(key) {\n",
              "          const element = document.querySelector('#df-836e9414-ef9a-410a-b408-dbff0b174fe7');\n",
              "          const dataTable =\n",
              "            await google.colab.kernel.invokeFunction('convertToInteractive',\n",
              "                                                     [key], {});\n",
              "          if (!dataTable) return;\n",
              "\n",
              "          const docLinkHtml = 'Like what you see? Visit the ' +\n",
              "            '<a target=\"_blank\" href=https://colab.research.google.com/notebooks/data_table.ipynb>data table notebook</a>'\n",
              "            + ' to learn more about interactive tables.';\n",
              "          element.innerHTML = '';\n",
              "          dataTable['output_type'] = 'display_data';\n",
              "          await google.colab.output.renderOutput(dataTable, element);\n",
              "          const docLink = document.createElement('div');\n",
              "          docLink.innerHTML = docLinkHtml;\n",
              "          element.appendChild(docLink);\n",
              "        }\n",
              "      </script>\n",
              "    </div>\n",
              "  </div>\n",
              "  "
            ]
          },
          "metadata": {},
          "execution_count": 307
        }
      ]
    },
    {
      "cell_type": "code",
      "source": [
        "#Cantidad de filas y columnas que usaremos para trabajar\n",
        "df.shape"
      ],
      "metadata": {
        "colab": {
          "base_uri": "https://localhost:8080/"
        },
        "id": "ADoWAT9AtlC4",
        "outputId": "2a94aa69-67a0-489e-fa2a-559005008cde"
      },
      "execution_count": 308,
      "outputs": [
        {
          "output_type": "execute_result",
          "data": {
            "text/plain": [
              "(5000, 4)"
            ]
          },
          "metadata": {},
          "execution_count": 308
        }
      ]
    },
    {
      "cell_type": "code",
      "source": [
        "#visualizamos los precios de cierre\n",
        "plt.figure(figsize=(16,8))\n",
        "plt.title('Precio de Cierre Historico')\n",
        "plt.plot(df['Último'])\n",
        "plt.xlabel('Fecha', fontsize=18)\n",
        "plt.ylabel('Precio Cierre EUR/USD', fontsize=18)\n",
        "plt.show"
      ],
      "metadata": {
        "colab": {
          "base_uri": "https://localhost:8080/",
          "height": 538
        },
        "id": "Ak0htMewtvkZ",
        "outputId": "6484a4cb-a147-4317-a9ab-69e7b1b5d873"
      },
      "execution_count": 309,
      "outputs": [
        {
          "output_type": "execute_result",
          "data": {
            "text/plain": [
              "<function matplotlib.pyplot.show(*args, **kw)>"
            ]
          },
          "metadata": {},
          "execution_count": 309
        },
        {
          "output_type": "display_data",
          "data": {
            "text/plain": [
              "<Figure size 1152x576 with 1 Axes>"
            ],
            "image/png": "[encoded data removed]"
          },
          "metadata": {
            "needs_background": "light"
          }
        }
      ]
    },
    {
      "cell_type": "code",
      "source": [
        "#convertiremos la columna Ultimo como una Dataframe independiente\n",
        "data = df.filter(['Último'])\n",
        "#lo convertiremos en valores para Numpy\n",
        "dataset = data.values\n",
        "#obtendremos el numero de filas para el entrenamiento del modelo\n",
        "training_data_len = math.ceil(len(dataset) * .8)\n",
        "training_data_len "
      ],
      "metadata": {
        "colab": {
          "base_uri": "https://localhost:8080/"
        },
        "id": "uTCXXAQov80m",
        "outputId": "bc5ec40d-441e-4235-ad97-4aebbc93521b"
      },
      "execution_count": 310,
      "outputs": [
        {
          "output_type": "execute_result",
          "data": {
            "text/plain": [
              "4000"
            ]
          },
          "metadata": {},
          "execution_count": 310
        }
      ]
    },
    {
      "cell_type": "code",
      "source": [
        "#data a escala \n",
        "scaler = MinMaxScaler(feature_range=(0,1))\n",
        "scaled_data = scaler.fit_transform(dataset)\n",
        "scaled_data"
      ],
      "metadata": {
        "colab": {
          "base_uri": "https://localhost:8080/"
        },
        "id": "Aniojy2BxzCe",
        "outputId": "719c688c-21a0-4c96-fc7b-2da0ac438acc"
      },
      "execution_count": 311,
      "outputs": [
        {
          "output_type": "execute_result",
          "data": {
            "text/plain": [
              "array([[0.25819831],\n",
              "       [0.26429034],\n",
              "       [0.26480881],\n",
              "       ...,\n",
              "       [0.40129618],\n",
              "       [0.40155541],\n",
              "       [0.40233312]])"
            ]
          },
          "metadata": {},
          "execution_count": 311
        }
      ]
    },
    {
      "cell_type": "code",
      "source": [
        "#Crearemos el data set de entrenamiento\n",
        "#Crearemos el entrenamiento a escala\n",
        "train_data = scaled_data[0:training_data_len, :]\n",
        "x_train = []\n",
        "y_train = []\n",
        "\n",
        "for i in range(60, len(train_data)):\n",
        "  x_train.append(train_data[i-60:i, 0])\n",
        "  y_train.append(train_data[i, 0])\n",
        "  if i<=61:\n",
        "    print(x_train)\n",
        "    print(y_train)\n",
        "    print()"
      ],
      "metadata": {
        "colab": {
          "base_uri": "https://localhost:8080/"
        },
        "id": "e2hNRQYwynww",
        "outputId": "4d28eaa4-ecf4-4b2c-d54d-1a0a0e757673"
      },
      "execution_count": 312,
      "outputs": [
        {
          "output_type": "stream",
          "name": "stdout",
          "text": [
            "[array([0.25819831, 0.26429034, 0.26480881, 0.26584576, 0.26169799,\n",
            "       0.25716137, 0.26727155, 0.26429034, 0.25677252, 0.2404407 ,\n",
            "       0.23914452, 0.24082955, 0.23966299, 0.24653273, 0.23564485,\n",
            "       0.23395982, 0.22462735, 0.22540506, 0.20894362, 0.19144524,\n",
            "       0.18431627, 0.18807518, 0.1933895 , 0.21127673, 0.20155541,\n",
            "       0.19922229, 0.20544394, 0.21607259, 0.20466623, 0.20686973,\n",
            "       0.19624109, 0.19974076, 0.20674012, 0.20816591, 0.20635126,\n",
            "       0.20751782, 0.22903435, 0.22773817, 0.21490603, 0.19079715,\n",
            "       0.18742709, 0.17809462, 0.18988983, 0.17770577, 0.17187297,\n",
            "       0.17122489, 0.17174336, 0.17303953, 0.18029812, 0.17589112,\n",
            "       0.17809462, 0.18276086, 0.18172391, 0.18690862, 0.18807518,\n",
            "       0.18911212, 0.17731692, 0.173558  , 0.18729747, 0.19416721])]\n",
            "[0.18068697342838624]\n",
            "\n",
            "[array([0.25819831, 0.26429034, 0.26480881, 0.26584576, 0.26169799,\n",
            "       0.25716137, 0.26727155, 0.26429034, 0.25677252, 0.2404407 ,\n",
            "       0.23914452, 0.24082955, 0.23966299, 0.24653273, 0.23564485,\n",
            "       0.23395982, 0.22462735, 0.22540506, 0.20894362, 0.19144524,\n",
            "       0.18431627, 0.18807518, 0.1933895 , 0.21127673, 0.20155541,\n",
            "       0.19922229, 0.20544394, 0.21607259, 0.20466623, 0.20686973,\n",
            "       0.19624109, 0.19974076, 0.20674012, 0.20816591, 0.20635126,\n",
            "       0.20751782, 0.22903435, 0.22773817, 0.21490603, 0.19079715,\n",
            "       0.18742709, 0.17809462, 0.18988983, 0.17770577, 0.17187297,\n",
            "       0.17122489, 0.17174336, 0.17303953, 0.18029812, 0.17589112,\n",
            "       0.17809462, 0.18276086, 0.18172391, 0.18690862, 0.18807518,\n",
            "       0.18911212, 0.17731692, 0.173558  , 0.18729747, 0.19416721]), array([0.26429034, 0.26480881, 0.26584576, 0.26169799, 0.25716137,\n",
            "       0.26727155, 0.26429034, 0.25677252, 0.2404407 , 0.23914452,\n",
            "       0.24082955, 0.23966299, 0.24653273, 0.23564485, 0.23395982,\n",
            "       0.22462735, 0.22540506, 0.20894362, 0.19144524, 0.18431627,\n",
            "       0.18807518, 0.1933895 , 0.21127673, 0.20155541, 0.19922229,\n",
            "       0.20544394, 0.21607259, 0.20466623, 0.20686973, 0.19624109,\n",
            "       0.19974076, 0.20674012, 0.20816591, 0.20635126, 0.20751782,\n",
            "       0.22903435, 0.22773817, 0.21490603, 0.19079715, 0.18742709,\n",
            "       0.17809462, 0.18988983, 0.17770577, 0.17187297, 0.17122489,\n",
            "       0.17174336, 0.17303953, 0.18029812, 0.17589112, 0.17809462,\n",
            "       0.18276086, 0.18172391, 0.18690862, 0.18807518, 0.18911212,\n",
            "       0.17731692, 0.173558  , 0.18729747, 0.19416721, 0.18068697])]\n",
            "[0.18068697342838624, 0.17290991574854164]\n",
            "\n"
          ]
        }
      ]
    },
    {
      "cell_type": "code",
      "source": [
        "#Convertimos x_train y y_train en arrays Numpy\n",
        "x_train, y_train = np.array(x_train), np.array(y_train)"
      ],
      "metadata": {
        "id": "F1nFip1s4m3R"
      },
      "execution_count": 313,
      "outputs": []
    },
    {
      "cell_type": "code",
      "source": [
        "#remodelar la data\n",
        "x_train = np.reshape(x_train, (x_train.shape[0], x_train.shape[1], 1))\n",
        "x_train.shape"
      ],
      "metadata": {
        "id": "mNAgNYOM5HAm",
        "colab": {
          "base_uri": "https://localhost:8080/"
        },
        "outputId": "000e3c49-33fb-4d47-ec92-df8b37f56d6f"
      },
      "execution_count": 314,
      "outputs": [
        {
          "output_type": "execute_result",
          "data": {
            "text/plain": [
              "(3940, 60, 1)"
            ]
          },
          "metadata": {},
          "execution_count": 314
        }
      ]
    },
    {
      "cell_type": "code",
      "source": [
        "#Construccion del modelo LSTM\n",
        "model = Sequential()\n",
        "model.add(LSTM(300, return_sequences=True, input_shape= (x_train.shape[1], 1)))\n",
        "model.add(LSTM(300, return_sequences=False))\n",
        "model.add(Dense(50))\n",
        "model.add(Dense(1))"
      ],
      "metadata": {
        "id": "AGgiu70mDMLH"
      },
      "execution_count": 315,
      "outputs": []
    },
    {
      "cell_type": "code",
      "source": [
        "#Compilamos el modelo \n",
        "model.compile(optimizer='adam', loss='mean_squared_error')"
      ],
      "metadata": {
        "id": "g4-fcHY2FMUY"
      },
      "execution_count": 316,
      "outputs": []
    },
    {
      "cell_type": "code",
      "source": [
        "#Entrenamiento del modelo\n",
        "model.fit(x_train, y_train, batch_size=1, epochs=1)\n",
        "#batch_size la cantidad de datos a generar\n",
        "#.fit es para entrenamiento\n",
        "#epochs son las epocas emuladas"
      ],
      "metadata": {
        "colab": {
          "base_uri": "https://localhost:8080/"
        },
        "id": "bC3lqA3uFmq8",
        "outputId": "daf26b32-a37f-4c98-fb2a-61cb140d4910"
      },
      "execution_count": 317,
      "outputs": [
        {
          "output_type": "stream",
          "name": "stdout",
          "text": [
            "3940/3940 [==============================] - 672s 170ms/step - loss: 0.0013\n"
          ]
        },
        {
          "output_type": "execute_result",
          "data": {
            "text/plain": [
              "<keras.callbacks.History at 0x7fe27be131d0>"
            ]
          },
          "metadata": {},
          "execution_count": 317
        }
      ]
    },
    {
      "cell_type": "code",
      "source": [
        "#Creamos la data de prueba\n",
        "#Generaremos un nuevo array que contengan los valores desde el 3940 al 5000\n",
        "test_data = scaled_data[training_data_len - 60:, :]\n",
        "#Creamos los dataset para X_test y y_test\n",
        "x_test = []\n",
        "y_test = dataset[training_data_len: , :]\n",
        "for i in range(60, len(test_data)):\n",
        "  x_test.append(test_data[i-60:i, 0])\n"
      ],
      "metadata": {
        "id": "eo8TTVJQHse3"
      },
      "execution_count": 318,
      "outputs": []
    },
    {
      "cell_type": "code",
      "source": [
        "#Convertir la data a array numpy\n",
        "x_test = np.array(x_test)"
      ],
      "metadata": {
        "id": "Px5i1N_-J04E"
      },
      "execution_count": 319,
      "outputs": []
    },
    {
      "cell_type": "code",
      "source": [
        "#Convertimos x_test de Bidimencional a Tridimecional para el modelo\n",
        "x_test = np.reshape(x_test, (x_test.shape[0], x_test.shape[1], 1))"
      ],
      "metadata": {
        "id": "TrP2whTzKvL5"
      },
      "execution_count": 320,
      "outputs": []
    },
    {
      "cell_type": "code",
      "source": [
        "# Generar la prediccion del valor de los datos\n",
        "predictions = model.predict(x_test)\n",
        "predictions = scaler.inverse_transform(predictions)"
      ],
      "metadata": {
        "id": "8weaL7vcMTtA"
      },
      "execution_count": 321,
      "outputs": []
    },
    {
      "cell_type": "code",
      "source": [
        "#Generar nuestro RMSE\n",
        "rmse = np.sqrt(np.mean(np.power((np.array(y_test)-np.array(predictions)),2)))\n",
        "rmse"
      ],
      "metadata": {
        "colab": {
          "base_uri": "https://localhost:8080/"
        },
        "id": "NJTiiLtlNQeO",
        "outputId": "e659f726-4b3a-437e-d9e0-c000d77c913a"
      },
      "execution_count": 322,
      "outputs": [
        {
          "output_type": "execute_result",
          "data": {
            "text/plain": [
              "0.006508519078911596"
            ]
          },
          "metadata": {},
          "execution_count": 322
        }
      ]
    },
    {
      "cell_type": "code",
      "source": [
        "#Trazamos los datos\n",
        "train = data[:training_data_len]\n",
        "valid = data[training_data_len:]\n",
        "valid['Predictions'] = predictions\n",
        "#visualizar el modelo\n",
        "plt.figure(figsize=(16,8))\n",
        "plt.title('Modelo')\n",
        "plt.xlabel('Fecha', fontsize=18)\n",
        "plt.ylabel('Precio de Cierre EUR/USD', fontsize=18)\n",
        "plt.plot(train['Último'])\n",
        "plt.plot(valid[['Último','Predictions']])\n",
        "plt.legend(['Train','Val','Predictions'], loc='lower right')\n",
        "plt.show()"
      ],
      "metadata": {
        "colab": {
          "base_uri": "https://localhost:8080/",
          "height": 625
        },
        "id": "A5F9YpCyqy4B",
        "outputId": "75870ccb-fde0-48c2-b024-ae77f7bf3e17"
      },
      "execution_count": 323,
      "outputs": [
        {
          "output_type": "stream",
          "name": "stderr",
          "text": [
            "/usr/local/lib/python3.7/dist-packages/ipykernel_launcher.py:4: SettingWithCopyWarning: \n",
            "A value is trying to be set on a copy of a slice from a DataFrame.\n",
            "Try using .loc[row_indexer,col_indexer] = value instead\n",
            "\n",
            "See the caveats in the documentation: https://pandas.pydata.org/pandas-docs/stable/user_guide/indexing.html#returning-a-view-versus-a-copy\n",
            "  after removing the cwd from sys.path.\n"
          ]
        },
        {
          "output_type": "display_data",
          "data": {
            "text/plain": [
              "<Figure size 1152x576 with 1 Axes>"
            ],
            "image/png": "[encoded data removed]"
          },
          "metadata": {
            "needs_background": "light"
          }
        }
      ]
    },
    {
      "cell_type": "code",
      "source": [
        "valid"
      ],
      "metadata": {
        "colab": {
          "base_uri": "https://localhost:8080/",
          "height": 455
        },
        "id": "AgxrppslwY-p",
        "outputId": "568d55a4-07ea-4a97-c305-524974dd3d9a"
      },
      "execution_count": 324,
      "outputs": [
        {
          "output_type": "execute_result",
          "data": {
            "text/plain": [
              "            Último  Predictions\n",
              "Fecha                          \n",
              "2015-05-04  1.1146     1.119437\n",
              "2015-05-05  1.1186     1.117197\n",
              "2015-05-06  1.1353     1.117460\n",
              "2015-05-07  1.1267     1.126834\n",
              "2015-05-08  1.1204     1.127613\n",
              "...            ...          ...\n",
              "2019-02-25  1.1359     1.134584\n",
              "2019-02-26  1.1387     1.135593\n",
              "2019-02-27  1.1369     1.137636\n",
              "2019-02-28  1.1371     1.137716\n",
              "2019-03-01  1.1377     1.137622\n",
              "\n",
              "[1000 rows x 2 columns]"
            ],
            "text/html": [
              "\n",
              "  <div id=\"df-a18799bb-de9f-4491-9dcf-f54594bf91e7\">\n",
              "    <div class=\"colab-df-container\">\n",
              "      <div>\n",
              "<style scoped>\n",
              "    .dataframe tbody tr th:only-of-type {\n",
              "        vertical-align: middle;\n",
              "    }\n",
              "\n",
              "    .dataframe tbody tr th {\n",
              "        vertical-align: top;\n",
              "    }\n",
              "\n",
              "    .dataframe thead th {\n",
              "        text-align: right;\n",
              "    }\n",
              "</style>\n",
              "<table border=\"1\" class=\"dataframe\">\n",
              "  <thead>\n",
              "    <tr style=\"text-align: right;\">\n",
              "      <th></th>\n",
              "      <th>Último</th>\n",
              "      <th>Predictions</th>\n",
              "    </tr>\n",
              "    <tr>\n",
              "      <th>Fecha</th>\n",
              "      <th></th>\n",
              "      <th></th>\n",
              "    </tr>\n",
              "  </thead>\n",
              "  <tbody>\n",
              "    <tr>\n",
              "      <th>2015-05-04</th>\n",
              "      <td>1.1146</td>\n",
              "      <td>1.119437</td>\n",
              "    </tr>\n",
              "    <tr>\n",
              "      <th>2015-05-05</th>\n",
              "      <td>1.1186</td>\n",
              "      <td>1.117197</td>\n",
              "    </tr>\n",
              "    <tr>\n",
              "      <th>2015-05-06</th>\n",
              "      <td>1.1353</td>\n",
              "      <td>1.117460</td>\n",
              "    </tr>\n",
              "    <tr>\n",
              "      <th>2015-05-07</th>\n",
              "      <td>1.1267</td>\n",
              "      <td>1.126834</td>\n",
              "    </tr>\n",
              "    <tr>\n",
              "      <th>2015-05-08</th>\n",
              "      <td>1.1204</td>\n",
              "      <td>1.127613</td>\n",
              "    </tr>\n",
              "    <tr>\n",
              "      <th>...</th>\n",
              "      <td>...</td>\n",
              "      <td>...</td>\n",
              "    </tr>\n",
              "    <tr>\n",
              "      <th>2019-02-25</th>\n",
              "      <td>1.1359</td>\n",
              "      <td>1.134584</td>\n",
              "    </tr>\n",
              "    <tr>\n",
              "      <th>2019-02-26</th>\n",
              "      <td>1.1387</td>\n",
              "      <td>1.135593</td>\n",
              "    </tr>\n",
              "    <tr>\n",
              "      <th>2019-02-27</th>\n",
              "      <td>1.1369</td>\n",
              "      <td>1.137636</td>\n",
              "    </tr>\n",
              "    <tr>\n",
              "      <th>2019-02-28</th>\n",
              "      <td>1.1371</td>\n",
              "      <td>1.137716</td>\n",
              "    </tr>\n",
              "    <tr>\n",
              "      <th>2019-03-01</th>\n",
              "      <td>1.1377</td>\n",
              "      <td>1.137622</td>\n",
              "    </tr>\n",
              "  </tbody>\n",
              "</table>\n",
              "<p>1000 rows × 2 columns</p>\n",
              "</div>\n",
              "      <button class=\"colab-df-convert\" onclick=\"convertToInteractive('df-a18799bb-de9f-4491-9dcf-f54594bf91e7')\"\n",
              "              title=\"Convert this dataframe to an interactive table.\"\n",
              "              style=\"display:none;\">\n",
              "        \n",
              "  <svg xmlns=\"http://www.w3.org/2000/svg\" height=\"24px\"viewBox=\"0 0 24 24\"\n",
              "       width=\"24px\">\n",
              "    <path d=\"M0 0h24v24H0V0z\" fill=\"none\"/>\n",
              "    <path d=\"M18.56 5.44l.94 2.06.94-2.06 2.06-.94-2.06-.94-.94-2.06-.94 2.06-2.06.94zm-11 1L8.5 8.5l.94-2.06 2.06-.94-2.06-.94L8.5 2.5l-.94 2.06-2.06.94zm10 10l.94 2.06.94-2.06 2.06-.94-2.06-.94-.94-2.06-.94 2.06-2.06.94z\"/><path d=\"M17.41 7.96l-1.37-1.37c-.4-.4-.92-.59-1.43-.59-.52 0-1.04.2-1.43.59L10.3 9.45l-7.72 7.72c-.78.78-.78 2.05 0 2.83L4 21.41c.39.39.9.59 1.41.59.51 0 1.02-.2 1.41-.59l7.78-7.78 2.81-2.81c.8-.78.8-2.07 0-2.86zM5.41 20L4 18.59l7.72-7.72 1.47 1.35L5.41 20z\"/>\n",
              "  </svg>\n",
              "      </button>\n",
              "      \n",
              "  <style>\n",
              "    .colab-df-container {\n",
              "      display:flex;\n",
              "      flex-wrap:wrap;\n",
              "      gap: 12px;\n",
              "    }\n",
              "\n",
              "    .colab-df-convert {\n",
              "      background-color: #E8F0FE;\n",
              "      border: none;\n",
              "      border-radius: 50%;\n",
              "      cursor: pointer;\n",
              "      display: none;\n",
              "      fill: #1967D2;\n",
              "      height: 32px;\n",
              "      padding: 0 0 0 0;\n",
              "      width: 32px;\n",
              "    }\n",
              "\n",
              "    .colab-df-convert:hover {\n",
              "      background-color: #E2EBFA;\n",
              "      box-shadow: 0px 1px 2px rgba(60, 64, 67, 0.3), 0px 1px 3px 1px rgba(60, 64, 67, 0.15);\n",
              "      fill: #174EA6;\n",
              "    }\n",
              "\n",
              "    [theme=dark] .colab-df-convert {\n",
              "      background-color: #3B4455;\n",
              "      fill: #D2E3FC;\n",
              "    }\n",
              "\n",
              "    [theme=dark] .colab-df-convert:hover {\n",
              "      background-color: #434B5C;\n",
              "      box-shadow: 0px 1px 3px 1px rgba(0, 0, 0, 0.15);\n",
              "      filter: drop-shadow(0px 1px 2px rgba(0, 0, 0, 0.3));\n",
              "      fill: #FFFFFF;\n",
              "    }\n",
              "  </style>\n",
              "\n",
              "      <script>\n",
              "        const buttonEl =\n",
              "          document.querySelector('#df-a18799bb-de9f-4491-9dcf-f54594bf91e7 button.colab-df-convert');\n",
              "        buttonEl.style.display =\n",
              "          google.colab.kernel.accessAllowed ? 'block' : 'none';\n",
              "\n",
              "        async function convertToInteractive(key) {\n",
              "          const element = document.querySelector('#df-a18799bb-de9f-4491-9dcf-f54594bf91e7');\n",
              "          const dataTable =\n",
              "            await google.colab.kernel.invokeFunction('convertToInteractive',\n",
              "                                                     [key], {});\n",
              "          if (!dataTable) return;\n",
              "\n",
              "          const docLinkHtml = 'Like what you see? Visit the ' +\n",
              "            '<a target=\"_blank\" href=https://colab.research.google.com/notebooks/data_table.ipynb>data table notebook</a>'\n",
              "            + ' to learn more about interactive tables.';\n",
              "          element.innerHTML = '';\n",
              "          dataTable['output_type'] = 'display_data';\n",
              "          await google.colab.output.renderOutput(dataTable, element);\n",
              "          const docLink = document.createElement('div');\n",
              "          docLink.innerHTML = docLinkHtml;\n",
              "          element.appendChild(docLink);\n",
              "        }\n",
              "      </script>\n",
              "    </div>\n",
              "  </div>\n",
              "  "
            ]
          },
          "metadata": {},
          "execution_count": 324
        }
      ]
    },
    {
      "cell_type": "code",
      "source": [
        "#obtenemos datos actuales\n",
        "eurusd = pd.read_csv('/content/drive/MyDrive/datasets/Datos históricos EUR_USDact.csv')\n",
        "eurusd['Fecha'] = pd.to_datetime(eurusd['Fecha'],errors='raise', dayfirst=True, yearfirst=False, utc=None, format=None, exact=True, unit=None, infer_datetime_format=False, origin='unix', cache=True)\n",
        "eurusd = eurusd.sort_values('Fecha',ascending=True)\n",
        "eurusd = eurusd.set_index(eurusd['Fecha'], drop=True, append=False, inplace=False, verify_integrity=False)\n",
        "eurusd = eurusd.drop(columns=['Fecha'])\n",
        "for i in range(1507):\n",
        "    numero = eurusd['Último'][i]\n",
        "    eurusd['Último'][i] = numero.replace(',','.')\n",
        "eurusd['Último'] = pd.to_numeric(eurusd['Último'])\n",
        "#Creamos un nuevo dataframe\n",
        "new_df = eurusd.filter(['Último'])\n",
        "# convertirmos la data de los ultimos 90 dias de dataframe a array\n",
        "last_60_days = new_df[-60:].values\n",
        "last_60_days_scaled = scaler.transform(last_60_days)\n",
        "#creamos el X_test vacio\n",
        "X_test = []\n",
        "#Agregamos los ultimos 60 dias\n",
        "X_test.append(last_60_days_scaled)\n",
        "#Convertimos a numpy\n",
        "X_test = np.array(X_test)\n",
        "#redimensionamos la data\n",
        "X_test = np.reshape(X_test, (X_test.shape[0], X_test.shape[1], 1))\n"
      ],
      "metadata": {
        "id": "BNVhmL8k3jeD"
      },
      "execution_count": 325,
      "outputs": []
    },
    {
      "cell_type": "code",
      "source": [
        "#escala predctiva\n",
        "pred_price = model.predict(X_test)\n",
        "pred_price = scaler.inverse_transform(pred_price)\n",
        "print(pred_price)"
      ],
      "metadata": {
        "colab": {
          "base_uri": "https://localhost:8080/"
        },
        "id": "fmAPLulTAvKA",
        "outputId": "9cd05bfa-c3fb-440e-88b6-cd61dbd9581a"
      },
      "execution_count": 326,
      "outputs": [
        {
          "output_type": "stream",
          "name": "stdout",
          "text": [
            "[[0.9723942]]\n"
          ]
        }
      ]
    },
    {
      "cell_type": "markdown",
      "source": [
        "0.9723942 seria el precio de cierre para la fecha 11-10-2022"
      ],
      "metadata": {
        "id": "CU94tiTPbXRy"
      }
    }
  ]
}