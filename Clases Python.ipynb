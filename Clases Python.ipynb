{
 "cells": [
  {
   "cell_type": "markdown",
   "metadata": {
    "id": "04VP4LQbsrXP"
   },
   "source": [
    "***\n",
    "***\n",
    "# Módulo 1 - Introducción a Python"
   ]
  },
  {
   "cell_type": "markdown",
   "metadata": {
    "id": "VvgYboPDsrXQ"
   },
   "source": [
    "## Capítulo 2 - ¿Qué es Python y cómo lo utilizo?"
   ]
  },
  {
   "cell_type": "markdown",
   "metadata": {
    "id": "aUJbHaD4srXQ"
   },
   "source": [
    "### Tipos de datos"
   ]
  },
  {
   "cell_type": "code",
   "execution_count": 1,
   "metadata": {
    "id": "sZ3_0W6wsrXR"
   },
   "outputs": [
    {
     "data": {
      "text/plain": [
       "int"
      ]
     },
     "execution_count": 1,
     "metadata": {},
     "output_type": "execute_result"
    }
   ],
   "source": [
    "type(2)"
   ]
  },
  {
   "cell_type": "code",
   "execution_count": 2,
   "metadata": {
    "id": "3TgyEkrSsrXR"
   },
   "outputs": [
    {
     "data": {
      "text/plain": [
       "int"
      ]
     },
     "execution_count": 2,
     "metadata": {},
     "output_type": "execute_result"
    }
   ],
   "source": [
    "type(-45)"
   ]
  },
  {
   "cell_type": "code",
   "execution_count": 3,
   "metadata": {
    "id": "ts2ruiNcsrXS"
   },
   "outputs": [
    {
     "data": {
      "text/plain": [
       "float"
      ]
     },
     "execution_count": 3,
     "metadata": {},
     "output_type": "execute_result"
    }
   ],
   "source": [
    "type(1.89)"
   ]
  },
  {
   "cell_type": "code",
   "execution_count": 4,
   "metadata": {
    "id": "hKuuqEAhsrXS"
   },
   "outputs": [
    {
     "data": {
      "text/plain": [
       "float"
      ]
     },
     "execution_count": 4,
     "metadata": {},
     "output_type": "execute_result"
    }
   ],
   "source": [
    "type(387.568976)"
   ]
  },
  {
   "cell_type": "code",
   "execution_count": 5,
   "metadata": {
    "id": "tAHjp_5rsrXT"
   },
   "outputs": [
    {
     "data": {
      "text/plain": [
       "str"
      ]
     },
     "execution_count": 5,
     "metadata": {},
     "output_type": "execute_result"
    }
   ],
   "source": [
    "type(\"Bienvenido al curso\")"
   ]
  },
  {
   "cell_type": "code",
   "execution_count": 6,
   "metadata": {
    "id": "lQi_t5C2srXT"
   },
   "outputs": [
    {
     "data": {
      "text/plain": [
       "str"
      ]
     },
     "execution_count": 6,
     "metadata": {},
     "output_type": "execute_result"
    }
   ],
   "source": [
    "type('Bienvenido al curso')"
   ]
  },
  {
   "cell_type": "code",
   "execution_count": 24,
   "metadata": {
    "id": "5zShYVp1srXU"
   },
   "outputs": [
    {
     "data": {
      "text/plain": [
       "bool"
      ]
     },
     "execution_count": 24,
     "metadata": {},
     "output_type": "execute_result"
    }
   ],
   "source": [
    "type(True)"
   ]
  },
  {
   "cell_type": "code",
   "execution_count": 25,
   "metadata": {
    "id": "euwPkEJMsrXU"
   },
   "outputs": [
    {
     "data": {
      "text/plain": [
       "bool"
      ]
     },
     "execution_count": 25,
     "metadata": {},
     "output_type": "execute_result"
    }
   ],
   "source": [
    "type(False)"
   ]
  },
  {
   "cell_type": "markdown",
   "metadata": {
    "id": "lZWFdO4_srXU"
   },
   "source": [
    "## Capítulo 3 - Operaciones con variables"
   ]
  },
  {
   "cell_type": "markdown",
   "metadata": {
    "id": "3Bl8jgGRsrXV"
   },
   "source": [
    "### Python como calculadora"
   ]
  },
  {
   "cell_type": "code",
   "execution_count": 26,
   "metadata": {
    "id": "GHa0Y81GsrXV"
   },
   "outputs": [
    {
     "data": {
      "text/plain": [
       "79"
      ]
     },
     "execution_count": 26,
     "metadata": {},
     "output_type": "execute_result"
    }
   ],
   "source": [
    "34+45"
   ]
  },
  {
   "cell_type": "code",
   "execution_count": 27,
   "metadata": {
    "id": "YcXN0luJsrXV"
   },
   "outputs": [
    {
     "data": {
      "text/plain": [
       "9.0"
      ]
     },
     "execution_count": 27,
     "metadata": {},
     "output_type": "execute_result"
    }
   ],
   "source": [
    "54/6"
   ]
  },
  {
   "cell_type": "code",
   "execution_count": 28,
   "metadata": {
    "id": "Nh5mASLlsrXV"
   },
   "outputs": [
    {
     "data": {
      "text/plain": [
       "150"
      ]
     },
     "execution_count": 28,
     "metadata": {},
     "output_type": "execute_result"
    }
   ],
   "source": [
    "75*2"
   ]
  },
  {
   "cell_type": "code",
   "execution_count": 29,
   "metadata": {
    "id": "mLw9NI__srXW"
   },
   "outputs": [
    {
     "data": {
      "text/plain": [
       "17"
      ]
     },
     "execution_count": 29,
     "metadata": {},
     "output_type": "execute_result"
    }
   ],
   "source": [
    "35//2"
   ]
  },
  {
   "cell_type": "code",
   "execution_count": 30,
   "metadata": {
    "id": "Ms5BNtQ5srXW"
   },
   "outputs": [
    {
     "data": {
      "text/plain": [
       "8"
      ]
     },
     "execution_count": 30,
     "metadata": {},
     "output_type": "execute_result"
    }
   ],
   "source": [
    "2**3"
   ]
  },
  {
   "cell_type": "code",
   "execution_count": 31,
   "metadata": {
    "id": "kYYeKMidsrXW"
   },
   "outputs": [
    {
     "data": {
      "text/plain": [
       "140"
      ]
     },
     "execution_count": 31,
     "metadata": {},
     "output_type": "execute_result"
    }
   ],
   "source": [
    "75*2 - 10"
   ]
  },
  {
   "cell_type": "code",
   "execution_count": 32,
   "metadata": {
    "id": "6LjdEIpWsrXX"
   },
   "outputs": [
    {
     "data": {
      "text/plain": [
       "16"
      ]
     },
     "execution_count": 32,
     "metadata": {},
     "output_type": "execute_result"
    }
   ],
   "source": [
    "(10-2)*2"
   ]
  },
  {
   "cell_type": "markdown",
   "metadata": {
    "id": "6tX47S_XsrXX"
   },
   "source": [
    "### Creación de variables"
   ]
  },
  {
   "cell_type": "code",
   "execution_count": 33,
   "metadata": {
    "id": "ruGe1K0JsrXX"
   },
   "outputs": [],
   "source": [
    "mi_variable = 10"
   ]
  },
  {
   "cell_type": "code",
   "execution_count": 34,
   "metadata": {
    "id": "GwokqCTFsrXX"
   },
   "outputs": [
    {
     "data": {
      "text/plain": [
       "10"
      ]
     },
     "execution_count": 34,
     "metadata": {},
     "output_type": "execute_result"
    }
   ],
   "source": [
    "mi_variable"
   ]
  },
  {
   "cell_type": "code",
   "execution_count": 35,
   "metadata": {
    "id": "ayXfs5dxsrXY"
   },
   "outputs": [
    {
     "name": "stdout",
     "output_type": "stream",
     "text": [
      "10\n"
     ]
    }
   ],
   "source": [
    "print(mi_variable)"
   ]
  },
  {
   "cell_type": "code",
   "execution_count": 36,
   "metadata": {
    "id": "lcsK-GzUsrXY"
   },
   "outputs": [
    {
     "data": {
      "text/plain": [
       "int"
      ]
     },
     "execution_count": 36,
     "metadata": {},
     "output_type": "execute_result"
    }
   ],
   "source": [
    "type(mi_variable)"
   ]
  },
  {
   "cell_type": "code",
   "execution_count": 37,
   "metadata": {
    "id": "-fBNybJ6srXY"
   },
   "outputs": [],
   "source": [
    "mi_variable_suma = 2 + 5"
   ]
  },
  {
   "cell_type": "code",
   "execution_count": 38,
   "metadata": {
    "id": "7hqocrBWsrXZ"
   },
   "outputs": [
    {
     "data": {
      "text/plain": [
       "7"
      ]
     },
     "execution_count": 38,
     "metadata": {},
     "output_type": "execute_result"
    }
   ],
   "source": [
    "mi_variable_suma"
   ]
  },
  {
   "cell_type": "markdown",
   "metadata": {
    "id": "QgSr5Q2zsrXZ"
   },
   "source": [
    "### Operaciones con variables"
   ]
  },
  {
   "cell_type": "markdown",
   "metadata": {
    "id": "uEkdennFsrXZ"
   },
   "source": [
    "Para los siguientes módulos vamos a utilizar datos de temperatura en Celsius y Farenheit como ejemplo. \n",
    "Recordemos que las fórmulas para la conversión son las siguientes:\n",
    "\n",
    "1. Para convertir Farenheit a Celsius:\n",
    "    \n",
    "**C = (32 x F − 32) × 5/9**\n",
    "\n",
    "2. Para convertir Celsius a Farenheit\n",
    "\n",
    "**F = C × 9/5 + 32**\n"
   ]
  },
  {
   "cell_type": "code",
   "execution_count": 39,
   "metadata": {
    "id": "Zs60ToiGsrXZ"
   },
   "outputs": [],
   "source": [
    "celsius = 30"
   ]
  },
  {
   "cell_type": "code",
   "execution_count": 40,
   "metadata": {
    "id": "Kq6qsq37srXZ"
   },
   "outputs": [
    {
     "data": {
      "text/plain": [
       "86.0"
      ]
     },
     "execution_count": 40,
     "metadata": {},
     "output_type": "execute_result"
    }
   ],
   "source": [
    "celsius*9/5 + 32"
   ]
  },
  {
   "cell_type": "code",
   "execution_count": 41,
   "metadata": {
    "id": "KylkCpf6srXa"
   },
   "outputs": [],
   "source": [
    "farenheit = celsius*9/5 + 32"
   ]
  },
  {
   "cell_type": "code",
   "execution_count": 42,
   "metadata": {
    "id": "2usaoQOysrXa"
   },
   "outputs": [
    {
     "name": "stdout",
     "output_type": "stream",
     "text": [
      "86.0\n"
     ]
    }
   ],
   "source": [
    "print(farenheit)"
   ]
  },
  {
   "cell_type": "code",
   "execution_count": 43,
   "metadata": {
    "id": "--DtFumvsrXa"
   },
   "outputs": [
    {
     "data": {
      "text/plain": [
       "86.0"
      ]
     },
     "execution_count": 43,
     "metadata": {},
     "output_type": "execute_result"
    }
   ],
   "source": [
    "farenheit"
   ]
  },
  {
   "cell_type": "code",
   "execution_count": 44,
   "metadata": {
    "id": "nEbEHg5BsrXa"
   },
   "outputs": [
    {
     "data": {
      "text/plain": [
       "int"
      ]
     },
     "execution_count": 44,
     "metadata": {},
     "output_type": "execute_result"
    }
   ],
   "source": [
    "type(celsius)"
   ]
  },
  {
   "cell_type": "code",
   "execution_count": 45,
   "metadata": {
    "id": "vpTiE2ydsrXa"
   },
   "outputs": [
    {
     "data": {
      "text/plain": [
       "float"
      ]
     },
     "execution_count": 45,
     "metadata": {},
     "output_type": "execute_result"
    }
   ],
   "source": [
    "type(farenheit)"
   ]
  },
  {
   "cell_type": "code",
   "execution_count": 46,
   "metadata": {
    "id": "d7CZHXMxsrXb"
   },
   "outputs": [],
   "source": [
    "farenheit_1 = 75"
   ]
  },
  {
   "cell_type": "code",
   "execution_count": 47,
   "metadata": {
    "id": "uZHLyTrOsrXb"
   },
   "outputs": [],
   "source": [
    "celsius_1 = (farenheit_1 - 32)*5/9"
   ]
  },
  {
   "cell_type": "code",
   "execution_count": 48,
   "metadata": {
    "id": "SoIOQ89qsrXb"
   },
   "outputs": [
    {
     "data": {
      "text/plain": [
       "23.88888888888889"
      ]
     },
     "execution_count": 48,
     "metadata": {},
     "output_type": "execute_result"
    }
   ],
   "source": [
    "celsius_1"
   ]
  },
  {
   "cell_type": "markdown",
   "metadata": {
    "id": "hVtsRlynsrXb"
   },
   "source": [
    "### Operaciones con texto"
   ]
  },
  {
   "cell_type": "code",
   "execution_count": 49,
   "metadata": {
    "id": "DDfEa9SCsrXb"
   },
   "outputs": [],
   "source": [
    "string = \"codigo\""
   ]
  },
  {
   "cell_type": "code",
   "execution_count": 50,
   "metadata": {
    "id": "l0dd8637srXc"
   },
   "outputs": [
    {
     "data": {
      "text/plain": [
       "'c'"
      ]
     },
     "execution_count": 50,
     "metadata": {},
     "output_type": "execute_result"
    }
   ],
   "source": [
    "string[0]"
   ]
  },
  {
   "cell_type": "code",
   "execution_count": 51,
   "metadata": {
    "id": "r2QLuij6srXc"
   },
   "outputs": [
    {
     "data": {
      "text/plain": [
       "'dig'"
      ]
     },
     "execution_count": 51,
     "metadata": {},
     "output_type": "execute_result"
    }
   ],
   "source": [
    "string[2:5]"
   ]
  },
  {
   "cell_type": "code",
   "execution_count": 52,
   "metadata": {
    "id": "oUvMV4Q4srXc"
   },
   "outputs": [
    {
     "data": {
      "text/plain": [
       "'o'"
      ]
     },
     "execution_count": 52,
     "metadata": {},
     "output_type": "execute_result"
    }
   ],
   "source": [
    "string[-1]"
   ]
  },
  {
   "cell_type": "code",
   "execution_count": 53,
   "metadata": {
    "id": "hfSvJsNXsrXc"
   },
   "outputs": [
    {
     "data": {
      "text/plain": [
       "'g'"
      ]
     },
     "execution_count": 53,
     "metadata": {},
     "output_type": "execute_result"
    }
   ],
   "source": [
    "string[-2]"
   ]
  },
  {
   "cell_type": "code",
   "execution_count": 54,
   "metadata": {
    "id": "5-I2Eh8ysrXc"
   },
   "outputs": [
    {
     "data": {
      "text/plain": [
       "'codigos'"
      ]
     },
     "execution_count": 54,
     "metadata": {},
     "output_type": "execute_result"
    }
   ],
   "source": [
    "string + \"s\""
   ]
  },
  {
   "cell_type": "code",
   "execution_count": 55,
   "metadata": {
    "id": "RdOXnB4csrXc"
   },
   "outputs": [],
   "source": [
    "temperatura_string = '21.3'"
   ]
  },
  {
   "cell_type": "code",
   "execution_count": 56,
   "metadata": {
    "id": "Kuk8TLmlsrXc"
   },
   "outputs": [
    {
     "name": "stdout",
     "output_type": "stream",
     "text": [
      "La temperatura promedio de esta semana fue 21.3C\n"
     ]
    }
   ],
   "source": [
    "print(\"La temperatura promedio de esta semana fue \" + temperatura_string + \"C\")"
   ]
  },
  {
   "cell_type": "code",
   "execution_count": 57,
   "metadata": {
    "id": "ww06ErUnsrXc"
   },
   "outputs": [
    {
     "data": {
      "text/plain": [
       "'21.321.3'"
      ]
     },
     "execution_count": 57,
     "metadata": {},
     "output_type": "execute_result"
    }
   ],
   "source": [
    "2*temperatura_string"
   ]
  },
  {
   "cell_type": "code",
   "execution_count": 58,
   "metadata": {
    "id": "rq2OFS4csrXd"
   },
   "outputs": [
    {
     "ename": "TypeError",
     "evalue": "can only concatenate str (not \"int\") to str",
     "output_type": "error",
     "traceback": [
      "\u001b[1;31m---------------------------------------------------------------------------\u001b[0m",
      "\u001b[1;31mTypeError\u001b[0m                                 Traceback (most recent call last)",
      "Input \u001b[1;32mIn [58]\u001b[0m, in \u001b[0;36m<cell line: 1>\u001b[1;34m()\u001b[0m\n\u001b[1;32m----> 1\u001b[0m \u001b[43mtemperatura_string\u001b[49m\u001b[43m \u001b[49m\u001b[38;5;241;43m+\u001b[39;49m\u001b[43m \u001b[49m\u001b[38;5;241;43m10\u001b[39;49m\n",
      "\u001b[1;31mTypeError\u001b[0m: can only concatenate str (not \"int\") to str"
     ]
    }
   ],
   "source": [
    "temperatura_string + 10"
   ]
  },
  {
   "cell_type": "markdown",
   "metadata": {
    "id": "DGZKPD-QsrXd"
   },
   "source": [
    "### Conversión de tipo de variable"
   ]
  },
  {
   "cell_type": "code",
   "execution_count": 59,
   "metadata": {
    "id": "iyqH3gs6srXd"
   },
   "outputs": [
    {
     "data": {
      "text/plain": [
       "'21.3'"
      ]
     },
     "execution_count": 59,
     "metadata": {},
     "output_type": "execute_result"
    }
   ],
   "source": [
    "temperatura_string"
   ]
  },
  {
   "cell_type": "code",
   "execution_count": 60,
   "metadata": {
    "id": "IygAQdSesrXd"
   },
   "outputs": [
    {
     "data": {
      "text/plain": [
       "'21.321.3'"
      ]
     },
     "execution_count": 60,
     "metadata": {},
     "output_type": "execute_result"
    }
   ],
   "source": [
    "2*temperatura_string"
   ]
  },
  {
   "cell_type": "code",
   "execution_count": 61,
   "metadata": {
    "id": "Tm9N9mcwsrXd"
   },
   "outputs": [
    {
     "data": {
      "text/plain": [
       "21.3"
      ]
     },
     "execution_count": 61,
     "metadata": {},
     "output_type": "execute_result"
    }
   ],
   "source": [
    "temperatura_float =  float(temperatura_string)\n",
    "temperatura_float"
   ]
  },
  {
   "cell_type": "code",
   "execution_count": 62,
   "metadata": {
    "id": "DPdddoHKsrXd"
   },
   "outputs": [
    {
     "data": {
      "text/plain": [
       "42.6"
      ]
     },
     "execution_count": 62,
     "metadata": {},
     "output_type": "execute_result"
    }
   ],
   "source": [
    "2*temperatura_float"
   ]
  },
  {
   "cell_type": "code",
   "execution_count": 63,
   "metadata": {
    "id": "QFem6SuvsrXd"
   },
   "outputs": [
    {
     "data": {
      "text/plain": [
       "'21.3'"
      ]
     },
     "execution_count": 63,
     "metadata": {},
     "output_type": "execute_result"
    }
   ],
   "source": [
    "str(temperatura_float)"
   ]
  },
  {
   "cell_type": "code",
   "execution_count": 64,
   "metadata": {
    "id": "VUl_GQFusrXd"
   },
   "outputs": [
    {
     "data": {
      "text/plain": [
       "21"
      ]
     },
     "execution_count": 64,
     "metadata": {},
     "output_type": "execute_result"
    }
   ],
   "source": [
    "int(temperatura_float)"
   ]
  },
  {
   "cell_type": "markdown",
   "metadata": {
    "id": "HCSSjwbasrXd"
   },
   "source": [
    "***\n",
    "***\n",
    "\n",
    "# Módulo 2 - Estructuras de datos en Python"
   ]
  },
  {
   "cell_type": "markdown",
   "metadata": {
    "id": "NS5hzLLhsrXe"
   },
   "source": [
    "## Capítulo 1 - Listas"
   ]
  },
  {
   "cell_type": "code",
   "execution_count": 65,
   "metadata": {
    "id": "7q5tuP1XsrXe"
   },
   "outputs": [],
   "source": [
    "temperatura_brasil = 26\n",
    "temperatura_mexico = 24\n",
    "temperatura_peru = 21"
   ]
  },
  {
   "cell_type": "code",
   "execution_count": 66,
   "metadata": {
    "id": "xdVeNCX7srXe"
   },
   "outputs": [
    {
     "data": {
      "text/plain": [
       "21"
      ]
     },
     "execution_count": 66,
     "metadata": {},
     "output_type": "execute_result"
    }
   ],
   "source": [
    "temperatura_peru"
   ]
  },
  {
   "cell_type": "code",
   "execution_count": 67,
   "metadata": {
    "id": "Xa3Zy8ensrXe"
   },
   "outputs": [
    {
     "name": "stdout",
     "output_type": "stream",
     "text": [
      "26\n"
     ]
    }
   ],
   "source": [
    "print(temperatura_brasil)"
   ]
  },
  {
   "cell_type": "code",
   "execution_count": 68,
   "metadata": {
    "id": "FzEN39vtsrXe"
   },
   "outputs": [
    {
     "data": {
      "text/plain": [
       "(26, 24, 21)"
      ]
     },
     "execution_count": 68,
     "metadata": {},
     "output_type": "execute_result"
    }
   ],
   "source": [
    "temperatura_brasil, temperatura_mexico, temperatura_peru"
   ]
  },
  {
   "cell_type": "code",
   "execution_count": 69,
   "metadata": {
    "id": "ZN61Oyt6srXe"
   },
   "outputs": [],
   "source": [
    "temperatura = [26, 24, 21]"
   ]
  },
  {
   "cell_type": "code",
   "execution_count": 70,
   "metadata": {
    "id": "V-JOhqYisrXe"
   },
   "outputs": [
    {
     "data": {
      "text/plain": [
       "[26, 24, 21]"
      ]
     },
     "execution_count": 70,
     "metadata": {},
     "output_type": "execute_result"
    }
   ],
   "source": [
    "temperatura"
   ]
  },
  {
   "cell_type": "code",
   "execution_count": 71,
   "metadata": {
    "id": "qSDHTKJ2srXe"
   },
   "outputs": [
    {
     "data": {
      "text/plain": [
       "list"
      ]
     },
     "execution_count": 71,
     "metadata": {},
     "output_type": "execute_result"
    }
   ],
   "source": [
    "type(temperatura)"
   ]
  },
  {
   "cell_type": "code",
   "execution_count": 72,
   "metadata": {
    "id": "2z9MCHQFsrXe"
   },
   "outputs": [],
   "source": [
    "temperatura_nombres = [\"Brazil\", 25, \"Mexico\", 21, \"Peru\", 23]"
   ]
  },
  {
   "cell_type": "code",
   "execution_count": 73,
   "metadata": {
    "id": "GowTz7lhsrXe"
   },
   "outputs": [
    {
     "data": {
      "text/plain": [
       "['Brazil', 25, 'Mexico', 21, 'Peru', 23]"
      ]
     },
     "execution_count": 73,
     "metadata": {},
     "output_type": "execute_result"
    }
   ],
   "source": [
    "temperatura_nombres"
   ]
  },
  {
   "cell_type": "code",
   "execution_count": 74,
   "metadata": {
    "id": "gvf8YkuBsrXf"
   },
   "outputs": [
    {
     "data": {
      "text/plain": [
       "list"
      ]
     },
     "execution_count": 74,
     "metadata": {},
     "output_type": "execute_result"
    }
   ],
   "source": [
    "type(temperatura_nombres)"
   ]
  },
  {
   "cell_type": "code",
   "execution_count": 75,
   "metadata": {
    "id": "ZvfaQoXOsrXf"
   },
   "outputs": [],
   "source": [
    "temperatura_lista = [[\"Brazil\", 25], [\"Mexico\", 21], [\"Peru\", 23]]"
   ]
  },
  {
   "cell_type": "code",
   "execution_count": 76,
   "metadata": {
    "id": "CSKcEeRqsrXf"
   },
   "outputs": [
    {
     "data": {
      "text/plain": [
       "[['Brazil', 25], ['Mexico', 21], ['Peru', 23]]"
      ]
     },
     "execution_count": 76,
     "metadata": {},
     "output_type": "execute_result"
    }
   ],
   "source": [
    "temperatura_lista"
   ]
  },
  {
   "cell_type": "code",
   "execution_count": 77,
   "metadata": {
    "id": "pesok5rvsrXf"
   },
   "outputs": [
    {
     "data": {
      "text/plain": [
       "list"
      ]
     },
     "execution_count": 77,
     "metadata": {},
     "output_type": "execute_result"
    }
   ],
   "source": [
    "type(temperatura_lista)"
   ]
  },
  {
   "cell_type": "markdown",
   "metadata": {
    "id": "xw4RrFPnsrXf"
   },
   "source": [
    "## Capítulo 2 - Operaciones con listas"
   ]
  },
  {
   "cell_type": "markdown",
   "metadata": {
    "id": "FLTqpeP5srXf"
   },
   "source": [
    "### Subconjuntos"
   ]
  },
  {
   "cell_type": "code",
   "execution_count": 78,
   "metadata": {
    "id": "spGL5uW2srXf"
   },
   "outputs": [
    {
     "data": {
      "text/plain": [
       "['Brazil', 25, 'Mexico', 21, 'Peru', 23]"
      ]
     },
     "execution_count": 78,
     "metadata": {},
     "output_type": "execute_result"
    }
   ],
   "source": [
    "temperatura_nombres = [\"Brazil\", 25, \"Mexico\", 21, \"Peru\", 23]\n",
    "temperatura_nombres"
   ]
  },
  {
   "cell_type": "code",
   "execution_count": 79,
   "metadata": {
    "id": "WnZ-o0K3srXf"
   },
   "outputs": [
    {
     "data": {
      "text/plain": [
       "'Brazil'"
      ]
     },
     "execution_count": 79,
     "metadata": {},
     "output_type": "execute_result"
    }
   ],
   "source": [
    "temperatura_nombres[0]"
   ]
  },
  {
   "cell_type": "code",
   "execution_count": 80,
   "metadata": {
    "id": "FDGq-K-RsrXf"
   },
   "outputs": [
    {
     "data": {
      "text/plain": [
       "25"
      ]
     },
     "execution_count": 80,
     "metadata": {},
     "output_type": "execute_result"
    }
   ],
   "source": [
    "temperatura_nombres[1]"
   ]
  },
  {
   "cell_type": "code",
   "execution_count": 81,
   "metadata": {
    "id": "rML_MZkCsrXf"
   },
   "outputs": [
    {
     "data": {
      "text/plain": [
       "'Mexico'"
      ]
     },
     "execution_count": 81,
     "metadata": {},
     "output_type": "execute_result"
    }
   ],
   "source": [
    "temperatura_nombres[2]"
   ]
  },
  {
   "cell_type": "code",
   "execution_count": 82,
   "metadata": {
    "id": "nLg-Da1dsrXg"
   },
   "outputs": [
    {
     "data": {
      "text/plain": [
       "23"
      ]
     },
     "execution_count": 82,
     "metadata": {},
     "output_type": "execute_result"
    }
   ],
   "source": [
    "temperatura_nombres[-1]"
   ]
  },
  {
   "cell_type": "code",
   "execution_count": 83,
   "metadata": {
    "id": "8lkn9UGosrXg"
   },
   "outputs": [
    {
     "data": {
      "text/plain": [
       "'Peru'"
      ]
     },
     "execution_count": 83,
     "metadata": {},
     "output_type": "execute_result"
    }
   ],
   "source": [
    "temperatura_nombres[-2]"
   ]
  },
  {
   "cell_type": "code",
   "execution_count": 84,
   "metadata": {
    "id": "2eIpwozNsrXg"
   },
   "outputs": [
    {
     "data": {
      "text/plain": [
       "[['Brazil', 25], ['Mexico', 21], ['Peru', 23]]"
      ]
     },
     "execution_count": 84,
     "metadata": {},
     "output_type": "execute_result"
    }
   ],
   "source": [
    "temperatura_lista = [[\"Brazil\", 25], [\"Mexico\", 21], [\"Peru\", 23]]\n",
    "temperatura_lista"
   ]
  },
  {
   "cell_type": "code",
   "execution_count": 85,
   "metadata": {
    "id": "u8St5OG-srXg"
   },
   "outputs": [
    {
     "data": {
      "text/plain": [
       "'Peru'"
      ]
     },
     "execution_count": 85,
     "metadata": {},
     "output_type": "execute_result"
    }
   ],
   "source": [
    "temperatura_lista[2][0]"
   ]
  },
  {
   "cell_type": "code",
   "execution_count": 86,
   "metadata": {
    "id": "jAV5SerlsrXg"
   },
   "outputs": [
    {
     "data": {
      "text/plain": [
       "21"
      ]
     },
     "execution_count": 86,
     "metadata": {},
     "output_type": "execute_result"
    }
   ],
   "source": [
    "temperatura_lista[1][1]"
   ]
  },
  {
   "cell_type": "code",
   "execution_count": 87,
   "metadata": {
    "id": "tgklN_PisrXg"
   },
   "outputs": [],
   "source": [
    "temperatura_lista = [[\"Brazil\", 25], [\"Mexico\", [21,23,25]], [\"Peru\", 23]]"
   ]
  },
  {
   "cell_type": "code",
   "execution_count": 88,
   "metadata": {
    "id": "Wh83xbXwsrXh"
   },
   "outputs": [
    {
     "data": {
      "text/plain": [
       "[['Brazil', 25], ['Mexico', [21, 23, 25]], ['Peru', 23]]"
      ]
     },
     "execution_count": 88,
     "metadata": {},
     "output_type": "execute_result"
    }
   ],
   "source": [
    "temperatura_lista"
   ]
  },
  {
   "cell_type": "code",
   "execution_count": 89,
   "metadata": {
    "id": "g-NgU8PasrXh"
   },
   "outputs": [
    {
     "data": {
      "text/plain": [
       "21"
      ]
     },
     "execution_count": 89,
     "metadata": {},
     "output_type": "execute_result"
    }
   ],
   "source": [
    "temperatura_lista[1][1][0]"
   ]
  },
  {
   "cell_type": "markdown",
   "metadata": {
    "id": "v_hLwevKsrXh"
   },
   "source": [
    "### Particiones"
   ]
  },
  {
   "cell_type": "code",
   "execution_count": 90,
   "metadata": {
    "id": "aNnrBE4msrXh"
   },
   "outputs": [
    {
     "data": {
      "text/plain": [
       "['Brazil', 25, 'Mexico', 21, 'Peru', 23]"
      ]
     },
     "execution_count": 90,
     "metadata": {},
     "output_type": "execute_result"
    }
   ],
   "source": [
    "temperatura_nombres"
   ]
  },
  {
   "cell_type": "code",
   "execution_count": 91,
   "metadata": {
    "id": "XnFhc-K4srXh"
   },
   "outputs": [
    {
     "data": {
      "text/plain": [
       "['Brazil', 25, 'Mexico']"
      ]
     },
     "execution_count": 91,
     "metadata": {},
     "output_type": "execute_result"
    }
   ],
   "source": [
    "temperatura_nombres[:3]"
   ]
  },
  {
   "cell_type": "code",
   "execution_count": 92,
   "metadata": {
    "id": "z3-4643xsrXh",
    "scrolled": true
   },
   "outputs": [
    {
     "data": {
      "text/plain": [
       "['Mexico', 21, 'Peru', 23]"
      ]
     },
     "execution_count": 92,
     "metadata": {},
     "output_type": "execute_result"
    }
   ],
   "source": [
    "temperatura_nombres[2:]"
   ]
  },
  {
   "cell_type": "code",
   "execution_count": 93,
   "metadata": {
    "id": "Nln-rfFksrXh"
   },
   "outputs": [
    {
     "data": {
      "text/plain": [
       "['Mexico', 21]"
      ]
     },
     "execution_count": 93,
     "metadata": {},
     "output_type": "execute_result"
    }
   ],
   "source": [
    "temperatura_nombres[2:4]"
   ]
  },
  {
   "cell_type": "markdown",
   "metadata": {
    "id": "Lux694CasrXh"
   },
   "source": [
    "### Modificar elementos a una lista"
   ]
  },
  {
   "cell_type": "code",
   "execution_count": 94,
   "metadata": {
    "id": "GS4dJ-wxsrXh"
   },
   "outputs": [
    {
     "data": {
      "text/plain": [
       "['Brazil', 25, 'Mexico', 21, 'Peru', 23]"
      ]
     },
     "execution_count": 94,
     "metadata": {},
     "output_type": "execute_result"
    }
   ],
   "source": [
    "temperatura_nombres"
   ]
  },
  {
   "cell_type": "code",
   "execution_count": 95,
   "metadata": {
    "id": "1rDP-he_srXh",
    "scrolled": true
   },
   "outputs": [],
   "source": [
    "temperatura_nombres[1] = 27"
   ]
  },
  {
   "cell_type": "code",
   "execution_count": 96,
   "metadata": {
    "id": "Oy1qDUvusrXi"
   },
   "outputs": [
    {
     "data": {
      "text/plain": [
       "['Brazil', 27, 'Mexico', 21, 'Peru', 23]"
      ]
     },
     "execution_count": 96,
     "metadata": {},
     "output_type": "execute_result"
    }
   ],
   "source": [
    "temperatura_nombres"
   ]
  },
  {
   "cell_type": "code",
   "execution_count": 97,
   "metadata": {
    "id": "IPF5cE-3srXi"
   },
   "outputs": [],
   "source": [
    "temperatura_nombres[0:2] = ['Colombia', 18]"
   ]
  },
  {
   "cell_type": "code",
   "execution_count": 98,
   "metadata": {
    "id": "QaFLahZYsrXi"
   },
   "outputs": [
    {
     "data": {
      "text/plain": [
       "['Colombia', 18, 'Mexico', 21, 'Peru', 23]"
      ]
     },
     "execution_count": 98,
     "metadata": {},
     "output_type": "execute_result"
    }
   ],
   "source": [
    "temperatura_nombres"
   ]
  },
  {
   "cell_type": "markdown",
   "metadata": {
    "id": "Oe7n4KKpsrXi"
   },
   "source": [
    "### Agregar elementos a una lista"
   ]
  },
  {
   "cell_type": "code",
   "execution_count": 99,
   "metadata": {
    "id": "_vYK8l_JsrXi"
   },
   "outputs": [],
   "source": [
    "temperatura_ecuador = 19"
   ]
  },
  {
   "cell_type": "code",
   "execution_count": 100,
   "metadata": {
    "id": "WiTEgjf4srXi"
   },
   "outputs": [
    {
     "data": {
      "text/plain": [
       "['Colombia', 18, 'Mexico', 21, 'Peru', 23, 19]"
      ]
     },
     "execution_count": 100,
     "metadata": {},
     "output_type": "execute_result"
    }
   ],
   "source": [
    "temperatura_nombres + [temperatura_ecuador]"
   ]
  },
  {
   "cell_type": "code",
   "execution_count": 101,
   "metadata": {
    "id": "bO75UFH6srXi",
    "scrolled": true
   },
   "outputs": [
    {
     "data": {
      "text/plain": [
       "['Colombia', 18, 'Mexico', 21, 'Peru', 23, 'Ecuador', 19]"
      ]
     },
     "execution_count": 101,
     "metadata": {},
     "output_type": "execute_result"
    }
   ],
   "source": [
    "temperatura_nombres + ['Ecuador', temperatura_ecuador]"
   ]
  },
  {
   "cell_type": "code",
   "execution_count": 102,
   "metadata": {
    "id": "j4H2121psrXj"
   },
   "outputs": [
    {
     "ename": "TypeError",
     "evalue": "can only concatenate list (not \"int\") to list",
     "output_type": "error",
     "traceback": [
      "\u001b[1;31m---------------------------------------------------------------------------\u001b[0m",
      "\u001b[1;31mTypeError\u001b[0m                                 Traceback (most recent call last)",
      "Input \u001b[1;32mIn [102]\u001b[0m, in \u001b[0;36m<cell line: 1>\u001b[1;34m()\u001b[0m\n\u001b[1;32m----> 1\u001b[0m \u001b[43mtemperatura_nombres\u001b[49m\u001b[43m \u001b[49m\u001b[38;5;241;43m+\u001b[39;49m\u001b[43m \u001b[49m\u001b[38;5;241;43m19\u001b[39;49m\n",
      "\u001b[1;31mTypeError\u001b[0m: can only concatenate list (not \"int\") to list"
     ]
    }
   ],
   "source": [
    "temperatura_nombres + 19"
   ]
  },
  {
   "cell_type": "code",
   "execution_count": 103,
   "metadata": {
    "id": "mmrsPGlssrXj"
   },
   "outputs": [
    {
     "data": {
      "text/plain": [
       "['Colombia', 18, 'Mexico', 21, 'Peru', 23]"
      ]
     },
     "execution_count": 103,
     "metadata": {},
     "output_type": "execute_result"
    }
   ],
   "source": [
    "temperatura_nombres"
   ]
  },
  {
   "cell_type": "code",
   "execution_count": 104,
   "metadata": {
    "id": "1FtkExmssrXj"
   },
   "outputs": [
    {
     "data": {
      "text/plain": [
       "6"
      ]
     },
     "execution_count": 104,
     "metadata": {},
     "output_type": "execute_result"
    }
   ],
   "source": [
    "len(temperatura_nombres)"
   ]
  },
  {
   "cell_type": "code",
   "execution_count": 105,
   "metadata": {
    "id": "AnqiRAGPsrXj"
   },
   "outputs": [],
   "source": [
    "temperatura_nombres = temperatura_nombres + ['Ecuador', temperatura_ecuador]"
   ]
  },
  {
   "cell_type": "code",
   "execution_count": 106,
   "metadata": {
    "id": "kWtavi2usrXj",
    "scrolled": true
   },
   "outputs": [
    {
     "data": {
      "text/plain": [
       "['Colombia', 18, 'Mexico', 21, 'Peru', 23, 'Ecuador', 19]"
      ]
     },
     "execution_count": 106,
     "metadata": {},
     "output_type": "execute_result"
    }
   ],
   "source": [
    "temperatura_nombres"
   ]
  },
  {
   "cell_type": "code",
   "execution_count": 107,
   "metadata": {
    "id": "BjacwOXysrXj"
   },
   "outputs": [
    {
     "data": {
      "text/plain": [
       "8"
      ]
     },
     "execution_count": 107,
     "metadata": {},
     "output_type": "execute_result"
    }
   ],
   "source": [
    "len(temperatura_nombres)"
   ]
  },
  {
   "cell_type": "code",
   "execution_count": 108,
   "metadata": {
    "id": "HeLjGPGAsrXj"
   },
   "outputs": [
    {
     "data": {
      "text/plain": [
       "('Ecuador', 19)"
      ]
     },
     "execution_count": 108,
     "metadata": {},
     "output_type": "execute_result"
    }
   ],
   "source": [
    "temperatura_nombres[6], temperatura_nombres[7]"
   ]
  },
  {
   "cell_type": "markdown",
   "metadata": {
    "id": "3kcCePJtsrXk"
   },
   "source": [
    "### Eliminar elementos de una lista"
   ]
  },
  {
   "cell_type": "code",
   "execution_count": 109,
   "metadata": {
    "id": "60-s0ptUsrXk"
   },
   "outputs": [],
   "source": [
    "del(temperatura_nombres[7])"
   ]
  },
  {
   "cell_type": "code",
   "execution_count": 110,
   "metadata": {
    "id": "8L9frn2ssrXk"
   },
   "outputs": [
    {
     "data": {
      "text/plain": [
       "['Colombia', 18, 'Mexico', 21, 'Peru', 23, 'Ecuador']"
      ]
     },
     "execution_count": 110,
     "metadata": {},
     "output_type": "execute_result"
    }
   ],
   "source": [
    "temperatura_nombres"
   ]
  },
  {
   "cell_type": "code",
   "execution_count": 111,
   "metadata": {
    "id": "gZBSi02SsrXk"
   },
   "outputs": [],
   "source": [
    "del(temperatura_nombres[6])"
   ]
  },
  {
   "cell_type": "code",
   "execution_count": 112,
   "metadata": {
    "id": "pY8_yG_EsrXk"
   },
   "outputs": [
    {
     "data": {
      "text/plain": [
       "['Colombia', 18, 'Mexico', 21, 'Peru', 23]"
      ]
     },
     "execution_count": 112,
     "metadata": {},
     "output_type": "execute_result"
    }
   ],
   "source": [
    "temperatura_nombres"
   ]
  },
  {
   "cell_type": "markdown",
   "metadata": {
    "id": "-_a9vXijsrXk"
   },
   "source": [
    "### Copiar listas"
   ]
  },
  {
   "cell_type": "code",
   "execution_count": 113,
   "metadata": {
    "id": "gKHswxoAsrXk"
   },
   "outputs": [],
   "source": [
    "temperatura_copia = temperatura_nombres"
   ]
  },
  {
   "cell_type": "code",
   "execution_count": 114,
   "metadata": {
    "id": "a2VJiF7csrXk"
   },
   "outputs": [
    {
     "data": {
      "text/plain": [
       "['Colombia', 18, 'Mexico', 21, 'Peru', 23]"
      ]
     },
     "execution_count": 114,
     "metadata": {},
     "output_type": "execute_result"
    }
   ],
   "source": [
    "temperatura_copia"
   ]
  },
  {
   "cell_type": "code",
   "execution_count": 115,
   "metadata": {
    "id": "zPnFvt6PsrXl"
   },
   "outputs": [],
   "source": [
    "del(temperatura_nombres[0])"
   ]
  },
  {
   "cell_type": "code",
   "execution_count": 116,
   "metadata": {
    "id": "OLp1hYUesrXl"
   },
   "outputs": [
    {
     "data": {
      "text/plain": [
       "[18, 'Mexico', 21, 'Peru', 23]"
      ]
     },
     "execution_count": 116,
     "metadata": {},
     "output_type": "execute_result"
    }
   ],
   "source": [
    "temperatura_nombres"
   ]
  },
  {
   "cell_type": "code",
   "execution_count": 117,
   "metadata": {
    "id": "bc4N4CyUsrXl"
   },
   "outputs": [
    {
     "data": {
      "text/plain": [
       "[18, 'Mexico', 21, 'Peru', 23]"
      ]
     },
     "execution_count": 117,
     "metadata": {},
     "output_type": "execute_result"
    }
   ],
   "source": [
    "temperatura_copia"
   ]
  },
  {
   "cell_type": "code",
   "execution_count": 118,
   "metadata": {
    "id": "zfNuonIHsrXl"
   },
   "outputs": [],
   "source": [
    "temperatura_nombres = [\"Brazil\", 25, \"Mexico\", 21, \"Peru\", 23]"
   ]
  },
  {
   "cell_type": "code",
   "execution_count": 119,
   "metadata": {
    "id": "8bHHmUE2srXl"
   },
   "outputs": [
    {
     "data": {
      "text/plain": [
       "['Brazil', 25, 'Mexico', 21, 'Peru', 23]"
      ]
     },
     "execution_count": 119,
     "metadata": {},
     "output_type": "execute_result"
    }
   ],
   "source": [
    "temperatura_nombres"
   ]
  },
  {
   "cell_type": "code",
   "execution_count": 120,
   "metadata": {
    "id": "yWw5wpl1srXl"
   },
   "outputs": [],
   "source": [
    "temperatura_copia = temperatura_nombres[:]"
   ]
  },
  {
   "cell_type": "code",
   "execution_count": 121,
   "metadata": {
    "id": "Z2osvxG2srXl"
   },
   "outputs": [],
   "source": [
    "del(temperatura_nombres[0])"
   ]
  },
  {
   "cell_type": "code",
   "execution_count": 122,
   "metadata": {
    "id": "YU8sv2j3srXl"
   },
   "outputs": [
    {
     "data": {
      "text/plain": [
       "[25, 'Mexico', 21, 'Peru', 23]"
      ]
     },
     "execution_count": 122,
     "metadata": {},
     "output_type": "execute_result"
    }
   ],
   "source": [
    "temperatura_nombres"
   ]
  },
  {
   "cell_type": "code",
   "execution_count": 123,
   "metadata": {
    "id": "RNqh0F0bsrXm"
   },
   "outputs": [
    {
     "data": {
      "text/plain": [
       "['Brazil', 25, 'Mexico', 21, 'Peru', 23]"
      ]
     },
     "execution_count": 123,
     "metadata": {},
     "output_type": "execute_result"
    }
   ],
   "source": [
    "temperatura_copia"
   ]
  },
  {
   "cell_type": "code",
   "execution_count": 124,
   "metadata": {
    "id": "W_6V0VtTsrXm"
   },
   "outputs": [],
   "source": [
    "temperatura_nombres = [\"Brazil\", 25, \"Mexico\", 21, \"Peru\", 23]"
   ]
  },
  {
   "cell_type": "code",
   "execution_count": 125,
   "metadata": {
    "id": "No8iIkq8srXm"
   },
   "outputs": [
    {
     "data": {
      "text/plain": [
       "['Brazil', 25, 'Mexico', 21, 'Peru', 23]"
      ]
     },
     "execution_count": 125,
     "metadata": {},
     "output_type": "execute_result"
    }
   ],
   "source": [
    "temperatura_nombres"
   ]
  },
  {
   "cell_type": "code",
   "execution_count": 126,
   "metadata": {
    "id": "6l6gbaEbsrXm"
   },
   "outputs": [],
   "source": [
    "temperatura_copia = list(temperatura_nombres)"
   ]
  },
  {
   "cell_type": "code",
   "execution_count": 127,
   "metadata": {
    "id": "Wote0SsqsrXm"
   },
   "outputs": [],
   "source": [
    "del(temperatura_nombres[0])"
   ]
  },
  {
   "cell_type": "code",
   "execution_count": 128,
   "metadata": {
    "id": "Pu-DAjNJsrXm"
   },
   "outputs": [
    {
     "data": {
      "text/plain": [
       "[25, 'Mexico', 21, 'Peru', 23]"
      ]
     },
     "execution_count": 128,
     "metadata": {},
     "output_type": "execute_result"
    }
   ],
   "source": [
    "temperatura_nombres"
   ]
  },
  {
   "cell_type": "code",
   "execution_count": 129,
   "metadata": {
    "id": "YyRg8APZsrXm"
   },
   "outputs": [
    {
     "data": {
      "text/plain": [
       "['Brazil', 25, 'Mexico', 21, 'Peru', 23]"
      ]
     },
     "execution_count": 129,
     "metadata": {},
     "output_type": "execute_result"
    }
   ],
   "source": [
    "temperatura_copia"
   ]
  },
  {
   "cell_type": "markdown",
   "metadata": {
    "id": "K2VnZV5KsrXm"
   },
   "source": [
    "## Capítulo 3 - Diccionarios"
   ]
  },
  {
   "cell_type": "markdown",
   "metadata": {
    "id": "Rs8uwyTxsrXm"
   },
   "source": [
    "### Creación de diccionarios"
   ]
  },
  {
   "cell_type": "code",
   "execution_count": 130,
   "metadata": {
    "id": "acZdBGDDsrXm"
   },
   "outputs": [],
   "source": [
    "dicc_temp = {\n",
    "    \"Brazil\": 25,\n",
    "    \"Mexico\": 21,\n",
    "    \"Peru\" : 23,\n",
    "    \"Ecuador\": 19\n",
    "            }"
   ]
  },
  {
   "cell_type": "code",
   "execution_count": 131,
   "metadata": {
    "id": "3Cp_Nyb2srXm"
   },
   "outputs": [
    {
     "data": {
      "text/plain": [
       "{'Brazil': 25, 'Mexico': 21, 'Peru': 23, 'Ecuador': 19}"
      ]
     },
     "execution_count": 131,
     "metadata": {},
     "output_type": "execute_result"
    }
   ],
   "source": [
    "dicc_temp"
   ]
  },
  {
   "cell_type": "code",
   "execution_count": 132,
   "metadata": {
    "id": "AjEHzenbsrXn"
   },
   "outputs": [],
   "source": [
    "dicc_temp_1 = {\n",
    "    \"Brazil\": 25,\n",
    "    \"Mexico\": [21,23,24,18,22,20,18],\n",
    "    \"Peru\" : \"Lima\",\n",
    "    \"Ecuador\": 19\n",
    "            }"
   ]
  },
  {
   "cell_type": "code",
   "execution_count": 133,
   "metadata": {
    "id": "FeMQUQHWsrXn"
   },
   "outputs": [
    {
     "data": {
      "text/plain": [
       "{'Brazil': 25,\n",
       " 'Mexico': [21, 23, 24, 18, 22, 20, 18],\n",
       " 'Peru': 'Lima',\n",
       " 'Ecuador': 19}"
      ]
     },
     "execution_count": 133,
     "metadata": {},
     "output_type": "execute_result"
    }
   ],
   "source": [
    "dicc_temp_1"
   ]
  },
  {
   "cell_type": "code",
   "execution_count": 134,
   "metadata": {
    "id": "0_WSo8kQsrXn"
   },
   "outputs": [
    {
     "data": {
      "text/plain": [
       "25"
      ]
     },
     "execution_count": 134,
     "metadata": {},
     "output_type": "execute_result"
    }
   ],
   "source": [
    "dicc_temp_1[\"Brazil\"]"
   ]
  },
  {
   "cell_type": "code",
   "execution_count": 135,
   "metadata": {
    "id": "7HbtiC-psrXn"
   },
   "outputs": [
    {
     "data": {
      "text/plain": [
       "[21, 23, 24, 18, 22, 20, 18]"
      ]
     },
     "execution_count": 135,
     "metadata": {},
     "output_type": "execute_result"
    }
   ],
   "source": [
    "dicc_temp_1[\"Mexico\"]"
   ]
  },
  {
   "cell_type": "code",
   "execution_count": 136,
   "metadata": {
    "id": "fR6Q2iTKsrXn",
    "scrolled": true
   },
   "outputs": [
    {
     "data": {
      "text/plain": [
       "'Lima'"
      ]
     },
     "execution_count": 136,
     "metadata": {},
     "output_type": "execute_result"
    }
   ],
   "source": [
    "dicc_temp_1[\"Peru\"]"
   ]
  },
  {
   "cell_type": "markdown",
   "metadata": {
    "id": "o6I5Y-8bsrXn"
   },
   "source": [
    "### Agregar elemento"
   ]
  },
  {
   "cell_type": "code",
   "execution_count": 137,
   "metadata": {
    "id": "BQSQxkVxsrXn"
   },
   "outputs": [],
   "source": [
    "dicc_temp['Colombia'] = 17"
   ]
  },
  {
   "cell_type": "code",
   "execution_count": 138,
   "metadata": {
    "id": "lCEYe5IdsrXn"
   },
   "outputs": [
    {
     "data": {
      "text/plain": [
       "{'Brazil': 25, 'Mexico': 21, 'Peru': 23, 'Ecuador': 19, 'Colombia': 17}"
      ]
     },
     "execution_count": 138,
     "metadata": {},
     "output_type": "execute_result"
    }
   ],
   "source": [
    "dicc_temp"
   ]
  },
  {
   "cell_type": "code",
   "execution_count": 139,
   "metadata": {
    "id": "hffBJuPysrXn"
   },
   "outputs": [
    {
     "data": {
      "text/plain": [
       "17"
      ]
     },
     "execution_count": 139,
     "metadata": {},
     "output_type": "execute_result"
    }
   ],
   "source": [
    "dicc_temp['Colombia']"
   ]
  },
  {
   "cell_type": "markdown",
   "metadata": {
    "id": "x-PDQOhosrXo"
   },
   "source": [
    "### Eliminar un elemento"
   ]
  },
  {
   "cell_type": "code",
   "execution_count": 140,
   "metadata": {
    "id": "FmJWodPFsrXo"
   },
   "outputs": [],
   "source": [
    "del(dicc_temp['Ecuador'])"
   ]
  },
  {
   "cell_type": "code",
   "execution_count": 141,
   "metadata": {
    "id": "OT3FrR-psrXo"
   },
   "outputs": [
    {
     "data": {
      "text/plain": [
       "{'Brazil': 25, 'Mexico': 21, 'Peru': 23, 'Colombia': 17}"
      ]
     },
     "execution_count": 141,
     "metadata": {},
     "output_type": "execute_result"
    }
   ],
   "source": [
    "dicc_temp"
   ]
  },
  {
   "cell_type": "markdown",
   "metadata": {
    "id": "DvQhz9xFsrXo"
   },
   "source": [
    "### Evaluar si un elemento está en el diccionario"
   ]
  },
  {
   "cell_type": "code",
   "execution_count": 142,
   "metadata": {
    "id": "Ywx7SUBpsrXo"
   },
   "outputs": [
    {
     "data": {
      "text/plain": [
       "False"
      ]
     },
     "execution_count": 142,
     "metadata": {},
     "output_type": "execute_result"
    }
   ],
   "source": [
    "'Ecuador' in dicc_temp"
   ]
  },
  {
   "cell_type": "code",
   "execution_count": 143,
   "metadata": {
    "id": "dBKbQP9BsrXo"
   },
   "outputs": [
    {
     "data": {
      "text/plain": [
       "True"
      ]
     },
     "execution_count": 143,
     "metadata": {},
     "output_type": "execute_result"
    }
   ],
   "source": [
    "'Mexico' in dicc_temp"
   ]
  },
  {
   "cell_type": "markdown",
   "metadata": {
    "id": "WUvMtWVtsrXo"
   },
   "source": [
    "### Revisar todas las keys y values"
   ]
  },
  {
   "cell_type": "code",
   "execution_count": 144,
   "metadata": {
    "id": "-GrUZGkPsrXp"
   },
   "outputs": [
    {
     "data": {
      "text/plain": [
       "dict_keys(['Brazil', 'Mexico', 'Peru', 'Colombia'])"
      ]
     },
     "execution_count": 144,
     "metadata": {},
     "output_type": "execute_result"
    }
   ],
   "source": [
    "dicc_temp.keys()"
   ]
  },
  {
   "cell_type": "code",
   "execution_count": 145,
   "metadata": {
    "id": "3a88YJe5srXp"
   },
   "outputs": [
    {
     "data": {
      "text/plain": [
       "['Brazil', 'Mexico', 'Peru', 'Colombia']"
      ]
     },
     "execution_count": 145,
     "metadata": {},
     "output_type": "execute_result"
    }
   ],
   "source": [
    "list(dicc_temp.keys())"
   ]
  },
  {
   "cell_type": "code",
   "execution_count": 146,
   "metadata": {
    "id": "n9aJiHnasrXp"
   },
   "outputs": [
    {
     "data": {
      "text/plain": [
       "dict_values([25, 21, 23, 17])"
      ]
     },
     "execution_count": 146,
     "metadata": {},
     "output_type": "execute_result"
    }
   ],
   "source": [
    "dicc_temp.values()"
   ]
  },
  {
   "cell_type": "code",
   "execution_count": 147,
   "metadata": {
    "id": "SDQuCuo8srXp"
   },
   "outputs": [
    {
     "data": {
      "text/plain": [
       "[25, 21, 23, 17]"
      ]
     },
     "execution_count": 147,
     "metadata": {},
     "output_type": "execute_result"
    }
   ],
   "source": [
    "list(dicc_temp.values())"
   ]
  },
  {
   "cell_type": "markdown",
   "metadata": {
    "id": "aGEzbuQSsrXp"
   },
   "source": [
    "***\n",
    "***\n",
    "# Módulo 3 - Programación en Python"
   ]
  },
  {
   "cell_type": "markdown",
   "metadata": {
    "id": "7ax552eAsrXp"
   },
   "source": [
    "## Capítulo 1 - Condiciones y loops"
   ]
  },
  {
   "cell_type": "markdown",
   "metadata": {
    "id": "MXLF20SPsrXp"
   },
   "source": [
    "### Condiciones"
   ]
  },
  {
   "cell_type": "code",
   "execution_count": 148,
   "metadata": {
    "id": "8ly9yCoBsrXp"
   },
   "outputs": [],
   "source": [
    "temperatura = 22"
   ]
  },
  {
   "cell_type": "code",
   "execution_count": 149,
   "metadata": {
    "id": "SaVyHJXLsrXq"
   },
   "outputs": [
    {
     "data": {
      "text/plain": [
       "22"
      ]
     },
     "execution_count": 149,
     "metadata": {},
     "output_type": "execute_result"
    }
   ],
   "source": [
    "temperatura\n"
   ]
  },
  {
   "cell_type": "code",
   "execution_count": 150,
   "metadata": {
    "id": "4laeO-JGsrXq"
   },
   "outputs": [
    {
     "data": {
      "text/plain": [
       "False"
      ]
     },
     "execution_count": 150,
     "metadata": {},
     "output_type": "execute_result"
    }
   ],
   "source": [
    "temperatura == 30"
   ]
  },
  {
   "cell_type": "code",
   "execution_count": 151,
   "metadata": {
    "id": "TRbJDDadsrXq"
   },
   "outputs": [
    {
     "data": {
      "text/plain": [
       "True"
      ]
     },
     "execution_count": 151,
     "metadata": {},
     "output_type": "execute_result"
    }
   ],
   "source": [
    "temperatura < 25 "
   ]
  },
  {
   "cell_type": "code",
   "execution_count": 152,
   "metadata": {
    "id": "Z5hxfLobsrXq"
   },
   "outputs": [
    {
     "data": {
      "text/plain": [
       "True"
      ]
     },
     "execution_count": 152,
     "metadata": {},
     "output_type": "execute_result"
    }
   ],
   "source": [
    "temperatura != 15"
   ]
  },
  {
   "cell_type": "code",
   "execution_count": 153,
   "metadata": {
    "id": "l2eUyWNusrXr"
   },
   "outputs": [
    {
     "data": {
      "text/plain": [
       "True"
      ]
     },
     "execution_count": 153,
     "metadata": {},
     "output_type": "execute_result"
    }
   ],
   "source": [
    "temperatura >= 18"
   ]
  },
  {
   "cell_type": "code",
   "execution_count": 154,
   "metadata": {
    "id": "A-wpbQN_srXr"
   },
   "outputs": [],
   "source": [
    "if (temperatura < 0):\n",
    "    print(\"Temperatura menor a 0C\") "
   ]
  },
  {
   "cell_type": "code",
   "execution_count": 155,
   "metadata": {
    "id": "Ky7utsRpsrXr"
   },
   "outputs": [
    {
     "name": "stdout",
     "output_type": "stream",
     "text": [
      "Temperatura menor a 0C\n"
     ]
    }
   ],
   "source": [
    "temperatura = -4\n",
    "\n",
    "if (temperatura < 0):\n",
    "    print(\"Temperatura menor a 0C\")"
   ]
  },
  {
   "cell_type": "code",
   "execution_count": 156,
   "metadata": {
    "id": "Tl4jAmOqsrXr"
   },
   "outputs": [
    {
     "name": "stdout",
     "output_type": "stream",
     "text": [
      "Temperatura mayor a 0C\n"
     ]
    }
   ],
   "source": [
    "temperatura = 22\n",
    "\n",
    "if (temperatura < 0):\n",
    "    print(\"Temperatura menor a 0C\")\n",
    "else:\n",
    "    print(\"Temperatura mayor a 0C\")"
   ]
  },
  {
   "cell_type": "code",
   "execution_count": 157,
   "metadata": {
    "id": "caTaIOyLsrXr"
   },
   "outputs": [],
   "source": [
    "temperatura = 22\n",
    "\n",
    "if (temperatura < 0):\n",
    "    print(\"Temperatura menor a 0C\")\n",
    "elif (temperatura > 35):\n",
    "    print(\"Temperatura muy alta\")"
   ]
  },
  {
   "cell_type": "code",
   "execution_count": 158,
   "metadata": {
    "id": "FuHZDGMFsrXr"
   },
   "outputs": [
    {
     "name": "stdout",
     "output_type": "stream",
     "text": [
      "Otra temperatura\n"
     ]
    }
   ],
   "source": [
    "temperatura = 22\n",
    "\n",
    "if (temperatura < 0):\n",
    "    print(\"Temperatura menor a 0C\")\n",
    "elif (temperatura > 35):\n",
    "    print(\"Temperatura muy alta\")\n",
    "else:\n",
    "    print(\"Otra temperatura\")"
   ]
  },
  {
   "cell_type": "markdown",
   "metadata": {
    "id": "Z-HvfAR3srXr"
   },
   "source": [
    "### Operadores lógicos"
   ]
  },
  {
   "cell_type": "code",
   "execution_count": 163,
   "metadata": {
    "id": "RfAewMThsrXr"
   },
   "outputs": [],
   "source": [
    "temperatura = 22\n",
    "temperatura_alta = 25"
   ]
  },
  {
   "cell_type": "code",
   "execution_count": 164,
   "metadata": {
    "id": "pVt6a59ZsrXs"
   },
   "outputs": [
    {
     "data": {
      "text/plain": [
       "True"
      ]
     },
     "execution_count": 164,
     "metadata": {},
     "output_type": "execute_result"
    }
   ],
   "source": [
    "temperatura != temperatura_alta"
   ]
  },
  {
   "cell_type": "code",
   "execution_count": 165,
   "metadata": {
    "id": "Hy46TZbcsrXs"
   },
   "outputs": [
    {
     "data": {
      "text/plain": [
       "True"
      ]
     },
     "execution_count": 165,
     "metadata": {},
     "output_type": "execute_result"
    }
   ],
   "source": [
    "temperatura is not temperatura_alta"
   ]
  },
  {
   "cell_type": "code",
   "execution_count": 166,
   "metadata": {
    "id": "oPYdByHnsrXs"
   },
   "outputs": [
    {
     "name": "stdout",
     "output_type": "stream",
     "text": [
      "Temperatura ok\n"
     ]
    }
   ],
   "source": [
    "if (temperatura is not temperatura_alta):\n",
    "    print(\"Temperatura ok\")"
   ]
  },
  {
   "cell_type": "code",
   "execution_count": 167,
   "metadata": {
    "id": "98Fpn28LsrXs"
   },
   "outputs": [
    {
     "name": "stdout",
     "output_type": "stream",
     "text": [
      "No congelación\n"
     ]
    }
   ],
   "source": [
    "if (temperatura == 0) or (temperatura < 0):\n",
    "    print(\"Temperatura de congelación menor\")\n",
    "else:\n",
    "    print(\"No congelación\")"
   ]
  },
  {
   "cell_type": "code",
   "execution_count": 168,
   "metadata": {
    "id": "M8KmPRbBsrXs"
   },
   "outputs": [
    {
     "name": "stdout",
     "output_type": "stream",
     "text": [
      "Temperatura correcta\n"
     ]
    }
   ],
   "source": [
    "if (temperatura > 10) and (temperatura < 30):\n",
    "    print(\"Temperatura correcta\")\n",
    "else:\n",
    "    print(\"Temperatura incorrecta\")"
   ]
  },
  {
   "cell_type": "markdown",
   "metadata": {
    "id": "c9EDlzSdsrXs"
   },
   "source": [
    "### For loops"
   ]
  },
  {
   "cell_type": "code",
   "execution_count": 169,
   "metadata": {
    "id": "T7sGGtzKsrXs",
    "scrolled": true
   },
   "outputs": [
    {
     "data": {
      "text/plain": [
       "range(0, 10)"
      ]
     },
     "execution_count": 169,
     "metadata": {},
     "output_type": "execute_result"
    }
   ],
   "source": [
    "range(10)"
   ]
  },
  {
   "cell_type": "code",
   "execution_count": 170,
   "metadata": {
    "id": "dFVb6ybvsrXt"
   },
   "outputs": [
    {
     "data": {
      "text/plain": [
       "range(5, 10)"
      ]
     },
     "execution_count": 170,
     "metadata": {},
     "output_type": "execute_result"
    }
   ],
   "source": [
    "range(5,10)"
   ]
  },
  {
   "cell_type": "code",
   "execution_count": 171,
   "metadata": {
    "id": "dZqJ0EDxsrXt"
   },
   "outputs": [
    {
     "data": {
      "text/plain": [
       "[5, 6, 7, 8, 9]"
      ]
     },
     "execution_count": 171,
     "metadata": {},
     "output_type": "execute_result"
    }
   ],
   "source": [
    "list(range(5,10))"
   ]
  },
  {
   "cell_type": "code",
   "execution_count": 172,
   "metadata": {
    "id": "3dbRoNqisrXt"
   },
   "outputs": [],
   "source": [
    "temperatura_2 = [1,20,15,32,27]"
   ]
  },
  {
   "cell_type": "code",
   "execution_count": 173,
   "metadata": {
    "id": "HMJIrnjGsrXu"
   },
   "outputs": [
    {
     "data": {
      "text/plain": [
       "5"
      ]
     },
     "execution_count": 173,
     "metadata": {},
     "output_type": "execute_result"
    }
   ],
   "source": [
    "len(temperatura_2)"
   ]
  },
  {
   "cell_type": "code",
   "execution_count": 174,
   "metadata": {
    "id": "tO6SribXsrXu"
   },
   "outputs": [
    {
     "name": "stdout",
     "output_type": "stream",
     "text": [
      "1\n",
      "20\n",
      "15\n",
      "32\n",
      "27\n"
     ]
    }
   ],
   "source": [
    "for i in range(5):\n",
    "    print(temperatura_2[i])"
   ]
  },
  {
   "cell_type": "code",
   "execution_count": 175,
   "metadata": {
    "id": "KZXLCrO6srXu"
   },
   "outputs": [
    {
     "data": {
      "text/plain": [
       "1"
      ]
     },
     "execution_count": 175,
     "metadata": {},
     "output_type": "execute_result"
    }
   ],
   "source": [
    "temperatura_2[0]"
   ]
  },
  {
   "cell_type": "code",
   "execution_count": 176,
   "metadata": {
    "id": "fbL0KFEbsrXu"
   },
   "outputs": [
    {
     "data": {
      "text/plain": [
       "20"
      ]
     },
     "execution_count": 176,
     "metadata": {},
     "output_type": "execute_result"
    }
   ],
   "source": [
    "temperatura_2[1]"
   ]
  },
  {
   "cell_type": "code",
   "execution_count": 177,
   "metadata": {
    "id": "_E9oR70asrXu"
   },
   "outputs": [
    {
     "name": "stdout",
     "output_type": "stream",
     "text": [
      "10\n",
      "12\n",
      "14\n",
      "16\n",
      "18\n"
     ]
    }
   ],
   "source": [
    "for i in range(5,10):\n",
    "    print(i*2)"
   ]
  },
  {
   "cell_type": "code",
   "execution_count": 178,
   "metadata": {
    "id": "Tva11XhRsrXu"
   },
   "outputs": [
    {
     "data": {
      "text/plain": [
       "[0, 1, 2, 3, 4, 5, 6, 7, 8, 9]"
      ]
     },
     "execution_count": 178,
     "metadata": {},
     "output_type": "execute_result"
    }
   ],
   "source": [
    "list(range(10))"
   ]
  },
  {
   "cell_type": "code",
   "execution_count": 180,
   "metadata": {
    "id": "R3vYOfarsrXu"
   },
   "outputs": [
    {
     "name": "stdout",
     "output_type": "stream",
     "text": [
      "5\n",
      "100\n",
      "75\n",
      "160\n",
      "135\n"
     ]
    }
   ],
   "source": [
    "for t in temperatura_2:\n",
    "    print(t*5)"
   ]
  },
  {
   "cell_type": "markdown",
   "metadata": {
    "id": "ZX1pEjDSsrXu"
   },
   "source": [
    "### While loops"
   ]
  },
  {
   "cell_type": "code",
   "execution_count": 181,
   "metadata": {
    "id": "KcrVcDsusrXu"
   },
   "outputs": [
    {
     "name": "stdout",
     "output_type": "stream",
     "text": [
      "0\n",
      "1\n",
      "2\n",
      "3\n",
      "4\n",
      "5\n"
     ]
    }
   ],
   "source": [
    "i = 0\n",
    "while i < 6:\n",
    "    print(i)\n",
    "    # i += 1\n",
    "    i = i+1"
   ]
  },
  {
   "cell_type": "markdown",
   "metadata": {
    "id": "fgBvb89ssrXu"
   },
   "source": [
    "## Capítulo 2 - Funciones"
   ]
  },
  {
   "cell_type": "code",
   "execution_count": 182,
   "metadata": {
    "id": "YfaJkSpKsrXv"
   },
   "outputs": [],
   "source": [
    "temperatura_2 = [1,20,15,32,27]"
   ]
  },
  {
   "cell_type": "code",
   "execution_count": 183,
   "metadata": {
    "id": "SGebv6QssrXv"
   },
   "outputs": [
    {
     "data": {
      "text/plain": [
       "[1, 20, 15, 32, 27]"
      ]
     },
     "execution_count": 183,
     "metadata": {},
     "output_type": "execute_result"
    }
   ],
   "source": [
    "temperatura_2"
   ]
  },
  {
   "cell_type": "code",
   "execution_count": 184,
   "metadata": {
    "id": "4mFcbIR6srXv"
   },
   "outputs": [
    {
     "data": {
      "text/plain": [
       "list"
      ]
     },
     "execution_count": 184,
     "metadata": {},
     "output_type": "execute_result"
    }
   ],
   "source": [
    "type(temperatura_2)"
   ]
  },
  {
   "cell_type": "code",
   "execution_count": 185,
   "metadata": {
    "id": "1foUuxlRsrXv"
   },
   "outputs": [
    {
     "data": {
      "text/plain": [
       "5"
      ]
     },
     "execution_count": 185,
     "metadata": {},
     "output_type": "execute_result"
    }
   ],
   "source": [
    "len(temperatura_2)"
   ]
  },
  {
   "cell_type": "code",
   "execution_count": 186,
   "metadata": {
    "id": "FBeE0nyMsrXv"
   },
   "outputs": [
    {
     "data": {
      "text/plain": [
       "32"
      ]
     },
     "execution_count": 186,
     "metadata": {},
     "output_type": "execute_result"
    }
   ],
   "source": [
    "max(temperatura_2)"
   ]
  },
  {
   "cell_type": "code",
   "execution_count": 187,
   "metadata": {
    "id": "vMBrjo92srXv"
   },
   "outputs": [],
   "source": [
    "max_temperatura = max(temperatura_2)"
   ]
  },
  {
   "cell_type": "code",
   "execution_count": 188,
   "metadata": {
    "id": "Hmv_iw6zsrXv"
   },
   "outputs": [
    {
     "data": {
      "text/plain": [
       "32"
      ]
     },
     "execution_count": 188,
     "metadata": {},
     "output_type": "execute_result"
    }
   ],
   "source": [
    "max_temperatura"
   ]
  },
  {
   "cell_type": "code",
   "execution_count": 189,
   "metadata": {
    "id": "orq7RdFEsrXv"
   },
   "outputs": [
    {
     "data": {
      "text/plain": [
       "1"
      ]
     },
     "execution_count": 189,
     "metadata": {},
     "output_type": "execute_result"
    }
   ],
   "source": [
    "min(temperatura_2)"
   ]
  },
  {
   "cell_type": "code",
   "execution_count": 190,
   "metadata": {
    "id": "-ENQmYVKsrXv"
   },
   "outputs": [
    {
     "data": {
      "text/plain": [
       "34.6"
      ]
     },
     "execution_count": 190,
     "metadata": {},
     "output_type": "execute_result"
    }
   ],
   "source": [
    "round(34.58242, 1)"
   ]
  },
  {
   "cell_type": "code",
   "execution_count": 191,
   "metadata": {
    "id": "LpwpGhmDsrXw"
   },
   "outputs": [
    {
     "data": {
      "text/plain": [
       "34.582"
      ]
     },
     "execution_count": 191,
     "metadata": {},
     "output_type": "execute_result"
    }
   ],
   "source": [
    "round(34.58242, 3)"
   ]
  },
  {
   "cell_type": "code",
   "execution_count": 192,
   "metadata": {
    "id": "AI0S3Wy9srXw"
   },
   "outputs": [
    {
     "data": {
      "text/plain": [
       "35.0"
      ]
     },
     "execution_count": 192,
     "metadata": {},
     "output_type": "execute_result"
    }
   ],
   "source": [
    "round(34.58242, 0)"
   ]
  },
  {
   "cell_type": "code",
   "execution_count": 193,
   "metadata": {
    "id": "7LpS6YBKsrXw"
   },
   "outputs": [
    {
     "data": {
      "text/plain": [
       "35"
      ]
     },
     "execution_count": 193,
     "metadata": {},
     "output_type": "execute_result"
    }
   ],
   "source": [
    "round(34.58242)"
   ]
  },
  {
   "cell_type": "code",
   "execution_count": 194,
   "metadata": {
    "id": "wATtohOFsrXw"
   },
   "outputs": [
    {
     "name": "stdout",
     "output_type": "stream",
     "text": [
      "Help on built-in function round in module builtins:\n",
      "\n",
      "round(number, ndigits=None)\n",
      "    Round a number to a given precision in decimal digits.\n",
      "    \n",
      "    The return value is an integer if ndigits is omitted or None.  Otherwise\n",
      "    the return value has the same type as the number.  ndigits may be negative.\n",
      "\n"
     ]
    }
   ],
   "source": [
    "help(round)"
   ]
  },
  {
   "cell_type": "markdown",
   "metadata": {
    "id": "avUSxUBqsrXw"
   },
   "source": [
    "### Métodos"
   ]
  },
  {
   "cell_type": "code",
   "execution_count": 195,
   "metadata": {
    "id": "fcwzihtVsrXw"
   },
   "outputs": [
    {
     "data": {
      "text/plain": [
       "[1, 20, 15, 32, 27]"
      ]
     },
     "execution_count": 195,
     "metadata": {},
     "output_type": "execute_result"
    }
   ],
   "source": [
    "temperatura_2"
   ]
  },
  {
   "cell_type": "code",
   "execution_count": 196,
   "metadata": {
    "id": "k0pp4QXTsrXw"
   },
   "outputs": [],
   "source": [
    "pais = \"perú\""
   ]
  },
  {
   "cell_type": "code",
   "execution_count": 197,
   "metadata": {
    "id": "4moxIy7LsrXw"
   },
   "outputs": [
    {
     "data": {
      "text/plain": [
       "'perú'"
      ]
     },
     "execution_count": 197,
     "metadata": {},
     "output_type": "execute_result"
    }
   ],
   "source": [
    "pais"
   ]
  },
  {
   "cell_type": "code",
   "execution_count": 198,
   "metadata": {
    "id": "VtnRLkAOsrXw"
   },
   "outputs": [
    {
     "data": {
      "text/plain": [
       "'Perú'"
      ]
     },
     "execution_count": 198,
     "metadata": {},
     "output_type": "execute_result"
    }
   ],
   "source": [
    "pais.capitalize()"
   ]
  },
  {
   "cell_type": "code",
   "execution_count": 199,
   "metadata": {
    "id": "qmG3dfcesrXw"
   },
   "outputs": [
    {
     "data": {
      "text/plain": [
       "'peru'"
      ]
     },
     "execution_count": 199,
     "metadata": {},
     "output_type": "execute_result"
    }
   ],
   "source": [
    "pais.replace('ú', 'u')"
   ]
  },
  {
   "cell_type": "code",
   "execution_count": 200,
   "metadata": {
    "id": "HgBV3QSQsrXw"
   },
   "outputs": [
    {
     "data": {
      "text/plain": [
       "[1, 20, 15, 32, 27]"
      ]
     },
     "execution_count": 200,
     "metadata": {},
     "output_type": "execute_result"
    }
   ],
   "source": [
    "temperatura_2"
   ]
  },
  {
   "cell_type": "code",
   "execution_count": 201,
   "metadata": {
    "id": "KIepHEpVsrXx"
   },
   "outputs": [
    {
     "data": {
      "text/plain": [
       "3"
      ]
     },
     "execution_count": 201,
     "metadata": {},
     "output_type": "execute_result"
    }
   ],
   "source": [
    "temperatura_2.index(32)"
   ]
  },
  {
   "cell_type": "code",
   "execution_count": 202,
   "metadata": {
    "id": "vSGwdXhzsrXx"
   },
   "outputs": [
    {
     "data": {
      "text/plain": [
       "0"
      ]
     },
     "execution_count": 202,
     "metadata": {},
     "output_type": "execute_result"
    }
   ],
   "source": [
    "temperatura_2.index(1)"
   ]
  },
  {
   "cell_type": "code",
   "execution_count": 203,
   "metadata": {
    "id": "jajq5UHUsrXx"
   },
   "outputs": [
    {
     "data": {
      "text/plain": [
       "1"
      ]
     },
     "execution_count": 203,
     "metadata": {},
     "output_type": "execute_result"
    }
   ],
   "source": [
    "temperatura_2.count(20)"
   ]
  },
  {
   "cell_type": "code",
   "execution_count": 204,
   "metadata": {
    "id": "wY4Bc2azsrXx"
   },
   "outputs": [
    {
     "data": {
      "text/plain": [
       "[1, 20, 15, 32, 27]"
      ]
     },
     "execution_count": 204,
     "metadata": {},
     "output_type": "execute_result"
    }
   ],
   "source": [
    "temperatura_2"
   ]
  },
  {
   "cell_type": "code",
   "execution_count": 205,
   "metadata": {
    "id": "YRtEzpLZsrXx"
   },
   "outputs": [
    {
     "ename": "AttributeError",
     "evalue": "'list' object has no attribute 'replace'",
     "output_type": "error",
     "traceback": [
      "\u001b[1;31m---------------------------------------------------------------------------\u001b[0m",
      "\u001b[1;31mAttributeError\u001b[0m                            Traceback (most recent call last)",
      "Input \u001b[1;32mIn [205]\u001b[0m, in \u001b[0;36m<cell line: 1>\u001b[1;34m()\u001b[0m\n\u001b[1;32m----> 1\u001b[0m \u001b[43mtemperatura_2\u001b[49m\u001b[38;5;241;43m.\u001b[39;49m\u001b[43mreplace\u001b[49m(\u001b[38;5;241m1\u001b[39m, \u001b[38;5;241m45\u001b[39m)\n",
      "\u001b[1;31mAttributeError\u001b[0m: 'list' object has no attribute 'replace'"
     ]
    }
   ],
   "source": [
    "temperatura_2.replace(1, 45)"
   ]
  },
  {
   "cell_type": "code",
   "execution_count": 206,
   "metadata": {
    "id": "H7zkxRObsrXx"
   },
   "outputs": [
    {
     "data": {
      "text/plain": [
       "1"
      ]
     },
     "execution_count": 206,
     "metadata": {},
     "output_type": "execute_result"
    }
   ],
   "source": [
    "pais.index(\"e\")"
   ]
  },
  {
   "cell_type": "code",
   "execution_count": 207,
   "metadata": {
    "id": "wzYvgunIsrXx"
   },
   "outputs": [],
   "source": [
    "temperatura_2.append(10)"
   ]
  },
  {
   "cell_type": "code",
   "execution_count": 208,
   "metadata": {
    "id": "xT3QcrIGsrXx"
   },
   "outputs": [
    {
     "data": {
      "text/plain": [
       "[1, 20, 15, 32, 27, 10]"
      ]
     },
     "execution_count": 208,
     "metadata": {},
     "output_type": "execute_result"
    }
   ],
   "source": [
    "temperatura_2"
   ]
  },
  {
   "cell_type": "code",
   "execution_count": 209,
   "metadata": {
    "id": "GyMj3DwgsrXx"
   },
   "outputs": [],
   "source": [
    "temperatura_2.append(15)"
   ]
  },
  {
   "cell_type": "code",
   "execution_count": 210,
   "metadata": {
    "id": "7xEG5nWysrXx"
   },
   "outputs": [
    {
     "data": {
      "text/plain": [
       "[1, 20, 15, 32, 27, 10, 15]"
      ]
     },
     "execution_count": 210,
     "metadata": {},
     "output_type": "execute_result"
    }
   ],
   "source": [
    "temperatura_2"
   ]
  },
  {
   "cell_type": "markdown",
   "metadata": {
    "id": "J034z-G8srXx"
   },
   "source": [
    "## Capítulo 3 - Paquetes de funciones"
   ]
  },
  {
   "cell_type": "code",
   "execution_count": 217,
   "metadata": {
    "id": "gz1NtKBOsrXy"
   },
   "outputs": [],
   "source": [
    "import pandas as pd\n",
    "import numpy as np"
   ]
  },
  {
   "cell_type": "code",
   "execution_count": 216,
   "metadata": {
    "id": "Lo5JMkDJsrXy"
   },
   "outputs": [
    {
     "name": "stderr",
     "output_type": "stream",
     "text": [
      "\"bash\" no se reconoce como un comando interno o externo,\n",
      "programa o archivo por lotes ejecutable.\n"
     ]
    }
   ],
   "source": [
    "!bash install_package_python3.sh pandas"
   ]
  },
  {
   "cell_type": "markdown",
   "metadata": {
    "id": "lIHf1lgbsrXy"
   },
   "source": [
    "***\n",
    "***\n",
    "# Módulo 4 - Importando y exportando datos"
   ]
  },
  {
   "cell_type": "markdown",
   "metadata": {
    "id": "HlIxHylCsrXy"
   },
   "source": [
    "## Capítulo 1 - Abrir y guardar datos"
   ]
  },
  {
   "cell_type": "markdown",
   "metadata": {
    "id": "FD1E7EMVsrXy"
   },
   "source": [
    "### Leer un archivo"
   ]
  },
  {
   "cell_type": "code",
   "execution_count": 2,
   "metadata": {
    "id": "BDIMYuqfsrXy"
   },
   "outputs": [],
   "source": [
    "archivo = 'IntroPython_Netzun.txt'"
   ]
  },
  {
   "cell_type": "code",
   "execution_count": 3,
   "metadata": {
    "id": "645YYfUvsrXy"
   },
   "outputs": [],
   "source": [
    "leer_archivo = open(archivo, \"r\")"
   ]
  },
  {
   "cell_type": "code",
   "execution_count": 4,
   "metadata": {
    "id": "9OjQKTa1srXy"
   },
   "outputs": [
    {
     "data": {
      "text/plain": [
       "<_io.TextIOWrapper name='IntroPython_Netzun.txt' mode='r' encoding='cp1252'>"
      ]
     },
     "execution_count": 4,
     "metadata": {},
     "output_type": "execute_result"
    }
   ],
   "source": [
    "leer_archivo"
   ]
  },
  {
   "cell_type": "code",
   "execution_count": 224,
   "metadata": {
    "id": "yn7a1YvZsrXy",
    "scrolled": true
   },
   "outputs": [
    {
     "name": "stdout",
     "output_type": "stream",
     "text": [
      "pais,temperatura_max,temperatura_min,temperatura_promedio\n",
      "brasil,28,14,25\n",
      "colombia,26,6,21\n",
      "ecuador,25,5,19\n",
      "mexico,28,8,22\n",
      "peru,24,7,20\n"
     ]
    }
   ],
   "source": [
    "with open(archivo) as leer_archivo:\n",
    "        info_archivo = leer_archivo.read()\n",
    "        print(info_archivo)"
   ]
  },
  {
   "cell_type": "code",
   "execution_count": 225,
   "metadata": {
    "id": "rxgE9ZQssrXz"
   },
   "outputs": [
    {
     "data": {
      "text/plain": [
       "'IntroPython_Netzun.txt'"
      ]
     },
     "execution_count": 225,
     "metadata": {},
     "output_type": "execute_result"
    }
   ],
   "source": [
    "leer_archivo.name"
   ]
  },
  {
   "cell_type": "code",
   "execution_count": 226,
   "metadata": {
    "id": "kOZNZfHCsrXz"
   },
   "outputs": [
    {
     "data": {
      "text/plain": [
       "'r'"
      ]
     },
     "execution_count": 226,
     "metadata": {},
     "output_type": "execute_result"
    }
   ],
   "source": [
    "leer_archivo.mode"
   ]
  },
  {
   "cell_type": "code",
   "execution_count": 227,
   "metadata": {
    "id": "JTe0a_9MsrXz"
   },
   "outputs": [
    {
     "data": {
      "text/plain": [
       "True"
      ]
     },
     "execution_count": 227,
     "metadata": {},
     "output_type": "execute_result"
    }
   ],
   "source": [
    "leer_archivo.closed"
   ]
  },
  {
   "cell_type": "code",
   "execution_count": 228,
   "metadata": {
    "id": "EnTQt5m4srXz"
   },
   "outputs": [
    {
     "data": {
      "text/plain": [
       "<_io.TextIOWrapper name='IntroPython_Netzun.txt' mode='r' encoding='cp1252'>"
      ]
     },
     "execution_count": 228,
     "metadata": {},
     "output_type": "execute_result"
    }
   ],
   "source": [
    "leer_archivo"
   ]
  },
  {
   "cell_type": "code",
   "execution_count": 229,
   "metadata": {
    "id": "CzycccJ5srXz",
    "scrolled": true
   },
   "outputs": [
    {
     "name": "stdout",
     "output_type": "stream",
     "text": [
      "pais,temperatura_max,temperatura_min,temperatura_promedio\n",
      "\n",
      "brasil,28,14,25\n",
      "\n",
      "colombia,26,6,21\n",
      "\n",
      "ecuador,25,5,19\n",
      "\n",
      "mexico,28,8,22\n",
      "\n",
      "peru,24,7,20\n"
     ]
    }
   ],
   "source": [
    "with open(archivo, \"r\") as leer_archivo:\n",
    "    for line in leer_archivo:\n",
    "        print(line)"
   ]
  },
  {
   "cell_type": "markdown",
   "metadata": {
    "id": "1pxkxtbIsrXz"
   },
   "source": [
    "### Guardar creando un nuevo archivo"
   ]
  },
  {
   "cell_type": "code",
   "execution_count": 230,
   "metadata": {
    "id": "HkY0lc2NsrXz"
   },
   "outputs": [],
   "source": [
    "archivo_guardar = 'IntroPython_Netzun_guardar.txt'"
   ]
  },
  {
   "cell_type": "code",
   "execution_count": 231,
   "metadata": {
    "id": "LZWddjqKsrXz"
   },
   "outputs": [],
   "source": [
    "with open(archivo_guardar, \"w\") as archivo2:\n",
    "    archivo2.write(\"Una nueva línea de texto \")"
   ]
  },
  {
   "cell_type": "code",
   "execution_count": 232,
   "metadata": {
    "id": "qwOj3vDzsrXz"
   },
   "outputs": [
    {
     "name": "stdout",
     "output_type": "stream",
     "text": [
      "Una nueva línea de texto \n"
     ]
    }
   ],
   "source": [
    "with open(archivo_guardar) as archivo2:\n",
    "        info_archivo = archivo2.read()\n",
    "        print(info_archivo)"
   ]
  },
  {
   "cell_type": "markdown",
   "metadata": {
    "id": "eNAWD6rmsrXz"
   },
   "source": [
    "### Agregar líneas de texto a un archivo"
   ]
  },
  {
   "cell_type": "code",
   "execution_count": 233,
   "metadata": {
    "id": "R9t7dEQBsrXz"
   },
   "outputs": [],
   "source": [
    "lista_para_guardar = [\"Estas son líneas \", \"que queremos agregar \", \"a un archivo existente \"]"
   ]
  },
  {
   "cell_type": "code",
   "execution_count": 234,
   "metadata": {
    "id": "PetI9UN1srXz"
   },
   "outputs": [],
   "source": [
    "with open(archivo_guardar, \"a\") as archivo2:\n",
    "    for linea in lista_para_guardar:\n",
    "        archivo2.write(linea) "
   ]
  },
  {
   "cell_type": "code",
   "execution_count": 235,
   "metadata": {
    "id": "3L9TUZ8VsrX0"
   },
   "outputs": [
    {
     "name": "stdout",
     "output_type": "stream",
     "text": [
      "Una nueva línea de texto Estas son líneas que queremos agregar a un archivo existente \n"
     ]
    }
   ],
   "source": [
    "with open(archivo_guardar) as archivo2:\n",
    "        info_archivo = archivo2.read()\n",
    "        print(info_archivo)"
   ]
  },
  {
   "cell_type": "markdown",
   "metadata": {
    "id": "u9HyQRJ0srX0"
   },
   "source": [
    "### Copiar un archivo a otro nuevo archivo"
   ]
  },
  {
   "cell_type": "code",
   "execution_count": 236,
   "metadata": {
    "id": "O2cFMgaSsrX0"
   },
   "outputs": [],
   "source": [
    "copia_archivo = 'IntroPython_Netzun_copia.txt'"
   ]
  },
  {
   "cell_type": "code",
   "execution_count": 237,
   "metadata": {
    "id": "ZxnWSrtIsrX0"
   },
   "outputs": [],
   "source": [
    "with open(archivo_guardar, \"r\") as leer_archivo:\n",
    "    with open(copia_archivo, \"w\") as copia_archivo:\n",
    "        for linea in leer_archivo:\n",
    "            copia_archivo.write(linea)  "
   ]
  },
  {
   "cell_type": "code",
   "execution_count": 238,
   "metadata": {
    "id": "xT8Or5rZsrX0"
   },
   "outputs": [],
   "source": [
    "copia_archivo = 'IntroPython_Netzun_copia.txt'"
   ]
  },
  {
   "cell_type": "code",
   "execution_count": 239,
   "metadata": {
    "id": "36PsqufrsrX0"
   },
   "outputs": [
    {
     "name": "stdout",
     "output_type": "stream",
     "text": [
      "Una nueva línea de texto Estas son líneas que queremos agregar a un archivo existente \n"
     ]
    }
   ],
   "source": [
    "with open(copia_archivo) as archivo3:\n",
    "        info_archivo = archivo3.read()\n",
    "        print(info_archivo)"
   ]
  },
  {
   "cell_type": "markdown",
   "metadata": {
    "id": "Xzyjy988srX0"
   },
   "source": [
    "## Capítulo 2 - Abrir y guardar datos usando Pandas"
   ]
  },
  {
   "cell_type": "code",
   "execution_count": 2,
   "metadata": {
    "id": "XlcKTPpqsrX0"
   },
   "outputs": [],
   "source": [
    "import pandas as pd"
   ]
  },
  {
   "cell_type": "code",
   "execution_count": 5,
   "metadata": {
    "id": "DM4cw9S0srX1"
   },
   "outputs": [],
   "source": [
    "df = pd.read_csv('IntroPython_Netzun.csv')"
   ]
  },
  {
   "cell_type": "code",
   "execution_count": 6,
   "metadata": {
    "id": "jjFe6tXPsrX1"
   },
   "outputs": [
    {
     "data": {
      "text/html": [
       "<div>\n",
       "<style scoped>\n",
       "    .dataframe tbody tr th:only-of-type {\n",
       "        vertical-align: middle;\n",
       "    }\n",
       "\n",
       "    .dataframe tbody tr th {\n",
       "        vertical-align: top;\n",
       "    }\n",
       "\n",
       "    .dataframe thead th {\n",
       "        text-align: right;\n",
       "    }\n",
       "</style>\n",
       "<table border=\"1\" class=\"dataframe\">\n",
       "  <thead>\n",
       "    <tr style=\"text-align: right;\">\n",
       "      <th></th>\n",
       "      <th>pais</th>\n",
       "      <th>temperatura_max</th>\n",
       "      <th>temperatura_min</th>\n",
       "      <th>temperatura_promedio</th>\n",
       "    </tr>\n",
       "  </thead>\n",
       "  <tbody>\n",
       "    <tr>\n",
       "      <th>0</th>\n",
       "      <td>brasil</td>\n",
       "      <td>28</td>\n",
       "      <td>14</td>\n",
       "      <td>25</td>\n",
       "    </tr>\n",
       "    <tr>\n",
       "      <th>1</th>\n",
       "      <td>colombia</td>\n",
       "      <td>26</td>\n",
       "      <td>6</td>\n",
       "      <td>21</td>\n",
       "    </tr>\n",
       "    <tr>\n",
       "      <th>2</th>\n",
       "      <td>ecuador</td>\n",
       "      <td>25</td>\n",
       "      <td>5</td>\n",
       "      <td>19</td>\n",
       "    </tr>\n",
       "    <tr>\n",
       "      <th>3</th>\n",
       "      <td>mexico</td>\n",
       "      <td>28</td>\n",
       "      <td>8</td>\n",
       "      <td>22</td>\n",
       "    </tr>\n",
       "    <tr>\n",
       "      <th>4</th>\n",
       "      <td>peru</td>\n",
       "      <td>24</td>\n",
       "      <td>7</td>\n",
       "      <td>20</td>\n",
       "    </tr>\n",
       "  </tbody>\n",
       "</table>\n",
       "</div>"
      ],
      "text/plain": [
       "       pais  temperatura_max  temperatura_min  temperatura_promedio\n",
       "0    brasil               28               14                    25\n",
       "1  colombia               26                6                    21\n",
       "2   ecuador               25                5                    19\n",
       "3    mexico               28                8                    22\n",
       "4      peru               24                7                    20"
      ]
     },
     "execution_count": 6,
     "metadata": {},
     "output_type": "execute_result"
    }
   ],
   "source": [
    "df"
   ]
  },
  {
   "cell_type": "code",
   "execution_count": 7,
   "metadata": {
    "id": "oRCbbe0isrX1"
   },
   "outputs": [
    {
     "data": {
      "text/plain": [
       "pandas.core.frame.DataFrame"
      ]
     },
     "execution_count": 7,
     "metadata": {},
     "output_type": "execute_result"
    }
   ],
   "source": [
    "type(df)"
   ]
  },
  {
   "cell_type": "code",
   "execution_count": 8,
   "metadata": {
    "id": "PGFQq0CysrX1"
   },
   "outputs": [
    {
     "data": {
      "text/plain": [
       "(5, 4)"
      ]
     },
     "execution_count": 8,
     "metadata": {},
     "output_type": "execute_result"
    }
   ],
   "source": [
    "df.shape"
   ]
  },
  {
   "cell_type": "code",
   "execution_count": 9,
   "metadata": {
    "id": "VVdwvz1rsrX1"
   },
   "outputs": [
    {
     "data": {
      "text/plain": [
       "Index(['pais', 'temperatura_max', 'temperatura_min', 'temperatura_promedio'], dtype='object')"
      ]
     },
     "execution_count": 9,
     "metadata": {},
     "output_type": "execute_result"
    }
   ],
   "source": [
    "df.columns"
   ]
  },
  {
   "cell_type": "code",
   "execution_count": 10,
   "metadata": {
    "id": "cV-N4OeGsrX1"
   },
   "outputs": [
    {
     "data": {
      "text/plain": [
       "['pais', 'temperatura_max', 'temperatura_min', 'temperatura_promedio']"
      ]
     },
     "execution_count": 10,
     "metadata": {},
     "output_type": "execute_result"
    }
   ],
   "source": [
    "list(df.columns)"
   ]
  },
  {
   "cell_type": "code",
   "execution_count": 11,
   "metadata": {
    "id": "CSW0KKnCsrX1"
   },
   "outputs": [],
   "source": [
    "df = pd.read_excel('IntroPython_Netzun.xlsx')"
   ]
  },
  {
   "cell_type": "code",
   "execution_count": 12,
   "metadata": {
    "id": "Wz7e8dk_srX1"
   },
   "outputs": [
    {
     "name": "stderr",
     "output_type": "stream",
     "text": [
      "\"bash\" no se reconoce como un comando interno o externo,\n",
      "programa o archivo por lotes ejecutable.\n"
     ]
    }
   ],
   "source": [
    "!bash install_package_python3.sh add xlrd"
   ]
  },
  {
   "cell_type": "code",
   "execution_count": 13,
   "metadata": {
    "id": "4OY2PqvZsrX1"
   },
   "outputs": [],
   "source": [
    "df = pd.read_excel('IntroPython_Netzun.xlsx')"
   ]
  },
  {
   "cell_type": "code",
   "execution_count": 14,
   "metadata": {
    "id": "RbevCdqlsrX1"
   },
   "outputs": [
    {
     "data": {
      "text/html": [
       "<div>\n",
       "<style scoped>\n",
       "    .dataframe tbody tr th:only-of-type {\n",
       "        vertical-align: middle;\n",
       "    }\n",
       "\n",
       "    .dataframe tbody tr th {\n",
       "        vertical-align: top;\n",
       "    }\n",
       "\n",
       "    .dataframe thead th {\n",
       "        text-align: right;\n",
       "    }\n",
       "</style>\n",
       "<table border=\"1\" class=\"dataframe\">\n",
       "  <thead>\n",
       "    <tr style=\"text-align: right;\">\n",
       "      <th></th>\n",
       "      <th>pais</th>\n",
       "      <th>temperatura_max</th>\n",
       "      <th>temperatura_min</th>\n",
       "      <th>temperatura_promedio</th>\n",
       "    </tr>\n",
       "  </thead>\n",
       "  <tbody>\n",
       "    <tr>\n",
       "      <th>0</th>\n",
       "      <td>brasil</td>\n",
       "      <td>28</td>\n",
       "      <td>14</td>\n",
       "      <td>25</td>\n",
       "    </tr>\n",
       "    <tr>\n",
       "      <th>1</th>\n",
       "      <td>colombia</td>\n",
       "      <td>26</td>\n",
       "      <td>6</td>\n",
       "      <td>21</td>\n",
       "    </tr>\n",
       "    <tr>\n",
       "      <th>2</th>\n",
       "      <td>ecuador</td>\n",
       "      <td>25</td>\n",
       "      <td>5</td>\n",
       "      <td>19</td>\n",
       "    </tr>\n",
       "    <tr>\n",
       "      <th>3</th>\n",
       "      <td>mexico</td>\n",
       "      <td>28</td>\n",
       "      <td>8</td>\n",
       "      <td>22</td>\n",
       "    </tr>\n",
       "    <tr>\n",
       "      <th>4</th>\n",
       "      <td>peru</td>\n",
       "      <td>24</td>\n",
       "      <td>7</td>\n",
       "      <td>20</td>\n",
       "    </tr>\n",
       "  </tbody>\n",
       "</table>\n",
       "</div>"
      ],
      "text/plain": [
       "       pais  temperatura_max  temperatura_min  temperatura_promedio\n",
       "0    brasil               28               14                    25\n",
       "1  colombia               26                6                    21\n",
       "2   ecuador               25                5                    19\n",
       "3    mexico               28                8                    22\n",
       "4      peru               24                7                    20"
      ]
     },
     "execution_count": 14,
     "metadata": {},
     "output_type": "execute_result"
    }
   ],
   "source": [
    "df"
   ]
  },
  {
   "cell_type": "code",
   "execution_count": 15,
   "metadata": {
    "id": "Ou3swArfsrX1"
   },
   "outputs": [],
   "source": [
    "dicc_temp = {\"paises\": [\"México\",\"Peru\"],\n",
    "    \"temp_maxima\":[32, 28],\n",
    "    \"temp_min\":[8, 6]}\n"
   ]
  },
  {
   "cell_type": "code",
   "execution_count": 16,
   "metadata": {
    "id": "Sf8LKdgVsrX1"
   },
   "outputs": [
    {
     "data": {
      "text/plain": [
       "{'paises': ['México', 'Peru'], 'temp_maxima': [32, 28], 'temp_min': [8, 6]}"
      ]
     },
     "execution_count": 16,
     "metadata": {},
     "output_type": "execute_result"
    }
   ],
   "source": [
    "dicc_temp"
   ]
  },
  {
   "cell_type": "code",
   "execution_count": 17,
   "metadata": {
    "id": "4uX7pViOsrX1"
   },
   "outputs": [],
   "source": [
    "df = pd.DataFrame(dicc_temp)"
   ]
  },
  {
   "cell_type": "code",
   "execution_count": 18,
   "metadata": {
    "id": "KO59EI4zsrX2",
    "scrolled": true
   },
   "outputs": [
    {
     "data": {
      "text/html": [
       "<div>\n",
       "<style scoped>\n",
       "    .dataframe tbody tr th:only-of-type {\n",
       "        vertical-align: middle;\n",
       "    }\n",
       "\n",
       "    .dataframe tbody tr th {\n",
       "        vertical-align: top;\n",
       "    }\n",
       "\n",
       "    .dataframe thead th {\n",
       "        text-align: right;\n",
       "    }\n",
       "</style>\n",
       "<table border=\"1\" class=\"dataframe\">\n",
       "  <thead>\n",
       "    <tr style=\"text-align: right;\">\n",
       "      <th></th>\n",
       "      <th>paises</th>\n",
       "      <th>temp_maxima</th>\n",
       "      <th>temp_min</th>\n",
       "    </tr>\n",
       "  </thead>\n",
       "  <tbody>\n",
       "    <tr>\n",
       "      <th>0</th>\n",
       "      <td>México</td>\n",
       "      <td>32</td>\n",
       "      <td>8</td>\n",
       "    </tr>\n",
       "    <tr>\n",
       "      <th>1</th>\n",
       "      <td>Peru</td>\n",
       "      <td>28</td>\n",
       "      <td>6</td>\n",
       "    </tr>\n",
       "  </tbody>\n",
       "</table>\n",
       "</div>"
      ],
      "text/plain": [
       "   paises  temp_maxima  temp_min\n",
       "0  México           32         8\n",
       "1    Peru           28         6"
      ]
     },
     "execution_count": 18,
     "metadata": {},
     "output_type": "execute_result"
    }
   ],
   "source": [
    "df"
   ]
  },
  {
   "cell_type": "markdown",
   "metadata": {
    "id": "iMtKEavjsrX2"
   },
   "source": [
    "## Capítulo 3 - Introducción a tablas de datos"
   ]
  },
  {
   "cell_type": "code",
   "execution_count": 20,
   "metadata": {
    "id": "OgM0S20GsrX2"
   },
   "outputs": [],
   "source": [
    "df = pd.read_csv('IntroPython_EDA_Netzun.csv')"
   ]
  },
  {
   "cell_type": "code",
   "execution_count": 21,
   "metadata": {
    "id": "Dq_96XwasrX2"
   },
   "outputs": [
    {
     "data": {
      "text/html": [
       "<div>\n",
       "<style scoped>\n",
       "    .dataframe tbody tr th:only-of-type {\n",
       "        vertical-align: middle;\n",
       "    }\n",
       "\n",
       "    .dataframe tbody tr th {\n",
       "        vertical-align: top;\n",
       "    }\n",
       "\n",
       "    .dataframe thead th {\n",
       "        text-align: right;\n",
       "    }\n",
       "</style>\n",
       "<table border=\"1\" class=\"dataframe\">\n",
       "  <thead>\n",
       "    <tr style=\"text-align: right;\">\n",
       "      <th></th>\n",
       "      <th>pais</th>\n",
       "      <th>fecha</th>\n",
       "      <th>temperatura</th>\n",
       "    </tr>\n",
       "  </thead>\n",
       "  <tbody>\n",
       "    <tr>\n",
       "      <th>0</th>\n",
       "      <td>brasil</td>\n",
       "      <td>01/01/21</td>\n",
       "      <td>27</td>\n",
       "    </tr>\n",
       "    <tr>\n",
       "      <th>1</th>\n",
       "      <td>brasil</td>\n",
       "      <td>02/01/21</td>\n",
       "      <td>24</td>\n",
       "    </tr>\n",
       "    <tr>\n",
       "      <th>2</th>\n",
       "      <td>brasil</td>\n",
       "      <td>03/01/21</td>\n",
       "      <td>28</td>\n",
       "    </tr>\n",
       "    <tr>\n",
       "      <th>3</th>\n",
       "      <td>brasil</td>\n",
       "      <td>04/01/21</td>\n",
       "      <td>6</td>\n",
       "    </tr>\n",
       "    <tr>\n",
       "      <th>4</th>\n",
       "      <td>brasil</td>\n",
       "      <td>05/01/21</td>\n",
       "      <td>15</td>\n",
       "    </tr>\n",
       "    <tr>\n",
       "      <th>5</th>\n",
       "      <td>brasil</td>\n",
       "      <td>06/01/21</td>\n",
       "      <td>17</td>\n",
       "    </tr>\n",
       "    <tr>\n",
       "      <th>6</th>\n",
       "      <td>brasil</td>\n",
       "      <td>07/01/21</td>\n",
       "      <td>6</td>\n",
       "    </tr>\n",
       "    <tr>\n",
       "      <th>7</th>\n",
       "      <td>brasil</td>\n",
       "      <td>08/01/21</td>\n",
       "      <td>21</td>\n",
       "    </tr>\n",
       "    <tr>\n",
       "      <th>8</th>\n",
       "      <td>brasil</td>\n",
       "      <td>09/01/21</td>\n",
       "      <td>13</td>\n",
       "    </tr>\n",
       "    <tr>\n",
       "      <th>9</th>\n",
       "      <td>brasil</td>\n",
       "      <td>10/01/21</td>\n",
       "      <td>27</td>\n",
       "    </tr>\n",
       "    <tr>\n",
       "      <th>10</th>\n",
       "      <td>colombia</td>\n",
       "      <td>01/01/21</td>\n",
       "      <td>15</td>\n",
       "    </tr>\n",
       "    <tr>\n",
       "      <th>11</th>\n",
       "      <td>colombia</td>\n",
       "      <td>02/01/21</td>\n",
       "      <td>5</td>\n",
       "    </tr>\n",
       "    <tr>\n",
       "      <th>12</th>\n",
       "      <td>colombia</td>\n",
       "      <td>03/01/21</td>\n",
       "      <td>10</td>\n",
       "    </tr>\n",
       "    <tr>\n",
       "      <th>13</th>\n",
       "      <td>colombia</td>\n",
       "      <td>04/01/21</td>\n",
       "      <td>9</td>\n",
       "    </tr>\n",
       "    <tr>\n",
       "      <th>14</th>\n",
       "      <td>colombia</td>\n",
       "      <td>05/01/21</td>\n",
       "      <td>16</td>\n",
       "    </tr>\n",
       "    <tr>\n",
       "      <th>15</th>\n",
       "      <td>colombia</td>\n",
       "      <td>06/01/21</td>\n",
       "      <td>16</td>\n",
       "    </tr>\n",
       "    <tr>\n",
       "      <th>16</th>\n",
       "      <td>colombia</td>\n",
       "      <td>07/01/21</td>\n",
       "      <td>20</td>\n",
       "    </tr>\n",
       "    <tr>\n",
       "      <th>17</th>\n",
       "      <td>colombia</td>\n",
       "      <td>08/01/21</td>\n",
       "      <td>17</td>\n",
       "    </tr>\n",
       "    <tr>\n",
       "      <th>18</th>\n",
       "      <td>colombia</td>\n",
       "      <td>09/01/21</td>\n",
       "      <td>16</td>\n",
       "    </tr>\n",
       "    <tr>\n",
       "      <th>19</th>\n",
       "      <td>colombia</td>\n",
       "      <td>10/01/21</td>\n",
       "      <td>5</td>\n",
       "    </tr>\n",
       "    <tr>\n",
       "      <th>20</th>\n",
       "      <td>ecuador</td>\n",
       "      <td>01/01/21</td>\n",
       "      <td>18</td>\n",
       "    </tr>\n",
       "    <tr>\n",
       "      <th>21</th>\n",
       "      <td>ecuador</td>\n",
       "      <td>02/01/21</td>\n",
       "      <td>15</td>\n",
       "    </tr>\n",
       "    <tr>\n",
       "      <th>22</th>\n",
       "      <td>ecuador</td>\n",
       "      <td>03/01/21</td>\n",
       "      <td>7</td>\n",
       "    </tr>\n",
       "    <tr>\n",
       "      <th>23</th>\n",
       "      <td>ecuador</td>\n",
       "      <td>04/01/21</td>\n",
       "      <td>5</td>\n",
       "    </tr>\n",
       "    <tr>\n",
       "      <th>24</th>\n",
       "      <td>ecuador</td>\n",
       "      <td>05/01/21</td>\n",
       "      <td>17</td>\n",
       "    </tr>\n",
       "    <tr>\n",
       "      <th>25</th>\n",
       "      <td>ecuador</td>\n",
       "      <td>06/01/21</td>\n",
       "      <td>12</td>\n",
       "    </tr>\n",
       "    <tr>\n",
       "      <th>26</th>\n",
       "      <td>ecuador</td>\n",
       "      <td>07/01/21</td>\n",
       "      <td>17</td>\n",
       "    </tr>\n",
       "    <tr>\n",
       "      <th>27</th>\n",
       "      <td>ecuador</td>\n",
       "      <td>08/01/21</td>\n",
       "      <td>17</td>\n",
       "    </tr>\n",
       "    <tr>\n",
       "      <th>28</th>\n",
       "      <td>ecuador</td>\n",
       "      <td>09/01/21</td>\n",
       "      <td>12</td>\n",
       "    </tr>\n",
       "    <tr>\n",
       "      <th>29</th>\n",
       "      <td>ecuador</td>\n",
       "      <td>10/01/21</td>\n",
       "      <td>9</td>\n",
       "    </tr>\n",
       "    <tr>\n",
       "      <th>30</th>\n",
       "      <td>mexico</td>\n",
       "      <td>01/01/21</td>\n",
       "      <td>6</td>\n",
       "    </tr>\n",
       "    <tr>\n",
       "      <th>31</th>\n",
       "      <td>mexico</td>\n",
       "      <td>02/01/21</td>\n",
       "      <td>11</td>\n",
       "    </tr>\n",
       "    <tr>\n",
       "      <th>32</th>\n",
       "      <td>mexico</td>\n",
       "      <td>03/01/21</td>\n",
       "      <td>20</td>\n",
       "    </tr>\n",
       "    <tr>\n",
       "      <th>33</th>\n",
       "      <td>mexico</td>\n",
       "      <td>04/01/21</td>\n",
       "      <td>7</td>\n",
       "    </tr>\n",
       "    <tr>\n",
       "      <th>34</th>\n",
       "      <td>mexico</td>\n",
       "      <td>05/01/21</td>\n",
       "      <td>16</td>\n",
       "    </tr>\n",
       "    <tr>\n",
       "      <th>35</th>\n",
       "      <td>mexico</td>\n",
       "      <td>06/01/21</td>\n",
       "      <td>20</td>\n",
       "    </tr>\n",
       "    <tr>\n",
       "      <th>36</th>\n",
       "      <td>mexico</td>\n",
       "      <td>07/01/21</td>\n",
       "      <td>19</td>\n",
       "    </tr>\n",
       "    <tr>\n",
       "      <th>37</th>\n",
       "      <td>mexico</td>\n",
       "      <td>08/01/21</td>\n",
       "      <td>16</td>\n",
       "    </tr>\n",
       "    <tr>\n",
       "      <th>38</th>\n",
       "      <td>mexico</td>\n",
       "      <td>09/01/21</td>\n",
       "      <td>9</td>\n",
       "    </tr>\n",
       "    <tr>\n",
       "      <th>39</th>\n",
       "      <td>mexico</td>\n",
       "      <td>10/01/21</td>\n",
       "      <td>10</td>\n",
       "    </tr>\n",
       "    <tr>\n",
       "      <th>40</th>\n",
       "      <td>peru</td>\n",
       "      <td>01/01/21</td>\n",
       "      <td>7</td>\n",
       "    </tr>\n",
       "    <tr>\n",
       "      <th>41</th>\n",
       "      <td>peru</td>\n",
       "      <td>02/01/21</td>\n",
       "      <td>19</td>\n",
       "    </tr>\n",
       "    <tr>\n",
       "      <th>42</th>\n",
       "      <td>peru</td>\n",
       "      <td>03/01/21</td>\n",
       "      <td>17</td>\n",
       "    </tr>\n",
       "    <tr>\n",
       "      <th>43</th>\n",
       "      <td>peru</td>\n",
       "      <td>04/01/21</td>\n",
       "      <td>7</td>\n",
       "    </tr>\n",
       "    <tr>\n",
       "      <th>44</th>\n",
       "      <td>peru</td>\n",
       "      <td>05/01/21</td>\n",
       "      <td>11</td>\n",
       "    </tr>\n",
       "    <tr>\n",
       "      <th>45</th>\n",
       "      <td>peru</td>\n",
       "      <td>06/01/21</td>\n",
       "      <td>9</td>\n",
       "    </tr>\n",
       "    <tr>\n",
       "      <th>46</th>\n",
       "      <td>peru</td>\n",
       "      <td>07/01/21</td>\n",
       "      <td>5</td>\n",
       "    </tr>\n",
       "    <tr>\n",
       "      <th>47</th>\n",
       "      <td>peru</td>\n",
       "      <td>08/01/21</td>\n",
       "      <td>17</td>\n",
       "    </tr>\n",
       "    <tr>\n",
       "      <th>48</th>\n",
       "      <td>peru</td>\n",
       "      <td>09/01/21</td>\n",
       "      <td>7</td>\n",
       "    </tr>\n",
       "    <tr>\n",
       "      <th>49</th>\n",
       "      <td>peru</td>\n",
       "      <td>10/01/21</td>\n",
       "      <td>11</td>\n",
       "    </tr>\n",
       "  </tbody>\n",
       "</table>\n",
       "</div>"
      ],
      "text/plain": [
       "        pais     fecha  temperatura\n",
       "0     brasil  01/01/21           27\n",
       "1     brasil  02/01/21           24\n",
       "2     brasil  03/01/21           28\n",
       "3     brasil  04/01/21            6\n",
       "4     brasil  05/01/21           15\n",
       "5     brasil  06/01/21           17\n",
       "6     brasil  07/01/21            6\n",
       "7     brasil  08/01/21           21\n",
       "8     brasil  09/01/21           13\n",
       "9     brasil  10/01/21           27\n",
       "10  colombia  01/01/21           15\n",
       "11  colombia  02/01/21            5\n",
       "12  colombia  03/01/21           10\n",
       "13  colombia  04/01/21            9\n",
       "14  colombia  05/01/21           16\n",
       "15  colombia  06/01/21           16\n",
       "16  colombia  07/01/21           20\n",
       "17  colombia  08/01/21           17\n",
       "18  colombia  09/01/21           16\n",
       "19  colombia  10/01/21            5\n",
       "20   ecuador  01/01/21           18\n",
       "21   ecuador  02/01/21           15\n",
       "22   ecuador  03/01/21            7\n",
       "23   ecuador  04/01/21            5\n",
       "24   ecuador  05/01/21           17\n",
       "25   ecuador  06/01/21           12\n",
       "26   ecuador  07/01/21           17\n",
       "27   ecuador  08/01/21           17\n",
       "28   ecuador  09/01/21           12\n",
       "29   ecuador  10/01/21            9\n",
       "30    mexico  01/01/21            6\n",
       "31    mexico  02/01/21           11\n",
       "32    mexico  03/01/21           20\n",
       "33    mexico  04/01/21            7\n",
       "34    mexico  05/01/21           16\n",
       "35    mexico  06/01/21           20\n",
       "36    mexico  07/01/21           19\n",
       "37    mexico  08/01/21           16\n",
       "38    mexico  09/01/21            9\n",
       "39    mexico  10/01/21           10\n",
       "40      peru  01/01/21            7\n",
       "41      peru  02/01/21           19\n",
       "42      peru  03/01/21           17\n",
       "43      peru  04/01/21            7\n",
       "44      peru  05/01/21           11\n",
       "45      peru  06/01/21            9\n",
       "46      peru  07/01/21            5\n",
       "47      peru  08/01/21           17\n",
       "48      peru  09/01/21            7\n",
       "49      peru  10/01/21           11"
      ]
     },
     "execution_count": 21,
     "metadata": {},
     "output_type": "execute_result"
    }
   ],
   "source": [
    "df"
   ]
  },
  {
   "cell_type": "code",
   "execution_count": 22,
   "metadata": {
    "id": "dIVQ1SL9srX2"
   },
   "outputs": [
    {
     "data": {
      "text/plain": [
       "(50, 3)"
      ]
     },
     "execution_count": 22,
     "metadata": {},
     "output_type": "execute_result"
    }
   ],
   "source": [
    "df.shape"
   ]
  },
  {
   "cell_type": "code",
   "execution_count": 23,
   "metadata": {
    "id": "aYgZmjiDsrX2"
   },
   "outputs": [
    {
     "data": {
      "text/plain": [
       "Index(['pais', 'fecha', 'temperatura'], dtype='object')"
      ]
     },
     "execution_count": 23,
     "metadata": {},
     "output_type": "execute_result"
    }
   ],
   "source": [
    "df.columns"
   ]
  },
  {
   "cell_type": "code",
   "execution_count": 24,
   "metadata": {
    "id": "DbXuwCrssrX2",
    "scrolled": false
   },
   "outputs": [
    {
     "data": {
      "text/plain": [
       "0       brasil\n",
       "1       brasil\n",
       "2       brasil\n",
       "3       brasil\n",
       "4       brasil\n",
       "5       brasil\n",
       "6       brasil\n",
       "7       brasil\n",
       "8       brasil\n",
       "9       brasil\n",
       "10    colombia\n",
       "11    colombia\n",
       "12    colombia\n",
       "13    colombia\n",
       "14    colombia\n",
       "15    colombia\n",
       "16    colombia\n",
       "17    colombia\n",
       "18    colombia\n",
       "19    colombia\n",
       "20     ecuador\n",
       "21     ecuador\n",
       "22     ecuador\n",
       "23     ecuador\n",
       "24     ecuador\n",
       "25     ecuador\n",
       "26     ecuador\n",
       "27     ecuador\n",
       "28     ecuador\n",
       "29     ecuador\n",
       "30      mexico\n",
       "31      mexico\n",
       "32      mexico\n",
       "33      mexico\n",
       "34      mexico\n",
       "35      mexico\n",
       "36      mexico\n",
       "37      mexico\n",
       "38      mexico\n",
       "39      mexico\n",
       "40        peru\n",
       "41        peru\n",
       "42        peru\n",
       "43        peru\n",
       "44        peru\n",
       "45        peru\n",
       "46        peru\n",
       "47        peru\n",
       "48        peru\n",
       "49        peru\n",
       "Name: pais, dtype: object"
      ]
     },
     "execution_count": 24,
     "metadata": {},
     "output_type": "execute_result"
    }
   ],
   "source": [
    "df['pais']"
   ]
  },
  {
   "cell_type": "code",
   "execution_count": 25,
   "metadata": {
    "id": "WWzglVKHsrX2"
   },
   "outputs": [
    {
     "data": {
      "text/plain": [
       "array(['brasil', 'colombia', 'ecuador', 'mexico', 'peru'], dtype=object)"
      ]
     },
     "execution_count": 25,
     "metadata": {},
     "output_type": "execute_result"
    }
   ],
   "source": [
    "df['pais'].unique()"
   ]
  },
  {
   "cell_type": "code",
   "execution_count": 26,
   "metadata": {
    "id": "z6ogpQ8SsrX2"
   },
   "outputs": [
    {
     "data": {
      "text/plain": [
       "brasil      10\n",
       "colombia    10\n",
       "ecuador     10\n",
       "mexico      10\n",
       "peru        10\n",
       "Name: pais, dtype: int64"
      ]
     },
     "execution_count": 26,
     "metadata": {},
     "output_type": "execute_result"
    }
   ],
   "source": [
    "df['pais'].value_counts()"
   ]
  },
  {
   "cell_type": "code",
   "execution_count": 27,
   "metadata": {
    "id": "1uKFEgrmsrX2"
   },
   "outputs": [
    {
     "data": {
      "text/html": [
       "<div>\n",
       "<style scoped>\n",
       "    .dataframe tbody tr th:only-of-type {\n",
       "        vertical-align: middle;\n",
       "    }\n",
       "\n",
       "    .dataframe tbody tr th {\n",
       "        vertical-align: top;\n",
       "    }\n",
       "\n",
       "    .dataframe thead th {\n",
       "        text-align: right;\n",
       "    }\n",
       "</style>\n",
       "<table border=\"1\" class=\"dataframe\">\n",
       "  <thead>\n",
       "    <tr style=\"text-align: right;\">\n",
       "      <th></th>\n",
       "      <th>pais</th>\n",
       "      <th>fecha</th>\n",
       "    </tr>\n",
       "  </thead>\n",
       "  <tbody>\n",
       "    <tr>\n",
       "      <th>0</th>\n",
       "      <td>brasil</td>\n",
       "      <td>01/01/21</td>\n",
       "    </tr>\n",
       "    <tr>\n",
       "      <th>1</th>\n",
       "      <td>brasil</td>\n",
       "      <td>02/01/21</td>\n",
       "    </tr>\n",
       "    <tr>\n",
       "      <th>2</th>\n",
       "      <td>brasil</td>\n",
       "      <td>03/01/21</td>\n",
       "    </tr>\n",
       "    <tr>\n",
       "      <th>3</th>\n",
       "      <td>brasil</td>\n",
       "      <td>04/01/21</td>\n",
       "    </tr>\n",
       "    <tr>\n",
       "      <th>4</th>\n",
       "      <td>brasil</td>\n",
       "      <td>05/01/21</td>\n",
       "    </tr>\n",
       "    <tr>\n",
       "      <th>5</th>\n",
       "      <td>brasil</td>\n",
       "      <td>06/01/21</td>\n",
       "    </tr>\n",
       "    <tr>\n",
       "      <th>6</th>\n",
       "      <td>brasil</td>\n",
       "      <td>07/01/21</td>\n",
       "    </tr>\n",
       "    <tr>\n",
       "      <th>7</th>\n",
       "      <td>brasil</td>\n",
       "      <td>08/01/21</td>\n",
       "    </tr>\n",
       "    <tr>\n",
       "      <th>8</th>\n",
       "      <td>brasil</td>\n",
       "      <td>09/01/21</td>\n",
       "    </tr>\n",
       "    <tr>\n",
       "      <th>9</th>\n",
       "      <td>brasil</td>\n",
       "      <td>10/01/21</td>\n",
       "    </tr>\n",
       "    <tr>\n",
       "      <th>10</th>\n",
       "      <td>colombia</td>\n",
       "      <td>01/01/21</td>\n",
       "    </tr>\n",
       "    <tr>\n",
       "      <th>11</th>\n",
       "      <td>colombia</td>\n",
       "      <td>02/01/21</td>\n",
       "    </tr>\n",
       "    <tr>\n",
       "      <th>12</th>\n",
       "      <td>colombia</td>\n",
       "      <td>03/01/21</td>\n",
       "    </tr>\n",
       "    <tr>\n",
       "      <th>13</th>\n",
       "      <td>colombia</td>\n",
       "      <td>04/01/21</td>\n",
       "    </tr>\n",
       "    <tr>\n",
       "      <th>14</th>\n",
       "      <td>colombia</td>\n",
       "      <td>05/01/21</td>\n",
       "    </tr>\n",
       "    <tr>\n",
       "      <th>15</th>\n",
       "      <td>colombia</td>\n",
       "      <td>06/01/21</td>\n",
       "    </tr>\n",
       "    <tr>\n",
       "      <th>16</th>\n",
       "      <td>colombia</td>\n",
       "      <td>07/01/21</td>\n",
       "    </tr>\n",
       "    <tr>\n",
       "      <th>17</th>\n",
       "      <td>colombia</td>\n",
       "      <td>08/01/21</td>\n",
       "    </tr>\n",
       "    <tr>\n",
       "      <th>18</th>\n",
       "      <td>colombia</td>\n",
       "      <td>09/01/21</td>\n",
       "    </tr>\n",
       "    <tr>\n",
       "      <th>19</th>\n",
       "      <td>colombia</td>\n",
       "      <td>10/01/21</td>\n",
       "    </tr>\n",
       "    <tr>\n",
       "      <th>20</th>\n",
       "      <td>ecuador</td>\n",
       "      <td>01/01/21</td>\n",
       "    </tr>\n",
       "    <tr>\n",
       "      <th>21</th>\n",
       "      <td>ecuador</td>\n",
       "      <td>02/01/21</td>\n",
       "    </tr>\n",
       "    <tr>\n",
       "      <th>22</th>\n",
       "      <td>ecuador</td>\n",
       "      <td>03/01/21</td>\n",
       "    </tr>\n",
       "    <tr>\n",
       "      <th>23</th>\n",
       "      <td>ecuador</td>\n",
       "      <td>04/01/21</td>\n",
       "    </tr>\n",
       "    <tr>\n",
       "      <th>24</th>\n",
       "      <td>ecuador</td>\n",
       "      <td>05/01/21</td>\n",
       "    </tr>\n",
       "    <tr>\n",
       "      <th>25</th>\n",
       "      <td>ecuador</td>\n",
       "      <td>06/01/21</td>\n",
       "    </tr>\n",
       "    <tr>\n",
       "      <th>26</th>\n",
       "      <td>ecuador</td>\n",
       "      <td>07/01/21</td>\n",
       "    </tr>\n",
       "    <tr>\n",
       "      <th>27</th>\n",
       "      <td>ecuador</td>\n",
       "      <td>08/01/21</td>\n",
       "    </tr>\n",
       "    <tr>\n",
       "      <th>28</th>\n",
       "      <td>ecuador</td>\n",
       "      <td>09/01/21</td>\n",
       "    </tr>\n",
       "    <tr>\n",
       "      <th>29</th>\n",
       "      <td>ecuador</td>\n",
       "      <td>10/01/21</td>\n",
       "    </tr>\n",
       "    <tr>\n",
       "      <th>30</th>\n",
       "      <td>mexico</td>\n",
       "      <td>01/01/21</td>\n",
       "    </tr>\n",
       "    <tr>\n",
       "      <th>31</th>\n",
       "      <td>mexico</td>\n",
       "      <td>02/01/21</td>\n",
       "    </tr>\n",
       "    <tr>\n",
       "      <th>32</th>\n",
       "      <td>mexico</td>\n",
       "      <td>03/01/21</td>\n",
       "    </tr>\n",
       "    <tr>\n",
       "      <th>33</th>\n",
       "      <td>mexico</td>\n",
       "      <td>04/01/21</td>\n",
       "    </tr>\n",
       "    <tr>\n",
       "      <th>34</th>\n",
       "      <td>mexico</td>\n",
       "      <td>05/01/21</td>\n",
       "    </tr>\n",
       "    <tr>\n",
       "      <th>35</th>\n",
       "      <td>mexico</td>\n",
       "      <td>06/01/21</td>\n",
       "    </tr>\n",
       "    <tr>\n",
       "      <th>36</th>\n",
       "      <td>mexico</td>\n",
       "      <td>07/01/21</td>\n",
       "    </tr>\n",
       "    <tr>\n",
       "      <th>37</th>\n",
       "      <td>mexico</td>\n",
       "      <td>08/01/21</td>\n",
       "    </tr>\n",
       "    <tr>\n",
       "      <th>38</th>\n",
       "      <td>mexico</td>\n",
       "      <td>09/01/21</td>\n",
       "    </tr>\n",
       "    <tr>\n",
       "      <th>39</th>\n",
       "      <td>mexico</td>\n",
       "      <td>10/01/21</td>\n",
       "    </tr>\n",
       "    <tr>\n",
       "      <th>40</th>\n",
       "      <td>peru</td>\n",
       "      <td>01/01/21</td>\n",
       "    </tr>\n",
       "    <tr>\n",
       "      <th>41</th>\n",
       "      <td>peru</td>\n",
       "      <td>02/01/21</td>\n",
       "    </tr>\n",
       "    <tr>\n",
       "      <th>42</th>\n",
       "      <td>peru</td>\n",
       "      <td>03/01/21</td>\n",
       "    </tr>\n",
       "    <tr>\n",
       "      <th>43</th>\n",
       "      <td>peru</td>\n",
       "      <td>04/01/21</td>\n",
       "    </tr>\n",
       "    <tr>\n",
       "      <th>44</th>\n",
       "      <td>peru</td>\n",
       "      <td>05/01/21</td>\n",
       "    </tr>\n",
       "    <tr>\n",
       "      <th>45</th>\n",
       "      <td>peru</td>\n",
       "      <td>06/01/21</td>\n",
       "    </tr>\n",
       "    <tr>\n",
       "      <th>46</th>\n",
       "      <td>peru</td>\n",
       "      <td>07/01/21</td>\n",
       "    </tr>\n",
       "    <tr>\n",
       "      <th>47</th>\n",
       "      <td>peru</td>\n",
       "      <td>08/01/21</td>\n",
       "    </tr>\n",
       "    <tr>\n",
       "      <th>48</th>\n",
       "      <td>peru</td>\n",
       "      <td>09/01/21</td>\n",
       "    </tr>\n",
       "    <tr>\n",
       "      <th>49</th>\n",
       "      <td>peru</td>\n",
       "      <td>10/01/21</td>\n",
       "    </tr>\n",
       "  </tbody>\n",
       "</table>\n",
       "</div>"
      ],
      "text/plain": [
       "        pais     fecha\n",
       "0     brasil  01/01/21\n",
       "1     brasil  02/01/21\n",
       "2     brasil  03/01/21\n",
       "3     brasil  04/01/21\n",
       "4     brasil  05/01/21\n",
       "5     brasil  06/01/21\n",
       "6     brasil  07/01/21\n",
       "7     brasil  08/01/21\n",
       "8     brasil  09/01/21\n",
       "9     brasil  10/01/21\n",
       "10  colombia  01/01/21\n",
       "11  colombia  02/01/21\n",
       "12  colombia  03/01/21\n",
       "13  colombia  04/01/21\n",
       "14  colombia  05/01/21\n",
       "15  colombia  06/01/21\n",
       "16  colombia  07/01/21\n",
       "17  colombia  08/01/21\n",
       "18  colombia  09/01/21\n",
       "19  colombia  10/01/21\n",
       "20   ecuador  01/01/21\n",
       "21   ecuador  02/01/21\n",
       "22   ecuador  03/01/21\n",
       "23   ecuador  04/01/21\n",
       "24   ecuador  05/01/21\n",
       "25   ecuador  06/01/21\n",
       "26   ecuador  07/01/21\n",
       "27   ecuador  08/01/21\n",
       "28   ecuador  09/01/21\n",
       "29   ecuador  10/01/21\n",
       "30    mexico  01/01/21\n",
       "31    mexico  02/01/21\n",
       "32    mexico  03/01/21\n",
       "33    mexico  04/01/21\n",
       "34    mexico  05/01/21\n",
       "35    mexico  06/01/21\n",
       "36    mexico  07/01/21\n",
       "37    mexico  08/01/21\n",
       "38    mexico  09/01/21\n",
       "39    mexico  10/01/21\n",
       "40      peru  01/01/21\n",
       "41      peru  02/01/21\n",
       "42      peru  03/01/21\n",
       "43      peru  04/01/21\n",
       "44      peru  05/01/21\n",
       "45      peru  06/01/21\n",
       "46      peru  07/01/21\n",
       "47      peru  08/01/21\n",
       "48      peru  09/01/21\n",
       "49      peru  10/01/21"
      ]
     },
     "execution_count": 27,
     "metadata": {},
     "output_type": "execute_result"
    }
   ],
   "source": [
    "df[['pais','fecha']]"
   ]
  },
  {
   "cell_type": "code",
   "execution_count": 28,
   "metadata": {
    "id": "s9ub7gPksrX2"
   },
   "outputs": [
    {
     "data": {
      "text/plain": [
       "0     False\n",
       "1     False\n",
       "2     False\n",
       "3     False\n",
       "4     False\n",
       "5     False\n",
       "6     False\n",
       "7     False\n",
       "8     False\n",
       "9     False\n",
       "10    False\n",
       "11    False\n",
       "12    False\n",
       "13    False\n",
       "14    False\n",
       "15    False\n",
       "16    False\n",
       "17    False\n",
       "18    False\n",
       "19    False\n",
       "20    False\n",
       "21    False\n",
       "22    False\n",
       "23    False\n",
       "24    False\n",
       "25    False\n",
       "26    False\n",
       "27    False\n",
       "28    False\n",
       "29    False\n",
       "30     True\n",
       "31     True\n",
       "32     True\n",
       "33     True\n",
       "34     True\n",
       "35     True\n",
       "36     True\n",
       "37     True\n",
       "38     True\n",
       "39     True\n",
       "40    False\n",
       "41    False\n",
       "42    False\n",
       "43    False\n",
       "44    False\n",
       "45    False\n",
       "46    False\n",
       "47    False\n",
       "48    False\n",
       "49    False\n",
       "Name: pais, dtype: bool"
      ]
     },
     "execution_count": 28,
     "metadata": {},
     "output_type": "execute_result"
    }
   ],
   "source": [
    "condicion = (df.pais == 'mexico')\n",
    "condicion"
   ]
  },
  {
   "cell_type": "code",
   "execution_count": 29,
   "metadata": {
    "id": "DddtAj_wsrX2"
   },
   "outputs": [
    {
     "data": {
      "text/html": [
       "<div>\n",
       "<style scoped>\n",
       "    .dataframe tbody tr th:only-of-type {\n",
       "        vertical-align: middle;\n",
       "    }\n",
       "\n",
       "    .dataframe tbody tr th {\n",
       "        vertical-align: top;\n",
       "    }\n",
       "\n",
       "    .dataframe thead th {\n",
       "        text-align: right;\n",
       "    }\n",
       "</style>\n",
       "<table border=\"1\" class=\"dataframe\">\n",
       "  <thead>\n",
       "    <tr style=\"text-align: right;\">\n",
       "      <th></th>\n",
       "      <th>pais</th>\n",
       "      <th>fecha</th>\n",
       "      <th>temperatura</th>\n",
       "    </tr>\n",
       "  </thead>\n",
       "  <tbody>\n",
       "    <tr>\n",
       "      <th>30</th>\n",
       "      <td>mexico</td>\n",
       "      <td>01/01/21</td>\n",
       "      <td>6</td>\n",
       "    </tr>\n",
       "    <tr>\n",
       "      <th>31</th>\n",
       "      <td>mexico</td>\n",
       "      <td>02/01/21</td>\n",
       "      <td>11</td>\n",
       "    </tr>\n",
       "    <tr>\n",
       "      <th>32</th>\n",
       "      <td>mexico</td>\n",
       "      <td>03/01/21</td>\n",
       "      <td>20</td>\n",
       "    </tr>\n",
       "    <tr>\n",
       "      <th>33</th>\n",
       "      <td>mexico</td>\n",
       "      <td>04/01/21</td>\n",
       "      <td>7</td>\n",
       "    </tr>\n",
       "    <tr>\n",
       "      <th>34</th>\n",
       "      <td>mexico</td>\n",
       "      <td>05/01/21</td>\n",
       "      <td>16</td>\n",
       "    </tr>\n",
       "    <tr>\n",
       "      <th>35</th>\n",
       "      <td>mexico</td>\n",
       "      <td>06/01/21</td>\n",
       "      <td>20</td>\n",
       "    </tr>\n",
       "    <tr>\n",
       "      <th>36</th>\n",
       "      <td>mexico</td>\n",
       "      <td>07/01/21</td>\n",
       "      <td>19</td>\n",
       "    </tr>\n",
       "    <tr>\n",
       "      <th>37</th>\n",
       "      <td>mexico</td>\n",
       "      <td>08/01/21</td>\n",
       "      <td>16</td>\n",
       "    </tr>\n",
       "    <tr>\n",
       "      <th>38</th>\n",
       "      <td>mexico</td>\n",
       "      <td>09/01/21</td>\n",
       "      <td>9</td>\n",
       "    </tr>\n",
       "    <tr>\n",
       "      <th>39</th>\n",
       "      <td>mexico</td>\n",
       "      <td>10/01/21</td>\n",
       "      <td>10</td>\n",
       "    </tr>\n",
       "  </tbody>\n",
       "</table>\n",
       "</div>"
      ],
      "text/plain": [
       "      pais     fecha  temperatura\n",
       "30  mexico  01/01/21            6\n",
       "31  mexico  02/01/21           11\n",
       "32  mexico  03/01/21           20\n",
       "33  mexico  04/01/21            7\n",
       "34  mexico  05/01/21           16\n",
       "35  mexico  06/01/21           20\n",
       "36  mexico  07/01/21           19\n",
       "37  mexico  08/01/21           16\n",
       "38  mexico  09/01/21            9\n",
       "39  mexico  10/01/21           10"
      ]
     },
     "execution_count": 29,
     "metadata": {},
     "output_type": "execute_result"
    }
   ],
   "source": [
    "df[condicion]"
   ]
  },
  {
   "cell_type": "code",
   "execution_count": 30,
   "metadata": {
    "id": "0EF0f8S9srX2"
   },
   "outputs": [],
   "source": [
    "condicion = (df.pais == 'mexico') & (df.fecha == '08/01/21')"
   ]
  },
  {
   "cell_type": "code",
   "execution_count": 31,
   "metadata": {
    "id": "u_tY9Ey9srX2"
   },
   "outputs": [
    {
     "data": {
      "text/html": [
       "<div>\n",
       "<style scoped>\n",
       "    .dataframe tbody tr th:only-of-type {\n",
       "        vertical-align: middle;\n",
       "    }\n",
       "\n",
       "    .dataframe tbody tr th {\n",
       "        vertical-align: top;\n",
       "    }\n",
       "\n",
       "    .dataframe thead th {\n",
       "        text-align: right;\n",
       "    }\n",
       "</style>\n",
       "<table border=\"1\" class=\"dataframe\">\n",
       "  <thead>\n",
       "    <tr style=\"text-align: right;\">\n",
       "      <th></th>\n",
       "      <th>pais</th>\n",
       "      <th>fecha</th>\n",
       "      <th>temperatura</th>\n",
       "    </tr>\n",
       "  </thead>\n",
       "  <tbody>\n",
       "    <tr>\n",
       "      <th>37</th>\n",
       "      <td>mexico</td>\n",
       "      <td>08/01/21</td>\n",
       "      <td>16</td>\n",
       "    </tr>\n",
       "  </tbody>\n",
       "</table>\n",
       "</div>"
      ],
      "text/plain": [
       "      pais     fecha  temperatura\n",
       "37  mexico  08/01/21           16"
      ]
     },
     "execution_count": 31,
     "metadata": {},
     "output_type": "execute_result"
    }
   ],
   "source": [
    "df[condicion]"
   ]
  },
  {
   "cell_type": "code",
   "execution_count": 32,
   "metadata": {
    "id": "VBp1cbtbsrX3",
    "scrolled": true
   },
   "outputs": [
    {
     "data": {
      "text/plain": [
       "0       brasil\n",
       "1       brasil\n",
       "2       brasil\n",
       "3       brasil\n",
       "4       brasil\n",
       "5       brasil\n",
       "6       brasil\n",
       "7       brasil\n",
       "8       brasil\n",
       "9       brasil\n",
       "10    colombia\n",
       "11    colombia\n",
       "12    colombia\n",
       "13    colombia\n",
       "14    colombia\n",
       "15    colombia\n",
       "16    colombia\n",
       "17    colombia\n",
       "18    colombia\n",
       "19    colombia\n",
       "20     ecuador\n",
       "21     ecuador\n",
       "22     ecuador\n",
       "23     ecuador\n",
       "24     ecuador\n",
       "25     ecuador\n",
       "26     ecuador\n",
       "27     ecuador\n",
       "28     ecuador\n",
       "29     ecuador\n",
       "30      mexico\n",
       "31      mexico\n",
       "32      mexico\n",
       "33      mexico\n",
       "34      mexico\n",
       "35      mexico\n",
       "36      mexico\n",
       "37      mexico\n",
       "38      mexico\n",
       "39      mexico\n",
       "40        peru\n",
       "41        peru\n",
       "42        peru\n",
       "43        peru\n",
       "44        peru\n",
       "45        peru\n",
       "46        peru\n",
       "47        peru\n",
       "48        peru\n",
       "49        peru\n",
       "Name: pais, dtype: object"
      ]
     },
     "execution_count": 32,
     "metadata": {},
     "output_type": "execute_result"
    }
   ],
   "source": [
    "df.pais"
   ]
  },
  {
   "cell_type": "code",
   "execution_count": 33,
   "metadata": {
    "id": "4U3zRvUXsrX3"
   },
   "outputs": [
    {
     "data": {
      "text/plain": [
       "0       brasil\n",
       "1       brasil\n",
       "2       brasil\n",
       "3       brasil\n",
       "4       brasil\n",
       "5       brasil\n",
       "6       brasil\n",
       "7       brasil\n",
       "8       brasil\n",
       "9       brasil\n",
       "10    colombia\n",
       "11    colombia\n",
       "12    colombia\n",
       "13    colombia\n",
       "14    colombia\n",
       "15    colombia\n",
       "16    colombia\n",
       "17    colombia\n",
       "18    colombia\n",
       "19    colombia\n",
       "20     ecuador\n",
       "21     ecuador\n",
       "22     ecuador\n",
       "23     ecuador\n",
       "24     ecuador\n",
       "25     ecuador\n",
       "26     ecuador\n",
       "27     ecuador\n",
       "28     ecuador\n",
       "29     ecuador\n",
       "30      mexico\n",
       "31      mexico\n",
       "32      mexico\n",
       "33      mexico\n",
       "34      mexico\n",
       "35      mexico\n",
       "36      mexico\n",
       "37      mexico\n",
       "38      mexico\n",
       "39      mexico\n",
       "40        peru\n",
       "41        peru\n",
       "42        peru\n",
       "43        peru\n",
       "44        peru\n",
       "45        peru\n",
       "46        peru\n",
       "47        peru\n",
       "48        peru\n",
       "49        peru\n",
       "Name: pais, dtype: object"
      ]
     },
     "execution_count": 33,
     "metadata": {},
     "output_type": "execute_result"
    }
   ],
   "source": [
    "df['pais']"
   ]
  },
  {
   "cell_type": "code",
   "execution_count": 34,
   "metadata": {
    "id": "9cG4M5k-srX3"
   },
   "outputs": [],
   "source": [
    "condicion = (df.pais.isin(['mexico','peru'])) & (df.fecha == '08/01/21')"
   ]
  },
  {
   "cell_type": "code",
   "execution_count": 35,
   "metadata": {
    "id": "o8Q_ReQnsrX3"
   },
   "outputs": [
    {
     "data": {
      "text/html": [
       "<div>\n",
       "<style scoped>\n",
       "    .dataframe tbody tr th:only-of-type {\n",
       "        vertical-align: middle;\n",
       "    }\n",
       "\n",
       "    .dataframe tbody tr th {\n",
       "        vertical-align: top;\n",
       "    }\n",
       "\n",
       "    .dataframe thead th {\n",
       "        text-align: right;\n",
       "    }\n",
       "</style>\n",
       "<table border=\"1\" class=\"dataframe\">\n",
       "  <thead>\n",
       "    <tr style=\"text-align: right;\">\n",
       "      <th></th>\n",
       "      <th>pais</th>\n",
       "      <th>fecha</th>\n",
       "      <th>temperatura</th>\n",
       "    </tr>\n",
       "  </thead>\n",
       "  <tbody>\n",
       "    <tr>\n",
       "      <th>37</th>\n",
       "      <td>mexico</td>\n",
       "      <td>08/01/21</td>\n",
       "      <td>16</td>\n",
       "    </tr>\n",
       "    <tr>\n",
       "      <th>47</th>\n",
       "      <td>peru</td>\n",
       "      <td>08/01/21</td>\n",
       "      <td>17</td>\n",
       "    </tr>\n",
       "  </tbody>\n",
       "</table>\n",
       "</div>"
      ],
      "text/plain": [
       "      pais     fecha  temperatura\n",
       "37  mexico  08/01/21           16\n",
       "47    peru  08/01/21           17"
      ]
     },
     "execution_count": 35,
     "metadata": {},
     "output_type": "execute_result"
    }
   ],
   "source": [
    "df[condicion]"
   ]
  },
  {
   "cell_type": "code",
   "execution_count": 36,
   "metadata": {
    "id": "cWOtjR0osrX3"
   },
   "outputs": [],
   "source": [
    "condicion = (df.pais.isin(['mexico','peru'])) & (df.fecha > '08/01/21')"
   ]
  },
  {
   "cell_type": "code",
   "execution_count": 37,
   "metadata": {
    "id": "cLU4crC-srX3"
   },
   "outputs": [
    {
     "data": {
      "text/html": [
       "<div>\n",
       "<style scoped>\n",
       "    .dataframe tbody tr th:only-of-type {\n",
       "        vertical-align: middle;\n",
       "    }\n",
       "\n",
       "    .dataframe tbody tr th {\n",
       "        vertical-align: top;\n",
       "    }\n",
       "\n",
       "    .dataframe thead th {\n",
       "        text-align: right;\n",
       "    }\n",
       "</style>\n",
       "<table border=\"1\" class=\"dataframe\">\n",
       "  <thead>\n",
       "    <tr style=\"text-align: right;\">\n",
       "      <th></th>\n",
       "      <th>pais</th>\n",
       "      <th>fecha</th>\n",
       "      <th>temperatura</th>\n",
       "    </tr>\n",
       "  </thead>\n",
       "  <tbody>\n",
       "    <tr>\n",
       "      <th>38</th>\n",
       "      <td>mexico</td>\n",
       "      <td>09/01/21</td>\n",
       "      <td>9</td>\n",
       "    </tr>\n",
       "    <tr>\n",
       "      <th>39</th>\n",
       "      <td>mexico</td>\n",
       "      <td>10/01/21</td>\n",
       "      <td>10</td>\n",
       "    </tr>\n",
       "    <tr>\n",
       "      <th>48</th>\n",
       "      <td>peru</td>\n",
       "      <td>09/01/21</td>\n",
       "      <td>7</td>\n",
       "    </tr>\n",
       "    <tr>\n",
       "      <th>49</th>\n",
       "      <td>peru</td>\n",
       "      <td>10/01/21</td>\n",
       "      <td>11</td>\n",
       "    </tr>\n",
       "  </tbody>\n",
       "</table>\n",
       "</div>"
      ],
      "text/plain": [
       "      pais     fecha  temperatura\n",
       "38  mexico  09/01/21            9\n",
       "39  mexico  10/01/21           10\n",
       "48    peru  09/01/21            7\n",
       "49    peru  10/01/21           11"
      ]
     },
     "execution_count": 37,
     "metadata": {},
     "output_type": "execute_result"
    }
   ],
   "source": [
    "df[condicion]"
   ]
  },
  {
   "cell_type": "markdown",
   "metadata": {
    "id": "5rv-AfYlsrX3"
   },
   "source": [
    "***\n",
    "***\n",
    "# Módulo 5 - Introducción a un análisis explotario de datos"
   ]
  },
  {
   "cell_type": "markdown",
   "metadata": {
    "id": "_fJMuWA1srX3"
   },
   "source": [
    "## Capítulo 1 - Preparación de los datos"
   ]
  },
  {
   "cell_type": "code",
   "execution_count": 38,
   "metadata": {
    "id": "RSM5MRhlsrX3"
   },
   "outputs": [],
   "source": [
    "df = pd.read_csv('IntroPython_EDA_Netzun.csv')"
   ]
  },
  {
   "cell_type": "code",
   "execution_count": 39,
   "metadata": {
    "id": "fqO7rrzJsrX3"
   },
   "outputs": [
    {
     "data": {
      "text/html": [
       "<div>\n",
       "<style scoped>\n",
       "    .dataframe tbody tr th:only-of-type {\n",
       "        vertical-align: middle;\n",
       "    }\n",
       "\n",
       "    .dataframe tbody tr th {\n",
       "        vertical-align: top;\n",
       "    }\n",
       "\n",
       "    .dataframe thead th {\n",
       "        text-align: right;\n",
       "    }\n",
       "</style>\n",
       "<table border=\"1\" class=\"dataframe\">\n",
       "  <thead>\n",
       "    <tr style=\"text-align: right;\">\n",
       "      <th></th>\n",
       "      <th>pais</th>\n",
       "      <th>fecha</th>\n",
       "      <th>temperatura</th>\n",
       "    </tr>\n",
       "  </thead>\n",
       "  <tbody>\n",
       "    <tr>\n",
       "      <th>0</th>\n",
       "      <td>brasil</td>\n",
       "      <td>01/01/21</td>\n",
       "      <td>27</td>\n",
       "    </tr>\n",
       "    <tr>\n",
       "      <th>1</th>\n",
       "      <td>brasil</td>\n",
       "      <td>02/01/21</td>\n",
       "      <td>24</td>\n",
       "    </tr>\n",
       "    <tr>\n",
       "      <th>2</th>\n",
       "      <td>brasil</td>\n",
       "      <td>03/01/21</td>\n",
       "      <td>28</td>\n",
       "    </tr>\n",
       "    <tr>\n",
       "      <th>3</th>\n",
       "      <td>brasil</td>\n",
       "      <td>04/01/21</td>\n",
       "      <td>6</td>\n",
       "    </tr>\n",
       "    <tr>\n",
       "      <th>4</th>\n",
       "      <td>brasil</td>\n",
       "      <td>05/01/21</td>\n",
       "      <td>15</td>\n",
       "    </tr>\n",
       "  </tbody>\n",
       "</table>\n",
       "</div>"
      ],
      "text/plain": [
       "     pais     fecha  temperatura\n",
       "0  brasil  01/01/21           27\n",
       "1  brasil  02/01/21           24\n",
       "2  brasil  03/01/21           28\n",
       "3  brasil  04/01/21            6\n",
       "4  brasil  05/01/21           15"
      ]
     },
     "execution_count": 39,
     "metadata": {},
     "output_type": "execute_result"
    }
   ],
   "source": [
    "df.head(5)"
   ]
  },
  {
   "cell_type": "code",
   "execution_count": 40,
   "metadata": {
    "id": "VVyNzPvdsrX3"
   },
   "outputs": [
    {
     "name": "stdout",
     "output_type": "stream",
     "text": [
      "<class 'pandas.core.frame.DataFrame'>\n",
      "RangeIndex: 50 entries, 0 to 49\n",
      "Data columns (total 3 columns):\n",
      " #   Column       Non-Null Count  Dtype \n",
      "---  ------       --------------  ----- \n",
      " 0   pais         50 non-null     object\n",
      " 1   fecha        50 non-null     object\n",
      " 2   temperatura  50 non-null     int64 \n",
      "dtypes: int64(1), object(2)\n",
      "memory usage: 1.3+ KB\n"
     ]
    }
   ],
   "source": [
    "df.info()"
   ]
  },
  {
   "cell_type": "code",
   "execution_count": 41,
   "metadata": {
    "id": "gPJXzsfvsrX3"
   },
   "outputs": [
    {
     "data": {
      "text/html": [
       "<div>\n",
       "<style scoped>\n",
       "    .dataframe tbody tr th:only-of-type {\n",
       "        vertical-align: middle;\n",
       "    }\n",
       "\n",
       "    .dataframe tbody tr th {\n",
       "        vertical-align: top;\n",
       "    }\n",
       "\n",
       "    .dataframe thead th {\n",
       "        text-align: right;\n",
       "    }\n",
       "</style>\n",
       "<table border=\"1\" class=\"dataframe\">\n",
       "  <thead>\n",
       "    <tr style=\"text-align: right;\">\n",
       "      <th></th>\n",
       "      <th>pais</th>\n",
       "      <th>fecha</th>\n",
       "      <th>temperatura</th>\n",
       "    </tr>\n",
       "  </thead>\n",
       "  <tbody>\n",
       "    <tr>\n",
       "      <th>0</th>\n",
       "      <td>False</td>\n",
       "      <td>False</td>\n",
       "      <td>False</td>\n",
       "    </tr>\n",
       "    <tr>\n",
       "      <th>1</th>\n",
       "      <td>False</td>\n",
       "      <td>False</td>\n",
       "      <td>False</td>\n",
       "    </tr>\n",
       "    <tr>\n",
       "      <th>2</th>\n",
       "      <td>False</td>\n",
       "      <td>False</td>\n",
       "      <td>False</td>\n",
       "    </tr>\n",
       "    <tr>\n",
       "      <th>3</th>\n",
       "      <td>False</td>\n",
       "      <td>False</td>\n",
       "      <td>False</td>\n",
       "    </tr>\n",
       "    <tr>\n",
       "      <th>4</th>\n",
       "      <td>False</td>\n",
       "      <td>False</td>\n",
       "      <td>False</td>\n",
       "    </tr>\n",
       "    <tr>\n",
       "      <th>5</th>\n",
       "      <td>False</td>\n",
       "      <td>False</td>\n",
       "      <td>False</td>\n",
       "    </tr>\n",
       "    <tr>\n",
       "      <th>6</th>\n",
       "      <td>False</td>\n",
       "      <td>False</td>\n",
       "      <td>False</td>\n",
       "    </tr>\n",
       "    <tr>\n",
       "      <th>7</th>\n",
       "      <td>False</td>\n",
       "      <td>False</td>\n",
       "      <td>False</td>\n",
       "    </tr>\n",
       "    <tr>\n",
       "      <th>8</th>\n",
       "      <td>False</td>\n",
       "      <td>False</td>\n",
       "      <td>False</td>\n",
       "    </tr>\n",
       "    <tr>\n",
       "      <th>9</th>\n",
       "      <td>False</td>\n",
       "      <td>False</td>\n",
       "      <td>False</td>\n",
       "    </tr>\n",
       "    <tr>\n",
       "      <th>10</th>\n",
       "      <td>False</td>\n",
       "      <td>False</td>\n",
       "      <td>False</td>\n",
       "    </tr>\n",
       "    <tr>\n",
       "      <th>11</th>\n",
       "      <td>False</td>\n",
       "      <td>False</td>\n",
       "      <td>False</td>\n",
       "    </tr>\n",
       "    <tr>\n",
       "      <th>12</th>\n",
       "      <td>False</td>\n",
       "      <td>False</td>\n",
       "      <td>False</td>\n",
       "    </tr>\n",
       "    <tr>\n",
       "      <th>13</th>\n",
       "      <td>False</td>\n",
       "      <td>False</td>\n",
       "      <td>False</td>\n",
       "    </tr>\n",
       "    <tr>\n",
       "      <th>14</th>\n",
       "      <td>False</td>\n",
       "      <td>False</td>\n",
       "      <td>False</td>\n",
       "    </tr>\n",
       "    <tr>\n",
       "      <th>15</th>\n",
       "      <td>False</td>\n",
       "      <td>False</td>\n",
       "      <td>False</td>\n",
       "    </tr>\n",
       "    <tr>\n",
       "      <th>16</th>\n",
       "      <td>False</td>\n",
       "      <td>False</td>\n",
       "      <td>False</td>\n",
       "    </tr>\n",
       "    <tr>\n",
       "      <th>17</th>\n",
       "      <td>False</td>\n",
       "      <td>False</td>\n",
       "      <td>False</td>\n",
       "    </tr>\n",
       "    <tr>\n",
       "      <th>18</th>\n",
       "      <td>False</td>\n",
       "      <td>False</td>\n",
       "      <td>False</td>\n",
       "    </tr>\n",
       "    <tr>\n",
       "      <th>19</th>\n",
       "      <td>False</td>\n",
       "      <td>False</td>\n",
       "      <td>False</td>\n",
       "    </tr>\n",
       "    <tr>\n",
       "      <th>20</th>\n",
       "      <td>False</td>\n",
       "      <td>False</td>\n",
       "      <td>False</td>\n",
       "    </tr>\n",
       "    <tr>\n",
       "      <th>21</th>\n",
       "      <td>False</td>\n",
       "      <td>False</td>\n",
       "      <td>False</td>\n",
       "    </tr>\n",
       "    <tr>\n",
       "      <th>22</th>\n",
       "      <td>False</td>\n",
       "      <td>False</td>\n",
       "      <td>False</td>\n",
       "    </tr>\n",
       "    <tr>\n",
       "      <th>23</th>\n",
       "      <td>False</td>\n",
       "      <td>False</td>\n",
       "      <td>False</td>\n",
       "    </tr>\n",
       "    <tr>\n",
       "      <th>24</th>\n",
       "      <td>False</td>\n",
       "      <td>False</td>\n",
       "      <td>False</td>\n",
       "    </tr>\n",
       "    <tr>\n",
       "      <th>25</th>\n",
       "      <td>False</td>\n",
       "      <td>False</td>\n",
       "      <td>False</td>\n",
       "    </tr>\n",
       "    <tr>\n",
       "      <th>26</th>\n",
       "      <td>False</td>\n",
       "      <td>False</td>\n",
       "      <td>False</td>\n",
       "    </tr>\n",
       "    <tr>\n",
       "      <th>27</th>\n",
       "      <td>False</td>\n",
       "      <td>False</td>\n",
       "      <td>False</td>\n",
       "    </tr>\n",
       "    <tr>\n",
       "      <th>28</th>\n",
       "      <td>False</td>\n",
       "      <td>False</td>\n",
       "      <td>False</td>\n",
       "    </tr>\n",
       "    <tr>\n",
       "      <th>29</th>\n",
       "      <td>False</td>\n",
       "      <td>False</td>\n",
       "      <td>False</td>\n",
       "    </tr>\n",
       "    <tr>\n",
       "      <th>30</th>\n",
       "      <td>False</td>\n",
       "      <td>False</td>\n",
       "      <td>False</td>\n",
       "    </tr>\n",
       "    <tr>\n",
       "      <th>31</th>\n",
       "      <td>False</td>\n",
       "      <td>False</td>\n",
       "      <td>False</td>\n",
       "    </tr>\n",
       "    <tr>\n",
       "      <th>32</th>\n",
       "      <td>False</td>\n",
       "      <td>False</td>\n",
       "      <td>False</td>\n",
       "    </tr>\n",
       "    <tr>\n",
       "      <th>33</th>\n",
       "      <td>False</td>\n",
       "      <td>False</td>\n",
       "      <td>False</td>\n",
       "    </tr>\n",
       "    <tr>\n",
       "      <th>34</th>\n",
       "      <td>False</td>\n",
       "      <td>False</td>\n",
       "      <td>False</td>\n",
       "    </tr>\n",
       "    <tr>\n",
       "      <th>35</th>\n",
       "      <td>False</td>\n",
       "      <td>False</td>\n",
       "      <td>False</td>\n",
       "    </tr>\n",
       "    <tr>\n",
       "      <th>36</th>\n",
       "      <td>False</td>\n",
       "      <td>False</td>\n",
       "      <td>False</td>\n",
       "    </tr>\n",
       "    <tr>\n",
       "      <th>37</th>\n",
       "      <td>False</td>\n",
       "      <td>False</td>\n",
       "      <td>False</td>\n",
       "    </tr>\n",
       "    <tr>\n",
       "      <th>38</th>\n",
       "      <td>False</td>\n",
       "      <td>False</td>\n",
       "      <td>False</td>\n",
       "    </tr>\n",
       "    <tr>\n",
       "      <th>39</th>\n",
       "      <td>False</td>\n",
       "      <td>False</td>\n",
       "      <td>False</td>\n",
       "    </tr>\n",
       "    <tr>\n",
       "      <th>40</th>\n",
       "      <td>False</td>\n",
       "      <td>False</td>\n",
       "      <td>False</td>\n",
       "    </tr>\n",
       "    <tr>\n",
       "      <th>41</th>\n",
       "      <td>False</td>\n",
       "      <td>False</td>\n",
       "      <td>False</td>\n",
       "    </tr>\n",
       "    <tr>\n",
       "      <th>42</th>\n",
       "      <td>False</td>\n",
       "      <td>False</td>\n",
       "      <td>False</td>\n",
       "    </tr>\n",
       "    <tr>\n",
       "      <th>43</th>\n",
       "      <td>False</td>\n",
       "      <td>False</td>\n",
       "      <td>False</td>\n",
       "    </tr>\n",
       "    <tr>\n",
       "      <th>44</th>\n",
       "      <td>False</td>\n",
       "      <td>False</td>\n",
       "      <td>False</td>\n",
       "    </tr>\n",
       "    <tr>\n",
       "      <th>45</th>\n",
       "      <td>False</td>\n",
       "      <td>False</td>\n",
       "      <td>False</td>\n",
       "    </tr>\n",
       "    <tr>\n",
       "      <th>46</th>\n",
       "      <td>False</td>\n",
       "      <td>False</td>\n",
       "      <td>False</td>\n",
       "    </tr>\n",
       "    <tr>\n",
       "      <th>47</th>\n",
       "      <td>False</td>\n",
       "      <td>False</td>\n",
       "      <td>False</td>\n",
       "    </tr>\n",
       "    <tr>\n",
       "      <th>48</th>\n",
       "      <td>False</td>\n",
       "      <td>False</td>\n",
       "      <td>False</td>\n",
       "    </tr>\n",
       "    <tr>\n",
       "      <th>49</th>\n",
       "      <td>False</td>\n",
       "      <td>False</td>\n",
       "      <td>False</td>\n",
       "    </tr>\n",
       "  </tbody>\n",
       "</table>\n",
       "</div>"
      ],
      "text/plain": [
       "     pais  fecha  temperatura\n",
       "0   False  False        False\n",
       "1   False  False        False\n",
       "2   False  False        False\n",
       "3   False  False        False\n",
       "4   False  False        False\n",
       "5   False  False        False\n",
       "6   False  False        False\n",
       "7   False  False        False\n",
       "8   False  False        False\n",
       "9   False  False        False\n",
       "10  False  False        False\n",
       "11  False  False        False\n",
       "12  False  False        False\n",
       "13  False  False        False\n",
       "14  False  False        False\n",
       "15  False  False        False\n",
       "16  False  False        False\n",
       "17  False  False        False\n",
       "18  False  False        False\n",
       "19  False  False        False\n",
       "20  False  False        False\n",
       "21  False  False        False\n",
       "22  False  False        False\n",
       "23  False  False        False\n",
       "24  False  False        False\n",
       "25  False  False        False\n",
       "26  False  False        False\n",
       "27  False  False        False\n",
       "28  False  False        False\n",
       "29  False  False        False\n",
       "30  False  False        False\n",
       "31  False  False        False\n",
       "32  False  False        False\n",
       "33  False  False        False\n",
       "34  False  False        False\n",
       "35  False  False        False\n",
       "36  False  False        False\n",
       "37  False  False        False\n",
       "38  False  False        False\n",
       "39  False  False        False\n",
       "40  False  False        False\n",
       "41  False  False        False\n",
       "42  False  False        False\n",
       "43  False  False        False\n",
       "44  False  False        False\n",
       "45  False  False        False\n",
       "46  False  False        False\n",
       "47  False  False        False\n",
       "48  False  False        False\n",
       "49  False  False        False"
      ]
     },
     "execution_count": 41,
     "metadata": {},
     "output_type": "execute_result"
    }
   ],
   "source": [
    "df.isna()"
   ]
  },
  {
   "cell_type": "code",
   "execution_count": 42,
   "metadata": {
    "id": "w1acsG21srX3"
   },
   "outputs": [
    {
     "data": {
      "text/plain": [
       "pais           0\n",
       "fecha          0\n",
       "temperatura    0\n",
       "dtype: int64"
      ]
     },
     "execution_count": 42,
     "metadata": {},
     "output_type": "execute_result"
    }
   ],
   "source": [
    "df.isna().sum()"
   ]
  },
  {
   "cell_type": "markdown",
   "metadata": {
    "id": "RbhSu3E7srX4"
   },
   "source": [
    "## Capítulo 2 - Análisis exploratorio"
   ]
  },
  {
   "cell_type": "code",
   "execution_count": 43,
   "metadata": {
    "id": "CkEH31JBsrX4"
   },
   "outputs": [
    {
     "data": {
      "text/html": [
       "<div>\n",
       "<style scoped>\n",
       "    .dataframe tbody tr th:only-of-type {\n",
       "        vertical-align: middle;\n",
       "    }\n",
       "\n",
       "    .dataframe tbody tr th {\n",
       "        vertical-align: top;\n",
       "    }\n",
       "\n",
       "    .dataframe thead th {\n",
       "        text-align: right;\n",
       "    }\n",
       "</style>\n",
       "<table border=\"1\" class=\"dataframe\">\n",
       "  <thead>\n",
       "    <tr style=\"text-align: right;\">\n",
       "      <th></th>\n",
       "      <th>pais</th>\n",
       "      <th>fecha</th>\n",
       "      <th>temperatura</th>\n",
       "    </tr>\n",
       "  </thead>\n",
       "  <tbody>\n",
       "    <tr>\n",
       "      <th>0</th>\n",
       "      <td>brasil</td>\n",
       "      <td>01/01/21</td>\n",
       "      <td>27</td>\n",
       "    </tr>\n",
       "    <tr>\n",
       "      <th>1</th>\n",
       "      <td>brasil</td>\n",
       "      <td>02/01/21</td>\n",
       "      <td>24</td>\n",
       "    </tr>\n",
       "    <tr>\n",
       "      <th>2</th>\n",
       "      <td>brasil</td>\n",
       "      <td>03/01/21</td>\n",
       "      <td>28</td>\n",
       "    </tr>\n",
       "    <tr>\n",
       "      <th>3</th>\n",
       "      <td>brasil</td>\n",
       "      <td>04/01/21</td>\n",
       "      <td>6</td>\n",
       "    </tr>\n",
       "    <tr>\n",
       "      <th>4</th>\n",
       "      <td>brasil</td>\n",
       "      <td>05/01/21</td>\n",
       "      <td>15</td>\n",
       "    </tr>\n",
       "  </tbody>\n",
       "</table>\n",
       "</div>"
      ],
      "text/plain": [
       "     pais     fecha  temperatura\n",
       "0  brasil  01/01/21           27\n",
       "1  brasil  02/01/21           24\n",
       "2  brasil  03/01/21           28\n",
       "3  brasil  04/01/21            6\n",
       "4  brasil  05/01/21           15"
      ]
     },
     "execution_count": 43,
     "metadata": {},
     "output_type": "execute_result"
    }
   ],
   "source": [
    "df.head(5)"
   ]
  },
  {
   "cell_type": "code",
   "execution_count": 44,
   "metadata": {
    "id": "6jgNczkrsrX4"
   },
   "outputs": [
    {
     "data": {
      "text/plain": [
       "5"
      ]
     },
     "execution_count": 44,
     "metadata": {},
     "output_type": "execute_result"
    }
   ],
   "source": [
    "df.temperatura.min()"
   ]
  },
  {
   "cell_type": "code",
   "execution_count": 45,
   "metadata": {
    "id": "lDqmShKRsrX4"
   },
   "outputs": [
    {
     "data": {
      "text/plain": [
       "28"
      ]
     },
     "execution_count": 45,
     "metadata": {},
     "output_type": "execute_result"
    }
   ],
   "source": [
    "df.temperatura.max()"
   ]
  },
  {
   "cell_type": "code",
   "execution_count": 46,
   "metadata": {
    "id": "a8vgB4pJsrX4"
   },
   "outputs": [
    {
     "data": {
      "text/plain": [
       "6.174470149952387"
      ]
     },
     "execution_count": 46,
     "metadata": {},
     "output_type": "execute_result"
    }
   ],
   "source": [
    "df.temperatura.std()"
   ]
  },
  {
   "cell_type": "code",
   "execution_count": 47,
   "metadata": {
    "id": "OC45Tr8WsrX4",
    "scrolled": true
   },
   "outputs": [
    {
     "data": {
      "text/html": [
       "<div>\n",
       "<style scoped>\n",
       "    .dataframe tbody tr th:only-of-type {\n",
       "        vertical-align: middle;\n",
       "    }\n",
       "\n",
       "    .dataframe tbody tr th {\n",
       "        vertical-align: top;\n",
       "    }\n",
       "\n",
       "    .dataframe thead th {\n",
       "        text-align: right;\n",
       "    }\n",
       "</style>\n",
       "<table border=\"1\" class=\"dataframe\">\n",
       "  <thead>\n",
       "    <tr style=\"text-align: right;\">\n",
       "      <th></th>\n",
       "      <th>temperatura</th>\n",
       "    </tr>\n",
       "  </thead>\n",
       "  <tbody>\n",
       "    <tr>\n",
       "      <th>count</th>\n",
       "      <td>50.00000</td>\n",
       "    </tr>\n",
       "    <tr>\n",
       "      <th>mean</th>\n",
       "      <td>13.72000</td>\n",
       "    </tr>\n",
       "    <tr>\n",
       "      <th>std</th>\n",
       "      <td>6.17447</td>\n",
       "    </tr>\n",
       "    <tr>\n",
       "      <th>min</th>\n",
       "      <td>5.00000</td>\n",
       "    </tr>\n",
       "    <tr>\n",
       "      <th>25%</th>\n",
       "      <td>9.00000</td>\n",
       "    </tr>\n",
       "    <tr>\n",
       "      <th>50%</th>\n",
       "      <td>15.00000</td>\n",
       "    </tr>\n",
       "    <tr>\n",
       "      <th>75%</th>\n",
       "      <td>17.00000</td>\n",
       "    </tr>\n",
       "    <tr>\n",
       "      <th>max</th>\n",
       "      <td>28.00000</td>\n",
       "    </tr>\n",
       "  </tbody>\n",
       "</table>\n",
       "</div>"
      ],
      "text/plain": [
       "       temperatura\n",
       "count     50.00000\n",
       "mean      13.72000\n",
       "std        6.17447\n",
       "min        5.00000\n",
       "25%        9.00000\n",
       "50%       15.00000\n",
       "75%       17.00000\n",
       "max       28.00000"
      ]
     },
     "execution_count": 47,
     "metadata": {},
     "output_type": "execute_result"
    }
   ],
   "source": [
    "df.describe()"
   ]
  },
  {
   "cell_type": "code",
   "execution_count": 48,
   "metadata": {
    "id": "6xCQcqtFsrX4"
   },
   "outputs": [
    {
     "data": {
      "text/html": [
       "<div>\n",
       "<style scoped>\n",
       "    .dataframe tbody tr th:only-of-type {\n",
       "        vertical-align: middle;\n",
       "    }\n",
       "\n",
       "    .dataframe tbody tr th {\n",
       "        vertical-align: top;\n",
       "    }\n",
       "\n",
       "    .dataframe thead th {\n",
       "        text-align: right;\n",
       "    }\n",
       "</style>\n",
       "<table border=\"1\" class=\"dataframe\">\n",
       "  <thead>\n",
       "    <tr style=\"text-align: right;\">\n",
       "      <th></th>\n",
       "      <th>pais</th>\n",
       "      <th>fecha</th>\n",
       "      <th>temperatura</th>\n",
       "    </tr>\n",
       "  </thead>\n",
       "  <tbody>\n",
       "    <tr>\n",
       "      <th>0</th>\n",
       "      <td>brasil</td>\n",
       "      <td>01/01/21</td>\n",
       "      <td>27</td>\n",
       "    </tr>\n",
       "    <tr>\n",
       "      <th>1</th>\n",
       "      <td>brasil</td>\n",
       "      <td>02/01/21</td>\n",
       "      <td>24</td>\n",
       "    </tr>\n",
       "    <tr>\n",
       "      <th>2</th>\n",
       "      <td>brasil</td>\n",
       "      <td>03/01/21</td>\n",
       "      <td>28</td>\n",
       "    </tr>\n",
       "    <tr>\n",
       "      <th>3</th>\n",
       "      <td>brasil</td>\n",
       "      <td>04/01/21</td>\n",
       "      <td>6</td>\n",
       "    </tr>\n",
       "    <tr>\n",
       "      <th>4</th>\n",
       "      <td>brasil</td>\n",
       "      <td>05/01/21</td>\n",
       "      <td>15</td>\n",
       "    </tr>\n",
       "    <tr>\n",
       "      <th>5</th>\n",
       "      <td>brasil</td>\n",
       "      <td>06/01/21</td>\n",
       "      <td>17</td>\n",
       "    </tr>\n",
       "    <tr>\n",
       "      <th>6</th>\n",
       "      <td>brasil</td>\n",
       "      <td>07/01/21</td>\n",
       "      <td>6</td>\n",
       "    </tr>\n",
       "    <tr>\n",
       "      <th>7</th>\n",
       "      <td>brasil</td>\n",
       "      <td>08/01/21</td>\n",
       "      <td>21</td>\n",
       "    </tr>\n",
       "    <tr>\n",
       "      <th>8</th>\n",
       "      <td>brasil</td>\n",
       "      <td>09/01/21</td>\n",
       "      <td>13</td>\n",
       "    </tr>\n",
       "    <tr>\n",
       "      <th>9</th>\n",
       "      <td>brasil</td>\n",
       "      <td>10/01/21</td>\n",
       "      <td>27</td>\n",
       "    </tr>\n",
       "    <tr>\n",
       "      <th>10</th>\n",
       "      <td>colombia</td>\n",
       "      <td>01/01/21</td>\n",
       "      <td>15</td>\n",
       "    </tr>\n",
       "    <tr>\n",
       "      <th>11</th>\n",
       "      <td>colombia</td>\n",
       "      <td>02/01/21</td>\n",
       "      <td>5</td>\n",
       "    </tr>\n",
       "    <tr>\n",
       "      <th>12</th>\n",
       "      <td>colombia</td>\n",
       "      <td>03/01/21</td>\n",
       "      <td>10</td>\n",
       "    </tr>\n",
       "    <tr>\n",
       "      <th>13</th>\n",
       "      <td>colombia</td>\n",
       "      <td>04/01/21</td>\n",
       "      <td>9</td>\n",
       "    </tr>\n",
       "    <tr>\n",
       "      <th>14</th>\n",
       "      <td>colombia</td>\n",
       "      <td>05/01/21</td>\n",
       "      <td>16</td>\n",
       "    </tr>\n",
       "    <tr>\n",
       "      <th>15</th>\n",
       "      <td>colombia</td>\n",
       "      <td>06/01/21</td>\n",
       "      <td>16</td>\n",
       "    </tr>\n",
       "    <tr>\n",
       "      <th>16</th>\n",
       "      <td>colombia</td>\n",
       "      <td>07/01/21</td>\n",
       "      <td>20</td>\n",
       "    </tr>\n",
       "    <tr>\n",
       "      <th>17</th>\n",
       "      <td>colombia</td>\n",
       "      <td>08/01/21</td>\n",
       "      <td>17</td>\n",
       "    </tr>\n",
       "    <tr>\n",
       "      <th>18</th>\n",
       "      <td>colombia</td>\n",
       "      <td>09/01/21</td>\n",
       "      <td>16</td>\n",
       "    </tr>\n",
       "    <tr>\n",
       "      <th>19</th>\n",
       "      <td>colombia</td>\n",
       "      <td>10/01/21</td>\n",
       "      <td>5</td>\n",
       "    </tr>\n",
       "    <tr>\n",
       "      <th>20</th>\n",
       "      <td>ecuador</td>\n",
       "      <td>01/01/21</td>\n",
       "      <td>18</td>\n",
       "    </tr>\n",
       "    <tr>\n",
       "      <th>21</th>\n",
       "      <td>ecuador</td>\n",
       "      <td>02/01/21</td>\n",
       "      <td>15</td>\n",
       "    </tr>\n",
       "    <tr>\n",
       "      <th>22</th>\n",
       "      <td>ecuador</td>\n",
       "      <td>03/01/21</td>\n",
       "      <td>7</td>\n",
       "    </tr>\n",
       "    <tr>\n",
       "      <th>23</th>\n",
       "      <td>ecuador</td>\n",
       "      <td>04/01/21</td>\n",
       "      <td>5</td>\n",
       "    </tr>\n",
       "    <tr>\n",
       "      <th>24</th>\n",
       "      <td>ecuador</td>\n",
       "      <td>05/01/21</td>\n",
       "      <td>17</td>\n",
       "    </tr>\n",
       "    <tr>\n",
       "      <th>25</th>\n",
       "      <td>ecuador</td>\n",
       "      <td>06/01/21</td>\n",
       "      <td>12</td>\n",
       "    </tr>\n",
       "    <tr>\n",
       "      <th>26</th>\n",
       "      <td>ecuador</td>\n",
       "      <td>07/01/21</td>\n",
       "      <td>17</td>\n",
       "    </tr>\n",
       "    <tr>\n",
       "      <th>27</th>\n",
       "      <td>ecuador</td>\n",
       "      <td>08/01/21</td>\n",
       "      <td>17</td>\n",
       "    </tr>\n",
       "    <tr>\n",
       "      <th>28</th>\n",
       "      <td>ecuador</td>\n",
       "      <td>09/01/21</td>\n",
       "      <td>12</td>\n",
       "    </tr>\n",
       "    <tr>\n",
       "      <th>29</th>\n",
       "      <td>ecuador</td>\n",
       "      <td>10/01/21</td>\n",
       "      <td>9</td>\n",
       "    </tr>\n",
       "    <tr>\n",
       "      <th>30</th>\n",
       "      <td>mexico</td>\n",
       "      <td>01/01/21</td>\n",
       "      <td>6</td>\n",
       "    </tr>\n",
       "    <tr>\n",
       "      <th>31</th>\n",
       "      <td>mexico</td>\n",
       "      <td>02/01/21</td>\n",
       "      <td>11</td>\n",
       "    </tr>\n",
       "    <tr>\n",
       "      <th>32</th>\n",
       "      <td>mexico</td>\n",
       "      <td>03/01/21</td>\n",
       "      <td>20</td>\n",
       "    </tr>\n",
       "    <tr>\n",
       "      <th>33</th>\n",
       "      <td>mexico</td>\n",
       "      <td>04/01/21</td>\n",
       "      <td>7</td>\n",
       "    </tr>\n",
       "    <tr>\n",
       "      <th>34</th>\n",
       "      <td>mexico</td>\n",
       "      <td>05/01/21</td>\n",
       "      <td>16</td>\n",
       "    </tr>\n",
       "    <tr>\n",
       "      <th>35</th>\n",
       "      <td>mexico</td>\n",
       "      <td>06/01/21</td>\n",
       "      <td>20</td>\n",
       "    </tr>\n",
       "    <tr>\n",
       "      <th>36</th>\n",
       "      <td>mexico</td>\n",
       "      <td>07/01/21</td>\n",
       "      <td>19</td>\n",
       "    </tr>\n",
       "    <tr>\n",
       "      <th>37</th>\n",
       "      <td>mexico</td>\n",
       "      <td>08/01/21</td>\n",
       "      <td>16</td>\n",
       "    </tr>\n",
       "    <tr>\n",
       "      <th>38</th>\n",
       "      <td>mexico</td>\n",
       "      <td>09/01/21</td>\n",
       "      <td>9</td>\n",
       "    </tr>\n",
       "    <tr>\n",
       "      <th>39</th>\n",
       "      <td>mexico</td>\n",
       "      <td>10/01/21</td>\n",
       "      <td>10</td>\n",
       "    </tr>\n",
       "    <tr>\n",
       "      <th>40</th>\n",
       "      <td>peru</td>\n",
       "      <td>01/01/21</td>\n",
       "      <td>7</td>\n",
       "    </tr>\n",
       "    <tr>\n",
       "      <th>41</th>\n",
       "      <td>peru</td>\n",
       "      <td>02/01/21</td>\n",
       "      <td>19</td>\n",
       "    </tr>\n",
       "    <tr>\n",
       "      <th>42</th>\n",
       "      <td>peru</td>\n",
       "      <td>03/01/21</td>\n",
       "      <td>17</td>\n",
       "    </tr>\n",
       "    <tr>\n",
       "      <th>43</th>\n",
       "      <td>peru</td>\n",
       "      <td>04/01/21</td>\n",
       "      <td>7</td>\n",
       "    </tr>\n",
       "    <tr>\n",
       "      <th>44</th>\n",
       "      <td>peru</td>\n",
       "      <td>05/01/21</td>\n",
       "      <td>11</td>\n",
       "    </tr>\n",
       "    <tr>\n",
       "      <th>45</th>\n",
       "      <td>peru</td>\n",
       "      <td>06/01/21</td>\n",
       "      <td>9</td>\n",
       "    </tr>\n",
       "    <tr>\n",
       "      <th>46</th>\n",
       "      <td>peru</td>\n",
       "      <td>07/01/21</td>\n",
       "      <td>5</td>\n",
       "    </tr>\n",
       "    <tr>\n",
       "      <th>47</th>\n",
       "      <td>peru</td>\n",
       "      <td>08/01/21</td>\n",
       "      <td>17</td>\n",
       "    </tr>\n",
       "    <tr>\n",
       "      <th>48</th>\n",
       "      <td>peru</td>\n",
       "      <td>09/01/21</td>\n",
       "      <td>7</td>\n",
       "    </tr>\n",
       "    <tr>\n",
       "      <th>49</th>\n",
       "      <td>peru</td>\n",
       "      <td>10/01/21</td>\n",
       "      <td>11</td>\n",
       "    </tr>\n",
       "  </tbody>\n",
       "</table>\n",
       "</div>"
      ],
      "text/plain": [
       "        pais     fecha  temperatura\n",
       "0     brasil  01/01/21           27\n",
       "1     brasil  02/01/21           24\n",
       "2     brasil  03/01/21           28\n",
       "3     brasil  04/01/21            6\n",
       "4     brasil  05/01/21           15\n",
       "5     brasil  06/01/21           17\n",
       "6     brasil  07/01/21            6\n",
       "7     brasil  08/01/21           21\n",
       "8     brasil  09/01/21           13\n",
       "9     brasil  10/01/21           27\n",
       "10  colombia  01/01/21           15\n",
       "11  colombia  02/01/21            5\n",
       "12  colombia  03/01/21           10\n",
       "13  colombia  04/01/21            9\n",
       "14  colombia  05/01/21           16\n",
       "15  colombia  06/01/21           16\n",
       "16  colombia  07/01/21           20\n",
       "17  colombia  08/01/21           17\n",
       "18  colombia  09/01/21           16\n",
       "19  colombia  10/01/21            5\n",
       "20   ecuador  01/01/21           18\n",
       "21   ecuador  02/01/21           15\n",
       "22   ecuador  03/01/21            7\n",
       "23   ecuador  04/01/21            5\n",
       "24   ecuador  05/01/21           17\n",
       "25   ecuador  06/01/21           12\n",
       "26   ecuador  07/01/21           17\n",
       "27   ecuador  08/01/21           17\n",
       "28   ecuador  09/01/21           12\n",
       "29   ecuador  10/01/21            9\n",
       "30    mexico  01/01/21            6\n",
       "31    mexico  02/01/21           11\n",
       "32    mexico  03/01/21           20\n",
       "33    mexico  04/01/21            7\n",
       "34    mexico  05/01/21           16\n",
       "35    mexico  06/01/21           20\n",
       "36    mexico  07/01/21           19\n",
       "37    mexico  08/01/21           16\n",
       "38    mexico  09/01/21            9\n",
       "39    mexico  10/01/21           10\n",
       "40      peru  01/01/21            7\n",
       "41      peru  02/01/21           19\n",
       "42      peru  03/01/21           17\n",
       "43      peru  04/01/21            7\n",
       "44      peru  05/01/21           11\n",
       "45      peru  06/01/21            9\n",
       "46      peru  07/01/21            5\n",
       "47      peru  08/01/21           17\n",
       "48      peru  09/01/21            7\n",
       "49      peru  10/01/21           11"
      ]
     },
     "execution_count": 48,
     "metadata": {},
     "output_type": "execute_result"
    }
   ],
   "source": [
    "df"
   ]
  },
  {
   "cell_type": "code",
   "execution_count": 49,
   "metadata": {
    "id": "ABPcqvc-srX4",
    "scrolled": true
   },
   "outputs": [
    {
     "data": {
      "text/plain": [
       "pais\n",
       "brasil      18.4\n",
       "colombia    12.9\n",
       "ecuador     12.9\n",
       "mexico      13.4\n",
       "peru        11.0\n",
       "Name: temperatura, dtype: float64"
      ]
     },
     "execution_count": 49,
     "metadata": {},
     "output_type": "execute_result"
    }
   ],
   "source": [
    "df.groupby(['pais'])['temperatura'].mean()"
   ]
  },
  {
   "cell_type": "code",
   "execution_count": 50,
   "metadata": {
    "id": "WJpoxMhbsrX4"
   },
   "outputs": [
    {
     "data": {
      "text/plain": [
       "pais\n",
       "brasil      6\n",
       "colombia    5\n",
       "ecuador     5\n",
       "mexico      6\n",
       "peru        5\n",
       "Name: temperatura, dtype: int64"
      ]
     },
     "execution_count": 50,
     "metadata": {},
     "output_type": "execute_result"
    }
   ],
   "source": [
    "df.groupby(['pais'])['temperatura'].min()"
   ]
  },
  {
   "cell_type": "code",
   "execution_count": 51,
   "metadata": {
    "id": "IaZaCdCjsrX4"
   },
   "outputs": [
    {
     "data": {
      "text/plain": [
       "pais\n",
       "brasil      28\n",
       "colombia    20\n",
       "ecuador     18\n",
       "mexico      20\n",
       "peru        19\n",
       "Name: temperatura, dtype: int64"
      ]
     },
     "execution_count": 51,
     "metadata": {},
     "output_type": "execute_result"
    }
   ],
   "source": [
    "df.groupby(['pais'])['temperatura'].max()"
   ]
  },
  {
   "cell_type": "markdown",
   "metadata": {
    "id": "KPnvOuvSsrX4"
   },
   "source": [
    "## Capítulo 3 - Visualización"
   ]
  },
  {
   "cell_type": "code",
   "execution_count": 52,
   "metadata": {
    "id": "KOhPfmWvsrX4"
   },
   "outputs": [
    {
     "name": "stderr",
     "output_type": "stream",
     "text": [
      "Matplotlib is building the font cache; this may take a moment.\n"
     ]
    }
   ],
   "source": [
    "import matplotlib.pyplot as plt"
   ]
  },
  {
   "cell_type": "code",
   "execution_count": 53,
   "metadata": {
    "id": "6B4wzQ21srX5"
   },
   "outputs": [],
   "source": [
    "temp_promedio = df.groupby(['pais'])['temperatura'].mean()"
   ]
  },
  {
   "cell_type": "code",
   "execution_count": 54,
   "metadata": {
    "id": "lV0BBw_jsrX5"
   },
   "outputs": [
    {
     "data": {
      "text/plain": [
       "pais\n",
       "brasil      18.4\n",
       "colombia    12.9\n",
       "ecuador     12.9\n",
       "mexico      13.4\n",
       "peru        11.0\n",
       "Name: temperatura, dtype: float64"
      ]
     },
     "execution_count": 54,
     "metadata": {},
     "output_type": "execute_result"
    }
   ],
   "source": [
    "temp_promedio"
   ]
  },
  {
   "cell_type": "code",
   "execution_count": 55,
   "metadata": {
    "id": "01nAu4t2srX5"
   },
   "outputs": [
    {
     "data": {
      "text/plain": [
       "pandas.core.series.Series"
      ]
     },
     "execution_count": 55,
     "metadata": {},
     "output_type": "execute_result"
    }
   ],
   "source": [
    "type(temp_promedio)"
   ]
  },
  {
   "cell_type": "code",
   "execution_count": 56,
   "metadata": {
    "id": "iM8NUOj0srX5"
   },
   "outputs": [],
   "source": [
    "temp_promedio = pd.DataFrame(temp_promedio).reset_index()"
   ]
  },
  {
   "cell_type": "code",
   "execution_count": 57,
   "metadata": {
    "id": "8XlhiWm7srX5",
    "scrolled": true
   },
   "outputs": [
    {
     "data": {
      "text/html": [
       "<div>\n",
       "<style scoped>\n",
       "    .dataframe tbody tr th:only-of-type {\n",
       "        vertical-align: middle;\n",
       "    }\n",
       "\n",
       "    .dataframe tbody tr th {\n",
       "        vertical-align: top;\n",
       "    }\n",
       "\n",
       "    .dataframe thead th {\n",
       "        text-align: right;\n",
       "    }\n",
       "</style>\n",
       "<table border=\"1\" class=\"dataframe\">\n",
       "  <thead>\n",
       "    <tr style=\"text-align: right;\">\n",
       "      <th></th>\n",
       "      <th>pais</th>\n",
       "      <th>temperatura</th>\n",
       "    </tr>\n",
       "  </thead>\n",
       "  <tbody>\n",
       "    <tr>\n",
       "      <th>0</th>\n",
       "      <td>brasil</td>\n",
       "      <td>18.4</td>\n",
       "    </tr>\n",
       "    <tr>\n",
       "      <th>1</th>\n",
       "      <td>colombia</td>\n",
       "      <td>12.9</td>\n",
       "    </tr>\n",
       "    <tr>\n",
       "      <th>2</th>\n",
       "      <td>ecuador</td>\n",
       "      <td>12.9</td>\n",
       "    </tr>\n",
       "    <tr>\n",
       "      <th>3</th>\n",
       "      <td>mexico</td>\n",
       "      <td>13.4</td>\n",
       "    </tr>\n",
       "    <tr>\n",
       "      <th>4</th>\n",
       "      <td>peru</td>\n",
       "      <td>11.0</td>\n",
       "    </tr>\n",
       "  </tbody>\n",
       "</table>\n",
       "</div>"
      ],
      "text/plain": [
       "       pais  temperatura\n",
       "0    brasil         18.4\n",
       "1  colombia         12.9\n",
       "2   ecuador         12.9\n",
       "3    mexico         13.4\n",
       "4      peru         11.0"
      ]
     },
     "execution_count": 57,
     "metadata": {},
     "output_type": "execute_result"
    }
   ],
   "source": [
    "temp_promedio"
   ]
  },
  {
   "cell_type": "code",
   "execution_count": 58,
   "metadata": {
    "id": "xKwqC6BxsrX5",
    "scrolled": true
   },
   "outputs": [
    {
     "data": {
      "image/png": "[encoded data removed]",
      "text/plain": [
       "<Figure size 432x288 with 1 Axes>"
      ]
     },
     "metadata": {
      "needs_background": "light"
     },
     "output_type": "display_data"
    }
   ],
   "source": [
    "# fig = plt.figure(figsize = (10, 5))\n",
    "\n",
    "x=temp_promedio.pais\n",
    "y=temp_promedio.temperatura\n",
    "\n",
    "\n",
    "plt.plot(x, y)\n",
    "plt.show()"
   ]
  },
  {
   "cell_type": "code",
   "execution_count": 59,
   "metadata": {
    "id": "RNEpVNb9srX5"
   },
   "outputs": [
    {
     "data": {
      "image/png": "[encoded data removed]",
      "text/plain": [
       "<Figure size 432x288 with 1 Axes>"
      ]
     },
     "metadata": {
      "needs_background": "light"
     },
     "output_type": "display_data"
    }
   ],
   "source": [
    "# fig = plt.figure(figsize = (10, 5))\n",
    "\n",
    "x=temp_promedio.pais\n",
    "y=temp_promedio.temperatura\n",
    "\n",
    "\n",
    "plt.bar(x, y)\n",
    "plt.show()"
   ]
  },
  {
   "cell_type": "code",
   "execution_count": 60,
   "metadata": {
    "id": "JmrKZ-L4srX6",
    "scrolled": true
   },
   "outputs": [
    {
     "data": {
      "image/png": "[encoded data removed]",
      "text/plain": [
       "<Figure size 720x360 with 1 Axes>"
      ]
     },
     "metadata": {
      "needs_background": "light"
     },
     "output_type": "display_data"
    }
   ],
   "source": [
    "fig = plt.figure(figsize = (10, 5))\n",
    "\n",
    "x=temp_promedio.pais\n",
    "y=temp_promedio.temperatura\n",
    "\n",
    "\n",
    "plt.bar(x, y)\n",
    "\n",
    "plt.xlabel(\"Países\")\n",
    "plt.ylabel(\"Temperatura - C\")\n",
    "plt.title(\"Temperatura promedio\")\n",
    "plt.show()"
   ]
  },
  {
   "cell_type": "code",
   "execution_count": 61,
   "metadata": {
    "id": "M5uUnjPQsrX6",
    "scrolled": true
   },
   "outputs": [
    {
     "data": {
      "text/html": [
       "<div>\n",
       "<style scoped>\n",
       "    .dataframe tbody tr th:only-of-type {\n",
       "        vertical-align: middle;\n",
       "    }\n",
       "\n",
       "    .dataframe tbody tr th {\n",
       "        vertical-align: top;\n",
       "    }\n",
       "\n",
       "    .dataframe thead th {\n",
       "        text-align: right;\n",
       "    }\n",
       "</style>\n",
       "<table border=\"1\" class=\"dataframe\">\n",
       "  <thead>\n",
       "    <tr style=\"text-align: right;\">\n",
       "      <th></th>\n",
       "      <th>pais</th>\n",
       "      <th>fecha</th>\n",
       "      <th>temperatura</th>\n",
       "    </tr>\n",
       "  </thead>\n",
       "  <tbody>\n",
       "    <tr>\n",
       "      <th>0</th>\n",
       "      <td>brasil</td>\n",
       "      <td>01/01/21</td>\n",
       "      <td>27</td>\n",
       "    </tr>\n",
       "    <tr>\n",
       "      <th>1</th>\n",
       "      <td>brasil</td>\n",
       "      <td>02/01/21</td>\n",
       "      <td>24</td>\n",
       "    </tr>\n",
       "    <tr>\n",
       "      <th>2</th>\n",
       "      <td>brasil</td>\n",
       "      <td>03/01/21</td>\n",
       "      <td>28</td>\n",
       "    </tr>\n",
       "    <tr>\n",
       "      <th>3</th>\n",
       "      <td>brasil</td>\n",
       "      <td>04/01/21</td>\n",
       "      <td>6</td>\n",
       "    </tr>\n",
       "    <tr>\n",
       "      <th>4</th>\n",
       "      <td>brasil</td>\n",
       "      <td>05/01/21</td>\n",
       "      <td>15</td>\n",
       "    </tr>\n",
       "  </tbody>\n",
       "</table>\n",
       "</div>"
      ],
      "text/plain": [
       "     pais     fecha  temperatura\n",
       "0  brasil  01/01/21           27\n",
       "1  brasil  02/01/21           24\n",
       "2  brasil  03/01/21           28\n",
       "3  brasil  04/01/21            6\n",
       "4  brasil  05/01/21           15"
      ]
     },
     "execution_count": 61,
     "metadata": {},
     "output_type": "execute_result"
    }
   ],
   "source": [
    "df.head(5)"
   ]
  },
  {
   "cell_type": "code",
   "execution_count": 62,
   "metadata": {
    "id": "8c45_OuWsrX6"
   },
   "outputs": [
    {
     "data": {
      "text/plain": [
       "array(['brasil', 'colombia', 'ecuador', 'mexico', 'peru'], dtype=object)"
      ]
     },
     "execution_count": 62,
     "metadata": {},
     "output_type": "execute_result"
    }
   ],
   "source": [
    "df['pais'].unique()"
   ]
  },
  {
   "cell_type": "code",
   "execution_count": 63,
   "metadata": {
    "id": "9rFxCl-osrX6"
   },
   "outputs": [
    {
     "data": {
      "image/png": "[encoded data removed]",
      "text/plain": [
       "<Figure size 720x360 with 1 Axes>"
      ]
     },
     "metadata": {
      "needs_background": "light"
     },
     "output_type": "display_data"
    }
   ],
   "source": [
    "fig = plt.figure(figsize = (10, 5))\n",
    "\n",
    "fechas = df.fecha.unique()\n",
    "\n",
    "brasil = df[df.pais == 'brasil']['temperatura']\n",
    "colombia = df[df.pais == 'colombia']['temperatura']\n",
    "ecuador = df[df.pais == 'ecuador']['temperatura']\n",
    "mexico = df[df.pais == 'mexico']['temperatura']\n",
    "peru = df[df.pais == 'peru']['temperatura']\n",
    "\n",
    "plt.plot(fechas, brasil, color='blue', label='Brasil')\n",
    "plt.plot(fechas, colombia, color='lightgrey', label='Colombia')\n",
    "plt.plot(fechas, ecuador, color='yellow', label='Ecuador')\n",
    "plt.plot(fechas, mexico, color='green', label='Mexico')\n",
    "plt.plot(fechas, peru, color='red', label='Peru')\n",
    "\n",
    "plt.legend()\n",
    "plt.show()"
   ]
  },
  {
   "cell_type": "code",
   "execution_count": 64,
   "metadata": {
    "id": "OyOSWGDGsrX6"
   },
   "outputs": [
    {
     "data": {
      "image/png": "[encoded data removed]",
      "text/plain": [
       "<Figure size 720x360 with 1 Axes>"
      ]
     },
     "metadata": {
      "needs_background": "light"
     },
     "output_type": "display_data"
    }
   ],
   "source": [
    "fig = plt.figure(figsize = (10, 5))\n",
    "\n",
    "fechas = df.fecha.unique()\n",
    "\n",
    "brasil = df[df.pais == 'brasil']['temperatura']\n",
    "colombia = df[df.pais == 'colombia']['temperatura']\n",
    "ecuador = df[df.pais == 'ecuador']['temperatura']\n",
    "mexico = df[df.pais == 'mexico']['temperatura']\n",
    "peru = df[df.pais == 'peru']['temperatura']\n",
    "\n",
    "plt.plot(fechas, brasil, color='blue', linestyle='--', marker='.', label='Brasil')\n",
    "plt.plot(fechas, colombia, color='lightgrey', label='Colombia')\n",
    "plt.plot(fechas, ecuador, color='yellow', label='Ecuador')\n",
    "plt.plot(fechas, mexico, color='green', label='Mexico')\n",
    "plt.plot(fechas, peru, color='red', label='Peru')\n",
    "\n",
    "plt.legend()\n",
    "plt.show()"
   ]
  },
  {
   "cell_type": "code",
   "execution_count": null,
   "metadata": {},
   "outputs": [],
   "source": []
  }
 ],
 "metadata": {
  "colab": {
   "name": "Introducción a Python para Ciencia de Datos - Tanya Ramírez [Netzun] - Clase.ipynb",
   "provenance": []
  },
  "kernelspec": {
   "display_name": "Python 3 (ipykernel)",
   "language": "python",
   "name": "python3"
  },
  "language_info": {
   "codemirror_mode": {
    "name": "ipython",
    "version": 3
   },
   "file_extension": ".py",
   "mimetype": "text/x-python",
   "name": "python",
   "nbconvert_exporter": "python",
   "pygments_lexer": "ipython3",
   "version": "3.9.12"
  }
 },
 "nbformat": 4,
 "nbformat_minor": 1
}
